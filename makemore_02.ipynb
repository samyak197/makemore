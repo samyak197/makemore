{
  "nbformat": 4,
  "nbformat_minor": 0,
  "metadata": {
    "colab": {
      "provenance": []
    },
    "kernelspec": {
      "name": "python3",
      "display_name": "Python 3"
    },
    "language_info": {
      "name": "python"
    }
  },
  "cells": [
    {
      "cell_type": "code",
      "execution_count": 55,
      "metadata": {
        "id": "7XD1Km-BNL9M"
      },
      "outputs": [],
      "source": [
        "import torch\n",
        "import torch.nn.functional as F\n",
        "import matplotlib.pyplot as plt"
      ]
    },
    {
      "cell_type": "code",
      "source": [
        "!wget https://gist.github.com/mbejda/7f86ca901fe41bc14a63/archive/38adb475c14a3f44df9999c1541f3a72f472b30d.zip\n",
        "!unzip 38adb475c14a3f44df9999c1541f3a72f472b30d.zip\n",
        "import pandas as pd\n",
        "file_path = '/content/7f86ca901fe41bc14a63-38adb475c14a3f44df9999c1541f3a72f472b30d/Indian-Male-Names.csv'\n",
        "df = pd.read_csv(file_path)\n",
        "names = df['name']\n",
        "output_file = 'names.txt'\n",
        "names.to_csv(output_file, index=False, header=False)"
      ],
      "metadata": {
        "colab": {
          "base_uri": "https://localhost:8080/"
        },
        "id": "VY1U6E3KPZ7Z",
        "outputId": "a81420e1-d1c8-45e9-ee27-0429ff30c6b4"
      },
      "execution_count": 56,
      "outputs": [
        {
          "output_type": "stream",
          "name": "stdout",
          "text": [
            "--2024-06-01 19:59:14--  https://gist.github.com/mbejda/7f86ca901fe41bc14a63/archive/38adb475c14a3f44df9999c1541f3a72f472b30d.zip\n",
            "Resolving gist.github.com (gist.github.com)... 20.27.177.113\n",
            "Connecting to gist.github.com (gist.github.com)|20.27.177.113|:443... connected.\n",
            "HTTP request sent, awaiting response... 302 Found\n",
            "Location: https://codeload.github.com/gist/7f86ca901fe41bc14a63/zip/38adb475c14a3f44df9999c1541f3a72f472b30d [following]\n",
            "--2024-06-01 19:59:14--  https://codeload.github.com/gist/7f86ca901fe41bc14a63/zip/38adb475c14a3f44df9999c1541f3a72f472b30d\n",
            "Resolving codeload.github.com (codeload.github.com)... 20.27.177.114\n",
            "Connecting to codeload.github.com (codeload.github.com)|20.27.177.114|:443... connected.\n",
            "HTTP request sent, awaiting response... 200 OK\n",
            "Length: unspecified [application/zip]\n",
            "Saving to: ‘38adb475c14a3f44df9999c1541f3a72f472b30d.zip.1’\n",
            "\n",
            "38adb475c14a3f44df9     [ <=>                ]  68.09K  --.-KB/s    in 0.1s    \n",
            "\n",
            "2024-06-01 19:59:15 (713 KB/s) - ‘38adb475c14a3f44df9999c1541f3a72f472b30d.zip.1’ saved [69729]\n",
            "\n",
            "Archive:  38adb475c14a3f44df9999c1541f3a72f472b30d.zip\n",
            "38adb475c14a3f44df9999c1541f3a72f472b30d\n",
            "replace 7f86ca901fe41bc14a63-38adb475c14a3f44df9999c1541f3a72f472b30d/Indian-Male-Names.csv? [y]es, [n]o, [A]ll, [N]one, [r]ename: Y\n",
            "  inflating: 7f86ca901fe41bc14a63-38adb475c14a3f44df9999c1541f3a72f472b30d/Indian-Male-Names.csv  \n"
          ]
        }
      ]
    },
    {
      "cell_type": "code",
      "source": [
        "alphabets = set(\"abcdefghijklmnopqrstuvwxyz\")\n",
        "words=open('names.txt','r').read().splitlines()\n",
        "words = [name for name in words if all(char in alphabets for char in name.lower())]\n",
        "words[0]=\"samyak\"\n",
        "words[:8]"
      ],
      "metadata": {
        "colab": {
          "base_uri": "https://localhost:8080/"
        },
        "id": "udkyUQ-hNgJc",
        "outputId": "c96fdefc-3fd3-4189-d1b8-105067230fd9"
      },
      "execution_count": 57,
      "outputs": [
        {
          "output_type": "execute_result",
          "data": {
            "text/plain": [
              "['samyak', 'amit', 'kushal', 'kasid', 'sanjay', 'abhi', 'chanderpal', 'aman']"
            ]
          },
          "metadata": {},
          "execution_count": 57
        }
      ]
    },
    {
      "cell_type": "code",
      "source": [
        "len(words)"
      ],
      "metadata": {
        "colab": {
          "base_uri": "https://localhost:8080/"
        },
        "id": "FOGYjZBMNyI3",
        "outputId": "8829522d-6e8d-427c-c707-f13761fb2fce"
      },
      "execution_count": 58,
      "outputs": [
        {
          "output_type": "execute_result",
          "data": {
            "text/plain": [
              "6429"
            ]
          },
          "metadata": {},
          "execution_count": 58
        }
      ]
    },
    {
      "cell_type": "code",
      "source": [
        "chars=sorted(list(set(''.join(words))))\n",
        "stoi= {s:i+1 for i,s in enumerate(chars)}\n",
        "stoi['.']=0\n",
        "itos={i:s for s,i in stoi.items()}\n",
        "itos"
      ],
      "metadata": {
        "colab": {
          "base_uri": "https://localhost:8080/"
        },
        "id": "FyotaealNzV2",
        "outputId": "2c40ce02-0b50-4492-9c01-503936c14e5f"
      },
      "execution_count": 59,
      "outputs": [
        {
          "output_type": "execute_result",
          "data": {
            "text/plain": [
              "{1: 'a',\n",
              " 2: 'b',\n",
              " 3: 'c',\n",
              " 4: 'd',\n",
              " 5: 'e',\n",
              " 6: 'f',\n",
              " 7: 'g',\n",
              " 8: 'h',\n",
              " 9: 'i',\n",
              " 10: 'j',\n",
              " 11: 'k',\n",
              " 12: 'l',\n",
              " 13: 'm',\n",
              " 14: 'n',\n",
              " 15: 'o',\n",
              " 16: 'p',\n",
              " 17: 'q',\n",
              " 18: 'r',\n",
              " 19: 's',\n",
              " 20: 't',\n",
              " 21: 'u',\n",
              " 22: 'v',\n",
              " 23: 'w',\n",
              " 24: 'x',\n",
              " 25: 'y',\n",
              " 26: 'z',\n",
              " 0: '.'}"
            ]
          },
          "metadata": {},
          "execution_count": 59
        }
      ]
    },
    {
      "cell_type": "code",
      "source": [
        "block_size=3\n",
        "\n",
        "X,Y=[],[]\n",
        "\n",
        "for w in words[:5]:\n",
        "  print(w)\n",
        "  context=[0]*block_size\n",
        "  for ch in w+ '.':\n",
        "    ix=stoi[ch]\n",
        "    X.append(context)\n",
        "    Y.append(ix)\n",
        "    print(''.join(itos[i] for i in context),'--->', itos[ix])\n",
        "    context=context[1:]+[ix]\n",
        "X=torch.tensor(X)\n",
        "Y=torch.tensor(Y)"
      ],
      "metadata": {
        "colab": {
          "base_uri": "https://localhost:8080/"
        },
        "id": "-iu0bd1cORIe",
        "outputId": "87332304-0ea7-42e8-d0a8-3512ba0b2a48"
      },
      "execution_count": 60,
      "outputs": [
        {
          "output_type": "stream",
          "name": "stdout",
          "text": [
            "samyak\n",
            "... ---> s\n",
            "..s ---> a\n",
            ".sa ---> m\n",
            "sam ---> y\n",
            "amy ---> a\n",
            "mya ---> k\n",
            "yak ---> .\n",
            "amit\n",
            "... ---> a\n",
            "..a ---> m\n",
            ".am ---> i\n",
            "ami ---> t\n",
            "mit ---> .\n",
            "kushal\n",
            "... ---> k\n",
            "..k ---> u\n",
            ".ku ---> s\n",
            "kus ---> h\n",
            "ush ---> a\n",
            "sha ---> l\n",
            "hal ---> .\n",
            "kasid\n",
            "... ---> k\n",
            "..k ---> a\n",
            ".ka ---> s\n",
            "kas ---> i\n",
            "asi ---> d\n",
            "sid ---> .\n",
            "sanjay\n",
            "... ---> s\n",
            "..s ---> a\n",
            ".sa ---> n\n",
            "san ---> j\n",
            "anj ---> a\n",
            "nja ---> y\n",
            "jay ---> .\n"
          ]
        }
      ]
    },
    {
      "cell_type": "code",
      "source": [
        "X.shape,X.dtype,Y.shape,Y.dtype"
      ],
      "metadata": {
        "colab": {
          "base_uri": "https://localhost:8080/"
        },
        "id": "xEJnsBsWSojf",
        "outputId": "dbfa372e-0356-47a5-e9a7-6ec10ded28be"
      },
      "execution_count": 61,
      "outputs": [
        {
          "output_type": "execute_result",
          "data": {
            "text/plain": [
              "(torch.Size([32, 3]), torch.int64, torch.Size([32]), torch.int64)"
            ]
          },
          "metadata": {},
          "execution_count": 61
        }
      ]
    },
    {
      "cell_type": "code",
      "source": [
        "X"
      ],
      "metadata": {
        "colab": {
          "base_uri": "https://localhost:8080/"
        },
        "id": "l9QIzbEDFvM7",
        "outputId": "19b317d0-526d-4d72-b626-04c220918b93"
      },
      "execution_count": 62,
      "outputs": [
        {
          "output_type": "execute_result",
          "data": {
            "text/plain": [
              "tensor([[ 0,  0,  0],\n",
              "        [ 0,  0, 19],\n",
              "        [ 0, 19,  1],\n",
              "        [19,  1, 13],\n",
              "        [ 1, 13, 25],\n",
              "        [13, 25,  1],\n",
              "        [25,  1, 11],\n",
              "        [ 0,  0,  0],\n",
              "        [ 0,  0,  1],\n",
              "        [ 0,  1, 13],\n",
              "        [ 1, 13,  9],\n",
              "        [13,  9, 20],\n",
              "        [ 0,  0,  0],\n",
              "        [ 0,  0, 11],\n",
              "        [ 0, 11, 21],\n",
              "        [11, 21, 19],\n",
              "        [21, 19,  8],\n",
              "        [19,  8,  1],\n",
              "        [ 8,  1, 12],\n",
              "        [ 0,  0,  0],\n",
              "        [ 0,  0, 11],\n",
              "        [ 0, 11,  1],\n",
              "        [11,  1, 19],\n",
              "        [ 1, 19,  9],\n",
              "        [19,  9,  4],\n",
              "        [ 0,  0,  0],\n",
              "        [ 0,  0, 19],\n",
              "        [ 0, 19,  1],\n",
              "        [19,  1, 14],\n",
              "        [ 1, 14, 10],\n",
              "        [14, 10,  1],\n",
              "        [10,  1, 25]])"
            ]
          },
          "metadata": {},
          "execution_count": 62
        }
      ]
    },
    {
      "cell_type": "code",
      "source": [
        "C=torch.randn((27,2))"
      ],
      "metadata": {
        "id": "ZQisukVTSRy3"
      },
      "execution_count": 63,
      "outputs": []
    },
    {
      "cell_type": "code",
      "source": [
        "C.shape"
      ],
      "metadata": {
        "colab": {
          "base_uri": "https://localhost:8080/"
        },
        "id": "rk_CO_LdAO4c",
        "outputId": "17332c2d-7b35-40e3-8e62-986f3c424d6c"
      },
      "execution_count": 64,
      "outputs": [
        {
          "output_type": "execute_result",
          "data": {
            "text/plain": [
              "torch.Size([27, 2])"
            ]
          },
          "metadata": {},
          "execution_count": 64
        }
      ]
    },
    {
      "cell_type": "code",
      "source": [
        "C[:5]"
      ],
      "metadata": {
        "colab": {
          "base_uri": "https://localhost:8080/"
        },
        "id": "PIpdHWFpT8rX",
        "outputId": "031a5b79-c0c1-4cf0-8278-4e97d862cdce"
      },
      "execution_count": 65,
      "outputs": [
        {
          "output_type": "execute_result",
          "data": {
            "text/plain": [
              "tensor([[ 0.6570, -0.7407],\n",
              "        [ 0.7721,  0.4242],\n",
              "        [-0.6257, -1.9213],\n",
              "        [-0.0066, -1.2138],\n",
              "        [ 1.8262, -0.2444]])"
            ]
          },
          "metadata": {},
          "execution_count": 65
        }
      ]
    },
    {
      "cell_type": "code",
      "source": [
        "X.shape"
      ],
      "metadata": {
        "colab": {
          "base_uri": "https://localhost:8080/"
        },
        "id": "wqFZMv8cATFc",
        "outputId": "369ae16c-39e2-410d-e49d-a52221615b40"
      },
      "execution_count": 66,
      "outputs": [
        {
          "output_type": "execute_result",
          "data": {
            "text/plain": [
              "torch.Size([32, 3])"
            ]
          },
          "metadata": {},
          "execution_count": 66
        }
      ]
    },
    {
      "cell_type": "code",
      "source": [
        "C[5]"
      ],
      "metadata": {
        "colab": {
          "base_uri": "https://localhost:8080/"
        },
        "id": "RG-2MhYBTD1-",
        "outputId": "f913f0e5-8132-430f-9ff1-48113117b354"
      },
      "execution_count": 67,
      "outputs": [
        {
          "output_type": "execute_result",
          "data": {
            "text/plain": [
              "tensor([-0.9339, -1.4274])"
            ]
          },
          "metadata": {},
          "execution_count": 67
        }
      ]
    },
    {
      "cell_type": "code",
      "source": [
        "C[X].shape"
      ],
      "metadata": {
        "colab": {
          "base_uri": "https://localhost:8080/"
        },
        "id": "GsJUdsyvVmIk",
        "outputId": "315974ac-ea16-4b9d-dfb0-3458610516b9"
      },
      "execution_count": 68,
      "outputs": [
        {
          "output_type": "execute_result",
          "data": {
            "text/plain": [
              "torch.Size([32, 3, 2])"
            ]
          },
          "metadata": {},
          "execution_count": 68
        }
      ]
    },
    {
      "cell_type": "code",
      "source": [
        "X[13,2]"
      ],
      "metadata": {
        "colab": {
          "base_uri": "https://localhost:8080/"
        },
        "id": "BsbjNLjXVuhs",
        "outputId": "ad1608c4-9c80-4af0-efa4-d8b1b5c19ead"
      },
      "execution_count": 69,
      "outputs": [
        {
          "output_type": "execute_result",
          "data": {
            "text/plain": [
              "tensor(11)"
            ]
          },
          "metadata": {},
          "execution_count": 69
        }
      ]
    },
    {
      "cell_type": "code",
      "source": [
        "C[11]"
      ],
      "metadata": {
        "colab": {
          "base_uri": "https://localhost:8080/"
        },
        "id": "9rTTimNc_aWA",
        "outputId": "2ed9457f-d29a-4714-c7e4-05fdc2a1348e"
      },
      "execution_count": 70,
      "outputs": [
        {
          "output_type": "execute_result",
          "data": {
            "text/plain": [
              "tensor([ 1.5555, -2.5021])"
            ]
          },
          "metadata": {},
          "execution_count": 70
        }
      ]
    },
    {
      "cell_type": "code",
      "source": [
        "C[X][13]"
      ],
      "metadata": {
        "colab": {
          "base_uri": "https://localhost:8080/"
        },
        "id": "PBCI-ZFJA9Dy",
        "outputId": "86f781b3-1336-4883-816d-0499147603b7"
      },
      "execution_count": 71,
      "outputs": [
        {
          "output_type": "execute_result",
          "data": {
            "text/plain": [
              "tensor([[ 0.6570, -0.7407],\n",
              "        [ 0.6570, -0.7407],\n",
              "        [ 1.5555, -2.5021]])"
            ]
          },
          "metadata": {},
          "execution_count": 71
        }
      ]
    },
    {
      "cell_type": "code",
      "source": [
        "C[X][13,2]"
      ],
      "metadata": {
        "colab": {
          "base_uri": "https://localhost:8080/"
        },
        "id": "byKqZCk6Vx5-",
        "outputId": "7b4a7553-93b3-4e0a-e5d0-f03b456ce64a"
      },
      "execution_count": 72,
      "outputs": [
        {
          "output_type": "execute_result",
          "data": {
            "text/plain": [
              "tensor([ 1.5555, -2.5021])"
            ]
          },
          "metadata": {},
          "execution_count": 72
        }
      ]
    },
    {
      "cell_type": "code",
      "source": [
        "C[11]"
      ],
      "metadata": {
        "colab": {
          "base_uri": "https://localhost:8080/"
        },
        "id": "3uFhrqliV-OF",
        "outputId": "3359c600-1752-44d7-b744-cf2417d76a0b"
      },
      "execution_count": 73,
      "outputs": [
        {
          "output_type": "execute_result",
          "data": {
            "text/plain": [
              "tensor([ 1.5555, -2.5021])"
            ]
          },
          "metadata": {},
          "execution_count": 73
        }
      ]
    },
    {
      "cell_type": "code",
      "source": [
        "C[X][1]"
      ],
      "metadata": {
        "colab": {
          "base_uri": "https://localhost:8080/"
        },
        "id": "d-8o4sw8-7FG",
        "outputId": "353e99d6-0fbd-4bb6-cbe0-a5fd58524a1b"
      },
      "execution_count": 74,
      "outputs": [
        {
          "output_type": "execute_result",
          "data": {
            "text/plain": [
              "tensor([[ 0.6570, -0.7407],\n",
              "        [ 0.6570, -0.7407],\n",
              "        [-0.7610, -0.2370]])"
            ]
          },
          "metadata": {},
          "execution_count": 74
        }
      ]
    },
    {
      "cell_type": "code",
      "source": [
        "X[1]"
      ],
      "metadata": {
        "colab": {
          "base_uri": "https://localhost:8080/"
        },
        "id": "92eEikh8_Axy",
        "outputId": "df245627-52b5-4405-b4f1-525e42bc01a0"
      },
      "execution_count": 75,
      "outputs": [
        {
          "output_type": "execute_result",
          "data": {
            "text/plain": [
              "tensor([ 0,  0, 19])"
            ]
          },
          "metadata": {},
          "execution_count": 75
        }
      ]
    },
    {
      "cell_type": "code",
      "source": [
        "C[X].shape"
      ],
      "metadata": {
        "colab": {
          "base_uri": "https://localhost:8080/"
        },
        "id": "0JTPrF3V-43_",
        "outputId": "9d2a1285-1392-48e7-cee0-ffe2bb08f8c0"
      },
      "execution_count": 76,
      "outputs": [
        {
          "output_type": "execute_result",
          "data": {
            "text/plain": [
              "torch.Size([32, 3, 2])"
            ]
          },
          "metadata": {},
          "execution_count": 76
        }
      ]
    },
    {
      "cell_type": "code",
      "source": [
        "emb=C[X]\n",
        "emb.shape"
      ],
      "metadata": {
        "colab": {
          "base_uri": "https://localhost:8080/"
        },
        "id": "hqMP3gC2BDEZ",
        "outputId": "5571b7de-0261-48a7-bd3c-eb0bb0600d34"
      },
      "execution_count": 77,
      "outputs": [
        {
          "output_type": "execute_result",
          "data": {
            "text/plain": [
              "torch.Size([32, 3, 2])"
            ]
          },
          "metadata": {},
          "execution_count": 77
        }
      ]
    },
    {
      "cell_type": "code",
      "source": [
        "W1=torch.randn((6,100))\n",
        "b1=torch.randn(100)"
      ],
      "metadata": {
        "id": "64lDz756BV4F"
      },
      "execution_count": 78,
      "outputs": []
    },
    {
      "cell_type": "code",
      "source": [
        "emb[1]"
      ],
      "metadata": {
        "colab": {
          "base_uri": "https://localhost:8080/"
        },
        "id": "8Wqw46aeCKRW",
        "outputId": "313f4cc4-f041-44ec-a385-212da86ab4f8"
      },
      "execution_count": 79,
      "outputs": [
        {
          "output_type": "execute_result",
          "data": {
            "text/plain": [
              "tensor([[ 0.6570, -0.7407],\n",
              "        [ 0.6570, -0.7407],\n",
              "        [-0.7610, -0.2370]])"
            ]
          },
          "metadata": {},
          "execution_count": 79
        }
      ]
    },
    {
      "cell_type": "code",
      "source": [
        "emb.shape"
      ],
      "metadata": {
        "colab": {
          "base_uri": "https://localhost:8080/"
        },
        "id": "cJcPl1RwDtcl",
        "outputId": "079a18a9-3833-472e-ef30-509fdd260c36"
      },
      "execution_count": 80,
      "outputs": [
        {
          "output_type": "execute_result",
          "data": {
            "text/plain": [
              "torch.Size([32, 3, 2])"
            ]
          },
          "metadata": {},
          "execution_count": 80
        }
      ]
    },
    {
      "cell_type": "code",
      "source": [
        "h=torch.tanh(emb.view(-1,6) @ W1 +b1)\n",
        "h"
      ],
      "metadata": {
        "colab": {
          "base_uri": "https://localhost:8080/"
        },
        "id": "I3WgdjcfETQq",
        "outputId": "8a4e7df9-526d-4abd-d2c1-a3ed36df1e10"
      },
      "execution_count": 81,
      "outputs": [
        {
          "output_type": "execute_result",
          "data": {
            "text/plain": [
              "tensor([[-0.9611,  0.9961,  0.9714,  ...,  0.9923,  0.7413,  0.9974],\n",
              "        [-0.9949,  0.9531,  0.8612,  ...,  0.6906,  0.7488,  0.9997],\n",
              "        [-0.7408, -0.6265, -0.6441,  ...,  0.4002, -0.8105,  0.9275],\n",
              "        ...,\n",
              "        [-0.9887,  0.9583,  0.9959,  ..., -0.5827,  0.0818,  1.0000],\n",
              "        [-0.6656, -0.9447, -0.9162,  ...,  0.9264, -0.8326,  0.7444],\n",
              "        [-0.6574,  0.9636, -0.9133,  ..., -0.9909,  0.9293,  0.9958]])"
            ]
          },
          "metadata": {},
          "execution_count": 81
        }
      ]
    },
    {
      "cell_type": "code",
      "source": [
        "h.shape"
      ],
      "metadata": {
        "colab": {
          "base_uri": "https://localhost:8080/"
        },
        "id": "mvZSJ0X4EV6w",
        "outputId": "48117206-1b90-4319-a1f0-3c7b99adf8b3"
      },
      "execution_count": 82,
      "outputs": [
        {
          "output_type": "execute_result",
          "data": {
            "text/plain": [
              "torch.Size([32, 100])"
            ]
          },
          "metadata": {},
          "execution_count": 82
        }
      ]
    },
    {
      "cell_type": "code",
      "source": [
        "W2=torch.randn(100,27)\n",
        "b2=torch.randn(27)"
      ],
      "metadata": {
        "id": "_u9-g_rYFK1S"
      },
      "execution_count": 83,
      "outputs": []
    },
    {
      "cell_type": "code",
      "source": [
        "logits=h @ W2+ b2"
      ],
      "metadata": {
        "id": "axdRyBNuHF8q"
      },
      "execution_count": 84,
      "outputs": []
    },
    {
      "cell_type": "code",
      "source": [
        "logits.shape"
      ],
      "metadata": {
        "colab": {
          "base_uri": "https://localhost:8080/"
        },
        "id": "rocITZA5HM_S",
        "outputId": "f40a4a95-288b-4bce-a0f5-09669bc773a2"
      },
      "execution_count": 85,
      "outputs": [
        {
          "output_type": "execute_result",
          "data": {
            "text/plain": [
              "torch.Size([32, 27])"
            ]
          },
          "metadata": {},
          "execution_count": 85
        }
      ]
    },
    {
      "cell_type": "code",
      "source": [
        "logits[1]"
      ],
      "metadata": {
        "colab": {
          "base_uri": "https://localhost:8080/"
        },
        "id": "BSZ3jxdUHNvw",
        "outputId": "cf0839e6-81e1-4539-c0e9-ae0404e5bd39"
      },
      "execution_count": 86,
      "outputs": [
        {
          "output_type": "execute_result",
          "data": {
            "text/plain": [
              "tensor([ -2.2030,   6.5442,   4.0684,  22.6034,   4.0605,   2.0029,   3.2578,\n",
              "         -3.0420,  -0.6791,  -0.6279,  10.2855,   4.8077, -20.2900,   7.6902,\n",
              "         -9.3111,  -3.1745,   4.7012,   3.9697,   8.5404,   4.8490,  -1.5082,\n",
              "          9.7737,   5.9257,  -5.8836,   5.4724,  -7.6605,   1.5928])"
            ]
          },
          "metadata": {},
          "execution_count": 86
        }
      ]
    },
    {
      "cell_type": "code",
      "source": [
        "counts=logits.exp()"
      ],
      "metadata": {
        "id": "0Td8nuZAHOSO"
      },
      "execution_count": 87,
      "outputs": []
    },
    {
      "cell_type": "code",
      "source": [
        "probs=counts/counts.sum(1,keepdims=True)\n",
        "probs[1]"
      ],
      "metadata": {
        "colab": {
          "base_uri": "https://localhost:8080/"
        },
        "id": "YcqYsHcpHU7L",
        "outputId": "f3ebc18f-d7de-4a3c-ef5d-1bf142f4e462"
      },
      "execution_count": 88,
      "outputs": [
        {
          "output_type": "execute_result",
          "data": {
            "text/plain": [
              "tensor([1.6855e-11, 1.0607e-07, 8.9201e-09, 9.9999e-01, 8.8497e-09, 1.1306e-09,\n",
              "        3.9656e-09, 7.2840e-12, 7.7369e-11, 8.1428e-11, 4.4711e-06, 1.8682e-08,\n",
              "        2.3531e-19, 3.3365e-07, 1.3795e-14, 6.3801e-12, 1.6795e-08, 8.0817e-09,\n",
              "        7.8080e-07, 1.9471e-08, 3.3764e-11, 2.6799e-06, 5.7144e-08, 4.2490e-13,\n",
              "        3.6316e-08, 7.1874e-14, 7.5030e-10])"
            ]
          },
          "metadata": {},
          "execution_count": 88
        }
      ]
    },
    {
      "cell_type": "code",
      "source": [
        "probs[1].sum()"
      ],
      "metadata": {
        "colab": {
          "base_uri": "https://localhost:8080/"
        },
        "id": "7jBpAS5CHZGr",
        "outputId": "4b10bcc7-7e2c-4496-d296-b2c1267d6cef"
      },
      "execution_count": 89,
      "outputs": [
        {
          "output_type": "execute_result",
          "data": {
            "text/plain": [
              "tensor(1.)"
            ]
          },
          "metadata": {},
          "execution_count": 89
        }
      ]
    },
    {
      "cell_type": "code",
      "source": [
        "loss=-probs[torch.arange(32),Y].log().mean()\n",
        "loss"
      ],
      "metadata": {
        "colab": {
          "base_uri": "https://localhost:8080/"
        },
        "id": "-k0ryi61HdhX",
        "outputId": "70fcbc3f-2422-4976-b19f-369405caab6c"
      },
      "execution_count": 90,
      "outputs": [
        {
          "output_type": "execute_result",
          "data": {
            "text/plain": [
              "tensor(13.0377)"
            ]
          },
          "metadata": {},
          "execution_count": 90
        }
      ]
    },
    {
      "cell_type": "code",
      "source": [
        "# ----------------- #"
      ],
      "metadata": {
        "id": "fwiNp7iyIru2"
      },
      "execution_count": 91,
      "outputs": []
    },
    {
      "cell_type": "code",
      "source": [
        "# Formatting the data\n",
        "alphabets = set(\"abcdefghijklmnopqrstuvwxyz\")\n",
        "words=open('names.txt','r').read().splitlines()\n",
        "words = [name for name in words if all(char in alphabets for char in name.lower()) and ' ' not in name]\n",
        "words[0]=\"samyak\"\n",
        "words = list(set(words))\n"
      ],
      "metadata": {
        "id": "x5GUvqK_PE3t"
      },
      "execution_count": 92,
      "outputs": []
    },
    {
      "cell_type": "code",
      "source": [
        "len(words) #6429 without filtering"
      ],
      "metadata": {
        "colab": {
          "base_uri": "https://localhost:8080/"
        },
        "id": "m4hqgqrkUf-E",
        "outputId": "560f61cd-3e62-46ec-9a7c-e5379a236f1e"
      },
      "execution_count": 93,
      "outputs": [
        {
          "output_type": "execute_result",
          "data": {
            "text/plain": [
              "2198"
            ]
          },
          "metadata": {},
          "execution_count": 93
        }
      ]
    },
    {
      "cell_type": "code",
      "source": [
        "# Building the vocabulary of characters and maping to/from integers\n",
        "chars=sorted(list(set(''.join(words))))\n",
        "stoi= {s:i+1 for i,s in enumerate(chars)}\n",
        "stoi['.']=0\n",
        "itos={i:s for s,i in stoi.items()}\n",
        "itos"
      ],
      "metadata": {
        "colab": {
          "base_uri": "https://localhost:8080/"
        },
        "id": "h_DtNaxGPXVQ",
        "outputId": "b8d3ddbc-7c7f-43b6-c40d-fd23b7bcbe49"
      },
      "execution_count": 94,
      "outputs": [
        {
          "output_type": "execute_result",
          "data": {
            "text/plain": [
              "{1: 'a',\n",
              " 2: 'b',\n",
              " 3: 'c',\n",
              " 4: 'd',\n",
              " 5: 'e',\n",
              " 6: 'f',\n",
              " 7: 'g',\n",
              " 8: 'h',\n",
              " 9: 'i',\n",
              " 10: 'j',\n",
              " 11: 'k',\n",
              " 12: 'l',\n",
              " 13: 'm',\n",
              " 14: 'n',\n",
              " 15: 'o',\n",
              " 16: 'p',\n",
              " 17: 'q',\n",
              " 18: 'r',\n",
              " 19: 's',\n",
              " 20: 't',\n",
              " 21: 'u',\n",
              " 22: 'v',\n",
              " 23: 'w',\n",
              " 24: 'x',\n",
              " 25: 'y',\n",
              " 26: 'z',\n",
              " 0: '.'}"
            ]
          },
          "metadata": {},
          "execution_count": 94
        }
      ]
    },
    {
      "cell_type": "code",
      "source": [
        "# Building the dataset\n",
        "def build_dataset(words):\n",
        "  block_size=3\n",
        "\n",
        "  X,Y=[],[]\n",
        "\n",
        "  for w in words:\n",
        "    # print(w)\n",
        "    context=[0]*block_size\n",
        "    for ch in w+ '.':\n",
        "      ix=stoi[ch]\n",
        "      X.append(context)\n",
        "      Y.append(ix)\n",
        "      # print(''.join(itos[i] for i in context),'--->', itos[ix])\n",
        "      context=context[1:]+[ix]\n",
        "  X=torch.tensor(X)\n",
        "  Y=torch.tensor(Y)\n",
        "  return X,Y\n",
        "\n",
        "import random\n",
        "random.seed(42)\n",
        "random.shuffle(words)\n",
        "n1=int(0.8*len(words))\n",
        "n2=int(0.9*len(words))\n",
        "\n",
        "Xtr,Ytr=build_dataset(words[:n1])\n",
        "Xdev,Ydev=build_dataset(words[n1:n2])\n",
        "Xte,Yte=build_dataset(words[n2:])"
      ],
      "metadata": {
        "id": "7AzHV078PguZ"
      },
      "execution_count": 95,
      "outputs": []
    },
    {
      "cell_type": "code",
      "source": [
        "# Dataset\n",
        "Xtr.shape, Ytr.shape,Xdev.shape, Ydev.shape,Xte.shape, Yte.shape"
      ],
      "metadata": {
        "colab": {
          "base_uri": "https://localhost:8080/"
        },
        "id": "Uk4EcFqnI2bq",
        "outputId": "fa4820a8-4a52-4d8a-aca9-2b43bf59becf"
      },
      "execution_count": 96,
      "outputs": [
        {
          "output_type": "execute_result",
          "data": {
            "text/plain": [
              "(torch.Size([13407, 3]),\n",
              " torch.Size([13407]),\n",
              " torch.Size([1719, 3]),\n",
              " torch.Size([1719]),\n",
              " torch.Size([1679, 3]),\n",
              " torch.Size([1679]))"
            ]
          },
          "metadata": {},
          "execution_count": 96
        }
      ]
    },
    {
      "cell_type": "code",
      "source": [
        "# Hyperparameter for the model\n",
        "embedding_input=6\n",
        "emb_input=3*embedding_input\n",
        "neurons=32\n",
        "# ----\n",
        "\n",
        "g=torch.Generator().manual_seed(19)\n",
        "C=torch.randn((27,embedding_input),generator=g)\n",
        "W1=torch.randn((emb_input,neurons),generator=g)\n",
        "b1=torch.randn(neurons,generator=g)\n",
        "W2=torch.randn((neurons,27),generator=g)\n",
        "b2=torch.randn(27,generator=g)\n",
        "parameters=[C,W1,b1,W2,b2]"
      ],
      "metadata": {
        "id": "pP7yQd05I4jy"
      },
      "execution_count": 97,
      "outputs": []
    },
    {
      "cell_type": "code",
      "source": [
        "total_elements=0\n",
        "for p in parameters:\n",
        "    total_elements += p.nelement()\n",
        "\n",
        "print(total_elements)"
      ],
      "metadata": {
        "colab": {
          "base_uri": "https://localhost:8080/"
        },
        "id": "nSH7G2B4PK50",
        "outputId": "3b464f23-e250-47d7-a3bc-a1b3d075d571"
      },
      "execution_count": 98,
      "outputs": [
        {
          "output_type": "stream",
          "name": "stdout",
          "text": [
            "1661\n"
          ]
        }
      ]
    },
    {
      "cell_type": "code",
      "source": [
        "for p in parameters:\n",
        "  p.requires_grad=True"
      ],
      "metadata": {
        "id": "TDe9oEHbN_aP"
      },
      "execution_count": 99,
      "outputs": []
    },
    {
      "cell_type": "code",
      "source": [
        "lre=torch.linspace(-3,0,1000)\n",
        "lrs=10**lre"
      ],
      "metadata": {
        "id": "rxsKTUjMD8PC"
      },
      "execution_count": 100,
      "outputs": []
    },
    {
      "cell_type": "code",
      "source": [
        "lri=[]\n",
        "stepi=[]\n",
        "lossi=[]"
      ],
      "metadata": {
        "id": "KmJU3VCrPVIS"
      },
      "execution_count": 101,
      "outputs": []
    },
    {
      "cell_type": "code",
      "source": [
        "for i in range(25000):\n",
        "  # minibatch construct\n",
        "  ix = torch.randint(0,Xtr.shape[0],(32,))\n",
        "\n",
        "  # Forward pass\n",
        "  emb=C[Xtr[ix]]\n",
        "  h=torch.tanh(emb.view(-1,emb_input) @ W1 +b1)\n",
        "  logits=h @W2 +b2\n",
        "  loss=F.cross_entropy(logits,Ytr[ix])\n",
        "  # print(loss.item())\n",
        "\n",
        "  # Backward pass\n",
        "  for p in parameters:\n",
        "    p.grad=None\n",
        "  loss.backward()\n",
        "\n",
        "  # Update\n",
        "  # lr=lrs[i]\n",
        "  lr=0.01\n",
        "  for p in parameters:\n",
        "    p.data+= -lr*p.grad\n",
        "\n",
        "  # Track stats\n",
        "  # lri.append(lre[i])\n",
        "  stepi.append(i)\n",
        "  lossi.append(loss.log10().item())\n",
        "\n",
        "print(loss.item())\n"
      ],
      "metadata": {
        "colab": {
          "base_uri": "https://localhost:8080/"
        },
        "id": "zlN5zywBJ3JZ",
        "outputId": "ad1384ad-626b-447b-97cc-328785353264"
      },
      "execution_count": 102,
      "outputs": [
        {
          "output_type": "stream",
          "name": "stdout",
          "text": [
            "2.0377447605133057\n"
          ]
        }
      ]
    },
    {
      "cell_type": "code",
      "source": [
        "# plt.plot(lri,lossi)\n",
        "plt.plot(stepi,lossi)"
      ],
      "metadata": {
        "colab": {
          "base_uri": "https://localhost:8080/",
          "height": 448
        },
        "id": "jOEu0UcFD_ON",
        "outputId": "99a0a110-41ed-41dd-8039-eab75eec6e06"
      },
      "execution_count": 103,
      "outputs": [
        {
          "output_type": "execute_result",
          "data": {
            "text/plain": [
              "[<matplotlib.lines.Line2D at 0x7d2b56863fa0>]"
            ]
          },
          "metadata": {},
          "execution_count": 103
        },
        {
          "output_type": "display_data",
          "data": {
            "text/plain": [
              "<Figure size 640x480 with 1 Axes>"
            ],
            "image/png": "[encoded data removed]"
          },
          "metadata": {}
        }
      ]
    },
    {
      "cell_type": "code",
      "source": [
        "emb=C[Xdev]\n",
        "h=torch.tanh(emb.view(-1,emb_input) @ W1 +b1)\n",
        "logits=h @W2 +b2\n",
        "loss=F.cross_entropy(logits,Ydev)\n",
        "loss"
      ],
      "metadata": {
        "colab": {
          "base_uri": "https://localhost:8080/"
        },
        "id": "9I7a6nlRKz5g",
        "outputId": "14178ac9-911d-48be-9a1e-46dcc8822843"
      },
      "execution_count": 104,
      "outputs": [
        {
          "output_type": "execute_result",
          "data": {
            "text/plain": [
              "tensor(2.3303, grad_fn=<NllLossBackward0>)"
            ]
          },
          "metadata": {},
          "execution_count": 104
        }
      ]
    },
    {
      "cell_type": "code",
      "source": [
        "emb=C[Xtr]\n",
        "h=torch.tanh(emb.view(-1,emb_input) @ W1 +b1)\n",
        "logits=h @W2 +b2\n",
        "loss=F.cross_entropy(logits,Ytr)\n",
        "loss"
      ],
      "metadata": {
        "colab": {
          "base_uri": "https://localhost:8080/"
        },
        "id": "k-3B5oEAKx6v",
        "outputId": "de49ee3e-6577-4597-f8fb-3c48e93d6cdf"
      },
      "execution_count": 105,
      "outputs": [
        {
          "output_type": "execute_result",
          "data": {
            "text/plain": [
              "tensor(2.2535, grad_fn=<NllLossBackward0>)"
            ]
          },
          "metadata": {},
          "execution_count": 105
        }
      ]
    },
    {
      "cell_type": "code",
      "source": [
        "plt.figure(figsize=(8,8))\n",
        "plt.scatter(C[:,0].data,C[:,1].data,s=200)\n",
        "for i in range(C.shape[0]):\n",
        "  plt.text(C[i,0].item(),C[i,1].item(),itos[i],ha=\"center\",color=\"white\")\n",
        "  plt.grid('minor')"
      ],
      "metadata": {
        "colab": {
          "base_uri": "https://localhost:8080/",
          "height": 676
        },
        "id": "t1rPshNvTQ7p",
        "outputId": "fc93c84b-ae50-483b-edd3-3f5e01041805"
      },
      "execution_count": 106,
      "outputs": [
        {
          "output_type": "display_data",
          "data": {
            "text/plain": [
              "<Figure size 800x800 with 1 Axes>"
            ],
            "image/png": "[encoded data removed]"
          },
          "metadata": {}
        }
      ]
    },
    {
      "cell_type": "code",
      "source": [
        "g=torch.Generator().manual_seed(19)\n",
        "\n",
        "for _ in range(20):\n",
        "  out=[]\n",
        "  context=[0]* block_size\n",
        "  while True:\n",
        "    emb=C[torch.tensor([context])]\n",
        "    h=torch.tanh(emb.view(1,-1) @ W1+b1)\n",
        "    logits=h @ W2+b2\n",
        "    probs=F.softmax(logits,dim=1)\n",
        "    ix=torch.multinomial(probs, num_samples=1, generator=g).item()\n",
        "    context=context[1:]+[ix]\n",
        "    out.append(ix)\n",
        "    if ix==0:\n",
        "      break\n",
        "  print(''.join(itos[i] for i in out))"
      ],
      "metadata": {
        "colab": {
          "base_uri": "https://localhost:8080/"
        },
        "id": "jNImRN_cPnU0",
        "outputId": "53f8f019-8a11-4d64-9112-97957acac320"
      },
      "execution_count": 107,
      "outputs": [
        {
          "output_type": "stream",
          "name": "stdout",
          "text": [
            "shajithameerardkaratvilshail.\n",
            "banind.\n",
            "kutashurilbajsh.\n",
            "ilt.\n",
            "puramalsanb.\n",
            "gahmashuldeshan.\n",
            "sa.\n",
            "sanjohh.\n",
            "vii.\n",
            "ghari.\n",
            "kufdir.\n",
            "jas.\n",
            "arler.\n",
            "ches.\n",
            "hinan.\n",
            "ramdeniudhumad.\n",
            "jabler.\n",
            "puran.\n",
            "kan.\n",
            "parkr.\n"
          ]
        }
      ]
    },
    {
      "cell_type": "code",
      "source": [
        "# Formatting the data\n",
        "path=input('Enter file path :')\n",
        "alphabets = set(\"abcdefghijklmnopqrstuvwxyz\")\n",
        "words=open(path,'r').read().splitlines()\n",
        "words = [name for name in words if all(char in alphabets for char in name.lower()) and ' ' not in name]\n",
        "# words[0]=\"samyak\"\n",
        "words = list(set(words))\n",
        "# Building the vocabulary of characters and maping to/from integers\n",
        "chars=sorted(list(set(''.join(words))))\n",
        "stoi= {s:i+1 for i,s in enumerate(chars)}\n",
        "stoi['.']=0\n",
        "itos={i:s for s,i in stoi.items()}\n",
        "# Building the dataset\n",
        "def build_dataset(words):\n",
        "  block_size=3\n",
        "\n",
        "  X,Y=[],[]\n",
        "\n",
        "  for w in words:\n",
        "    # print(w)\n",
        "    context=[0]*block_size\n",
        "    for ch in w+ '.':\n",
        "      ix=stoi[ch]\n",
        "      X.append(context)\n",
        "      Y.append(ix)\n",
        "      # print(''.join(itos[i] for i in context),'--->', itos[ix])\n",
        "      context=context[1:]+[ix]\n",
        "  X=torch.tensor(X)\n",
        "  Y=torch.tensor(Y)\n",
        "  return X,Y\n",
        "\n",
        "import random\n",
        "random.seed(42)\n",
        "random.shuffle(words)\n",
        "n1=int(0.8*len(words))\n",
        "n2=int(0.9*len(words))\n",
        "\n",
        "Xtr,Ytr=build_dataset(words[:n1])\n",
        "Xdev,Ydev=build_dataset(words[n1:n2])\n",
        "Xte,Yte=build_dataset(words[n2:])\n",
        "# Dataset\n",
        "Xtr.shape, Ytr.shape,Xdev.shape, Ydev.shape,Xte.shape, Yte.shape\n",
        "# Hyperparameter for the model\n",
        "embedding_input=6\n",
        "emb_input=3*embedding_input\n",
        "neurons=32\n",
        "# ----\n",
        "\n",
        "g=torch.Generator().manual_seed(19)\n",
        "C=torch.randn((27,embedding_input),generator=g)\n",
        "W1=torch.randn((emb_input,neurons),generator=g)\n",
        "b1=torch.randn(neurons,generator=g)\n",
        "W2=torch.randn((neurons,27),generator=g)\n",
        "b2=torch.randn(27,generator=g)\n",
        "parameters=[C,W1,b1,W2,b2]\n",
        "param=0\n",
        "for p in parameters:\n",
        "    param += p.nelement()\n",
        "\n",
        "print(f'{param=}')\n",
        "\n",
        "for p in parameters:\n",
        "  p.requires_grad=True\n",
        "\n",
        "lre=torch.linspace(-3,0,1000)\n",
        "lrs=10**lre\n",
        "lri=[]\n",
        "stepi=[]\n",
        "lossi=[]\n",
        "for i in range(25000):\n",
        "  # minibatch construct\n",
        "  ix = torch.randint(0,Xtr.shape[0],(32,))\n",
        "\n",
        "  # Forward pass\n",
        "  emb=C[Xtr[ix]]\n",
        "  h=torch.tanh(emb.view(-1,emb_input) @ W1 +b1)\n",
        "  logits=h @W2 +b2\n",
        "  loss=F.cross_entropy(logits,Ytr[ix])\n",
        "  # print(loss.item())\n",
        "\n",
        "  # Backward pass\n",
        "  for p in parameters:\n",
        "    p.grad=None\n",
        "  loss.backward()\n",
        "\n",
        "  # Update\n",
        "  # lr=lrs[i]\n",
        "  lr=0.11\n",
        "  for p in parameters:\n",
        "    p.data+= -lr*p.grad\n",
        "\n",
        "  # Track stats\n",
        "  # lri.append(lre[i])\n",
        "  stepi.append(i)\n",
        "  lossi.append(loss.log10().item())\n",
        "\n",
        "print(f'loss= {loss.item()}')\n",
        "emb=C[Xdev]\n",
        "h=torch.tanh(emb.view(-1,emb_input) @ W1 +b1)\n",
        "logits=h @W2 +b2\n",
        "loss=F.cross_entropy(logits,Ydev)\n",
        "emb=C[Xtr]\n",
        "h=torch.tanh(emb.view(-1,emb_input) @ W1 +b1)\n",
        "logits=h @W2 +b2\n",
        "loss=F.cross_entropy(logits,Ytr)\n",
        "g=torch.Generator().manual_seed(19)\n",
        "\n",
        "num=int(input('how many words do you want to generate ?'))\n",
        "for _ in range(num):\n",
        "  out=[]\n",
        "  context=[0]* block_size\n",
        "  while True:\n",
        "    emb=C[torch.tensor([context])]\n",
        "    h=torch.tanh(emb.view(1,-1) @ W1+b1)\n",
        "    logits=h @ W2+b2\n",
        "    probs=F.softmax(logits,dim=1)\n",
        "    ix=torch.multinomial(probs, num_samples=1, generator=g).item()\n",
        "    context=context[1:]+[ix]\n",
        "    out.append(ix)\n",
        "    if ix==0:\n",
        "      break\n",
        "  print(''.join(itos[i] for i in out))"
      ],
      "metadata": {
        "colab": {
          "base_uri": "https://localhost:8080/"
        },
        "id": "Psr06HQjYnfo",
        "outputId": "4a57aae8-56c5-4eba-b085-ecf8e8923b41"
      },
      "execution_count": 109,
      "outputs": [
        {
          "output_type": "stream",
          "name": "stdout",
          "text": [
            "Enter file path :names.txt\n",
            "param=1661\n",
            "loss= 1.5886130332946777\n",
            "how many words do you want to generate ?30\n",
            "shajit.\n",
            "rieeral.\n",
            "karam.\n",
            "singanjee.\n",
            "sanw.\n",
            "kuttshurilal.\n",
            "saril.\n",
            "minramalsoidhraj.\n",
            "bhu.\n",
            "logem.\n",
            "sura.\n",
            "sanjehhrarishupal.\n",
            "kuf.\n",
            "shil.\n",
            "salal.\n",
            "ramses.\n",
            "shan.\n",
            "subadeniul.\n",
            "pari.\n",
            "shul.\n",
            "sal.\n",
            "shookender.\n",
            "jrim.\n",
            "pand.\n",
            "vakidh.\n",
            "deyandra.\n",
            "sharil.\n",
            "ricdhir.\n",
            "aat.\n",
            "chad.\n"
          ]
        }
      ]
    }
  ]
}