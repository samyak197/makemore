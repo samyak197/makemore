{
  "nbformat": 4,
  "nbformat_minor": 0,
  "metadata": {
    "colab": {
      "provenance": []
    },
    "kernelspec": {
      "name": "python3",
      "display_name": "Python 3"
    },
    "language_info": {
      "name": "python"
    }
  },
  "cells": [
    {
      "cell_type": "code",
      "execution_count": 1,
      "metadata": {
        "colab": {
          "base_uri": "https://localhost:8080/"
        },
        "id": "oiNuV3c4fyeG",
        "outputId": "b3fbf695-bb2f-499e-d9ff-4a44f74a1185"
      },
      "outputs": [
        {
          "output_type": "stream",
          "name": "stdout",
          "text": [
            "Cloning into 'makemore'...\n",
            "remote: Enumerating objects: 64, done.\u001b[K\n",
            "remote: Counting objects: 100% (23/23), done.\u001b[K\n",
            "remote: Compressing objects: 100% (7/7), done.\u001b[K\n",
            "remote: Total 64 (delta 20), reused 16 (delta 16), pack-reused 41\u001b[K\n",
            "Receiving objects: 100% (64/64), 123.29 KiB | 1.52 MiB/s, done.\n",
            "Resolving deltas: 100% (36/36), done.\n"
          ]
        }
      ],
      "source": [
        "!git clone https://github.com/karpathy/makemore.git"
      ]
    },
    {
      "cell_type": "code",
      "source": [
        "!wget https://gist.github.com/mbejda/7f86ca901fe41bc14a63/archive/38adb475c14a3f44df9999c1541f3a72f472b30d.zip\n",
        "!unzip 38adb475c14a3f44df9999c1541f3a72f472b30d.zip"
      ],
      "metadata": {
        "colab": {
          "base_uri": "https://localhost:8080/"
        },
        "id": "PbIbDmk6iD93",
        "outputId": "644f4652-ee92-4660-b6dc-079ef1b2fc47"
      },
      "execution_count": 2,
      "outputs": [
        {
          "output_type": "stream",
          "name": "stdout",
          "text": [
            "--2024-05-30 20:21:49--  https://gist.github.com/mbejda/7f86ca901fe41bc14a63/archive/38adb475c14a3f44df9999c1541f3a72f472b30d.zip\n",
            "Resolving gist.github.com (gist.github.com)... 140.82.112.4\n",
            "Connecting to gist.github.com (gist.github.com)|140.82.112.4|:443... connected.\n",
            "HTTP request sent, awaiting response... 302 Found\n",
            "Location: https://codeload.github.com/gist/7f86ca901fe41bc14a63/zip/38adb475c14a3f44df9999c1541f3a72f472b30d [following]\n",
            "--2024-05-30 20:21:49--  https://codeload.github.com/gist/7f86ca901fe41bc14a63/zip/38adb475c14a3f44df9999c1541f3a72f472b30d\n",
            "Resolving codeload.github.com (codeload.github.com)... 140.82.114.9\n",
            "Connecting to codeload.github.com (codeload.github.com)|140.82.114.9|:443... connected.\n",
            "HTTP request sent, awaiting response... 200 OK\n",
            "Length: unspecified [application/zip]\n",
            "Saving to: ‘38adb475c14a3f44df9999c1541f3a72f472b30d.zip’\n",
            "\n",
            "38adb475c14a3f44df9     [ <=>                ]  68.09K  --.-KB/s    in 0.05s   \n",
            "\n",
            "2024-05-30 20:21:49 (1.32 MB/s) - ‘38adb475c14a3f44df9999c1541f3a72f472b30d.zip’ saved [69729]\n",
            "\n",
            "Archive:  38adb475c14a3f44df9999c1541f3a72f472b30d.zip\n",
            "38adb475c14a3f44df9999c1541f3a72f472b30d\n",
            "   creating: 7f86ca901fe41bc14a63-38adb475c14a3f44df9999c1541f3a72f472b30d/\n",
            "  inflating: 7f86ca901fe41bc14a63-38adb475c14a3f44df9999c1541f3a72f472b30d/Indian-Male-Names.csv  \n"
          ]
        }
      ]
    },
    {
      "cell_type": "code",
      "source": [
        "import pandas as pd\n",
        "file_path = '/content/7f86ca901fe41bc14a63-38adb475c14a3f44df9999c1541f3a72f472b30d/Indian-Male-Names.csv'\n",
        "df = pd.read_csv(file_path)\n",
        "names = df['name']\n",
        "output_file = 'names.txt'\n",
        "names.to_csv(output_file, index=False, header=False)"
      ],
      "metadata": {
        "id": "bqI-p7D1iIFV"
      },
      "execution_count": 3,
      "outputs": []
    },
    {
      "cell_type": "code",
      "source": [
        "words=open('names.txt','r').read().splitlines()"
      ],
      "metadata": {
        "id": "FrmSH0FKnWl6"
      },
      "execution_count": 4,
      "outputs": []
    },
    {
      "cell_type": "code",
      "source": [
        "alphabets = set(\"abcdefghijklmnopqrstuvwxyz\")\n",
        "words = [name for name in words if all(char in alphabets for char in name.lower())]\n"
      ],
      "metadata": {
        "id": "1s9sDQz0lM2f"
      },
      "execution_count": 5,
      "outputs": []
    },
    {
      "cell_type": "code",
      "source": [
        "words[0]=\"samyak\"\n",
        "words[:10]"
      ],
      "metadata": {
        "colab": {
          "base_uri": "https://localhost:8080/"
        },
        "id": "K7Wir5IIgFQa",
        "outputId": "04504f64-f12d-48e0-8280-19addc280bbb"
      },
      "execution_count": 6,
      "outputs": [
        {
          "output_type": "execute_result",
          "data": {
            "text/plain": [
              "['samyak',\n",
              " 'amit',\n",
              " 'kushal',\n",
              " 'kasid',\n",
              " 'sanjay',\n",
              " 'abhi',\n",
              " 'chanderpal',\n",
              " 'aman',\n",
              " 'khursid',\n",
              " 'rajeev']"
            ]
          },
          "metadata": {},
          "execution_count": 6
        }
      ]
    },
    {
      "cell_type": "code",
      "source": [
        "len(words)"
      ],
      "metadata": {
        "colab": {
          "base_uri": "https://localhost:8080/"
        },
        "id": "0zFY8M_ehPnR",
        "outputId": "49c81251-2456-4f07-b70a-123403108ee2"
      },
      "execution_count": 7,
      "outputs": [
        {
          "output_type": "execute_result",
          "data": {
            "text/plain": [
              "6429"
            ]
          },
          "metadata": {},
          "execution_count": 7
        }
      ]
    },
    {
      "cell_type": "code",
      "source": [
        "min(len(w) for w in words)"
      ],
      "metadata": {
        "colab": {
          "base_uri": "https://localhost:8080/"
        },
        "id": "I2hF--m9hV-g",
        "outputId": "576c14b9-83ff-4f4d-a991-4cf9a6e08836"
      },
      "execution_count": 8,
      "outputs": [
        {
          "output_type": "execute_result",
          "data": {
            "text/plain": [
              "2"
            ]
          },
          "metadata": {},
          "execution_count": 8
        }
      ]
    },
    {
      "cell_type": "code",
      "source": [
        "max(len(w) for w in words)"
      ],
      "metadata": {
        "colab": {
          "base_uri": "https://localhost:8080/"
        },
        "id": "7oHpvSFrhaQP",
        "outputId": "dc563272-f7a9-4fa1-e72b-adc3d09a285a"
      },
      "execution_count": 9,
      "outputs": [
        {
          "output_type": "execute_result",
          "data": {
            "text/plain": [
              "19"
            ]
          },
          "metadata": {},
          "execution_count": 9
        }
      ]
    },
    {
      "cell_type": "code",
      "source": [
        "b={}\n",
        "for w in words:\n",
        "  chs=['<S>']+list(w)+['<E>']\n",
        "  for ch1,ch2 in zip(chs,chs[1:]):\n",
        "    bigram=(ch1,ch2)\n",
        "    b[bigram]=b.get(bigram,0)+1"
      ],
      "metadata": {
        "id": "VRKByTwjhb0S"
      },
      "execution_count": 10,
      "outputs": []
    },
    {
      "cell_type": "code",
      "source": [
        "sorted(b.items(),key=lambda kv: -kv[1])"
      ],
      "metadata": {
        "colab": {
          "base_uri": "https://localhost:8080/"
        },
        "id": "ctCSZzdHkEuX",
        "outputId": "79e76074-8059-4c49-b90a-77eee687076d"
      },
      "execution_count": 11,
      "outputs": [
        {
          "output_type": "execute_result",
          "data": {
            "text/plain": [
              "[(('s', 'h'), 1564),\n",
              " (('a', 'n'), 1441),\n",
              " (('r', 'a'), 1354),\n",
              " (('<S>', 's'), 1218),\n",
              " (('h', '<E>'), 925),\n",
              " (('<S>', 'r'), 877),\n",
              " (('<S>', 'a'), 854),\n",
              " (('h', 'a'), 828),\n",
              " (('a', 'r'), 792),\n",
              " (('n', '<E>'), 761),\n",
              " (('a', 'm'), 694),\n",
              " (('r', '<E>'), 677),\n",
              " (('d', 'e'), 674),\n",
              " (('l', '<E>'), 642),\n",
              " (('s', 'a'), 630),\n",
              " (('e', 'e'), 622),\n",
              " (('a', 'j'), 584),\n",
              " (('n', 'd'), 558),\n",
              " (('m', 'a'), 525),\n",
              " (('h', 'i'), 501),\n",
              " (('a', 'l'), 493),\n",
              " (('t', '<E>'), 486),\n",
              " (('<S>', 'm'), 484),\n",
              " (('u', '<E>'), 477),\n",
              " (('e', 's'), 475),\n",
              " (('v', 'i'), 467),\n",
              " (('a', 's'), 448),\n",
              " (('i', 'n'), 437),\n",
              " (('p', 'a'), 434),\n",
              " (('i', 't'), 433),\n",
              " (('e', 'r'), 422),\n",
              " (('m', '<E>'), 412),\n",
              " (('i', 's'), 408),\n",
              " (('<S>', 'd'), 406),\n",
              " (('k', 'a'), 393),\n",
              " (('j', 'a'), 378),\n",
              " (('a', 'k'), 367),\n",
              " (('<S>', 'v'), 361),\n",
              " (('e', 'n'), 347),\n",
              " (('s', 'u'), 330),\n",
              " (('n', 'a'), 328),\n",
              " (('<S>', 'p'), 314),\n",
              " (('<S>', 'k'), 306),\n",
              " (('a', 'h'), 298),\n",
              " (('d', '<E>'), 286),\n",
              " (('e', 'p'), 281),\n",
              " (('<S>', 'n'), 276),\n",
              " (('j', '<E>'), 273),\n",
              " (('k', '<E>'), 269),\n",
              " (('y', '<E>'), 268),\n",
              " (('n', 'i'), 263),\n",
              " (('i', 'l'), 255),\n",
              " (('a', 'y'), 249),\n",
              " (('h', 'u'), 246),\n",
              " (('r', 'i'), 244),\n",
              " (('i', 'r'), 243),\n",
              " (('<S>', 'b'), 242),\n",
              " (('a', 'v'), 241),\n",
              " (('u', 'r'), 239),\n",
              " (('a', '<E>'), 237),\n",
              " (('u', 'l'), 228),\n",
              " (('b', 'h'), 218),\n",
              " (('l', 'a'), 217),\n",
              " (('a', 't'), 207),\n",
              " (('<S>', 'j'), 204),\n",
              " (('d', 'i'), 196),\n",
              " (('i', '<E>'), 195),\n",
              " (('a', 'd'), 195),\n",
              " (('a', 'b'), 194),\n",
              " (('j', 'e'), 193),\n",
              " (('<S>', 'g'), 192),\n",
              " (('u', 'n'), 179),\n",
              " (('c', 'h'), 178),\n",
              " (('o', 'h'), 173),\n",
              " (('r', 'e'), 170),\n",
              " (('n', 'u'), 167),\n",
              " (('m', 'i'), 165),\n",
              " (('y', 'a'), 164),\n",
              " (('i', 'm'), 164),\n",
              " (('d', 'h'), 159),\n",
              " (('n', 'k'), 158),\n",
              " (('v', 'e'), 156),\n",
              " (('t', 'a'), 156),\n",
              " (('<S>', 'h'), 152),\n",
              " (('h', 'e'), 152),\n",
              " (('k', 'e'), 152),\n",
              " (('m', 'o'), 152),\n",
              " (('i', 'k'), 149),\n",
              " (('p', '<E>'), 148),\n",
              " (('w', 'a'), 138),\n",
              " (('n', 'j'), 136),\n",
              " (('k', 'u'), 135),\n",
              " (('v', '<E>'), 134),\n",
              " (('r', 'o'), 134),\n",
              " (('b', 'a'), 134),\n",
              " (('k', 'i'), 129),\n",
              " (('j', 'u'), 128),\n",
              " (('m', 'u'), 125),\n",
              " (('n', 't'), 123),\n",
              " (('d', 'a'), 122),\n",
              " (('u', 'd'), 122),\n",
              " (('p', 'r'), 121),\n",
              " (('t', 'i'), 120),\n",
              " (('o', 'n'), 120),\n",
              " (('b', 'i'), 116),\n",
              " (('g', 'a'), 116),\n",
              " (('u', 'm'), 114),\n",
              " (('s', 'i'), 110),\n",
              " (('e', 't'), 107),\n",
              " (('m', 'e'), 107),\n",
              " (('s', 'o'), 106),\n",
              " (('j', 'i'), 103),\n",
              " (('n', 'e'), 98),\n",
              " (('r', 'u'), 98),\n",
              " (('u', 's'), 96),\n",
              " (('a', 'i'), 95),\n",
              " (('a', 'a'), 95),\n",
              " (('k', 'h'), 94),\n",
              " (('u', 'k'), 94),\n",
              " (('<S>', 't'), 91),\n",
              " (('i', 'd'), 90),\n",
              " (('a', 'u'), 90),\n",
              " (('v', 'a'), 90),\n",
              " (('a', 'g'), 88),\n",
              " (('t', 'e'), 86),\n",
              " (('<S>', 'l'), 86),\n",
              " (('n', 'o'), 85),\n",
              " (('e', 'v'), 83),\n",
              " (('<S>', 'i'), 82),\n",
              " (('i', 'j'), 82),\n",
              " (('n', 's'), 80),\n",
              " (('<S>', 'c'), 79),\n",
              " (('e', 'k'), 78),\n",
              " (('i', 'v'), 77),\n",
              " (('r', 'm'), 76),\n",
              " (('d', 'd'), 74),\n",
              " (('e', 'm'), 72),\n",
              " (('l', 'i'), 71),\n",
              " (('t', 'u'), 67),\n",
              " (('h', 'o'), 66),\n",
              " (('d', 'r'), 66),\n",
              " (('o', 'j'), 64),\n",
              " (('k', 'r'), 62),\n",
              " (('u', 'b'), 59),\n",
              " (('<S>', 'y'), 58),\n",
              " (('o', 'o'), 57),\n",
              " (('f', 'a'), 56),\n",
              " (('o', 'm'), 56),\n",
              " (('g', 'o'), 55),\n",
              " (('b', '<E>'), 54),\n",
              " (('r', 'j'), 52),\n",
              " (('p', 'u'), 52),\n",
              " (('a', 'w'), 51),\n",
              " (('o', 'd'), 51),\n",
              " (('i', 'p'), 51),\n",
              " (('p', 'i'), 51),\n",
              " (('<S>', 'f'), 51),\n",
              " (('o', 'k'), 51),\n",
              " (('l', 'e'), 50),\n",
              " (('l', 'u'), 50),\n",
              " (('f', '<E>'), 49),\n",
              " (('r', 's'), 48),\n",
              " (('h', 'r'), 48),\n",
              " (('r', 'v'), 47),\n",
              " (('n', 'n'), 47),\n",
              " (('s', '<E>'), 47),\n",
              " (('m', 'p'), 47),\n",
              " (('o', 's'), 46),\n",
              " (('g', 'u'), 46),\n",
              " (('h', 'n'), 45),\n",
              " (('a', 'z'), 44),\n",
              " (('t', 'o'), 43),\n",
              " (('t', 'h'), 43),\n",
              " (('d', 'u'), 41),\n",
              " (('g', 'e'), 41),\n",
              " (('a', 'p'), 41),\n",
              " (('o', 'g'), 40),\n",
              " (('b', 'u'), 40),\n",
              " (('j', 'k'), 39),\n",
              " (('o', 'r'), 39),\n",
              " (('a', 'f'), 37),\n",
              " (('s', 'e'), 37),\n",
              " (('m', 'r'), 37),\n",
              " (('i', 'f'), 37),\n",
              " (('i', 'c'), 37),\n",
              " (('a', 'c'), 36),\n",
              " (('t', 'y'), 36),\n",
              " (('r', 'd'), 36),\n",
              " (('i', 'y'), 36),\n",
              " (('k', 'y'), 36),\n",
              " (('l', 'l'), 36),\n",
              " (('<S>', 'o'), 34),\n",
              " (('y', 'o'), 33),\n",
              " (('<S>', 'u'), 33),\n",
              " (('i', 'b'), 32),\n",
              " (('n', 'g'), 32),\n",
              " (('p', 'e'), 30),\n",
              " (('z', '<E>'), 30),\n",
              " (('h', 'w'), 30),\n",
              " (('c', 'k'), 30),\n",
              " (('o', 'b'), 29),\n",
              " (('g', 'h'), 29),\n",
              " (('g', 'i'), 28),\n",
              " (('e', '<E>'), 28),\n",
              " (('h', 'y'), 27),\n",
              " (('e', 'l'), 26),\n",
              " (('l', 'd'), 26),\n",
              " (('y', 'u'), 26),\n",
              " (('e', 'd'), 26),\n",
              " (('l', 's'), 25),\n",
              " (('u', 'p'), 25),\n",
              " (('f', 'i'), 25),\n",
              " (('m', 'b'), 25),\n",
              " (('k', 's'), 25),\n",
              " (('r', 't'), 25),\n",
              " (('o', 't'), 24),\n",
              " (('n', 'y'), 24),\n",
              " (('o', 'l'), 24),\n",
              " (('l', 'o'), 24),\n",
              " (('t', 'r'), 24),\n",
              " (('m', 's'), 24),\n",
              " (('u', 'j'), 24),\n",
              " (('t', 't'), 24),\n",
              " (('b', 'r'), 22),\n",
              " (('z', 'a'), 21),\n",
              " (('l', 'm'), 20),\n",
              " (('g', 'd'), 20),\n",
              " (('b', 'o'), 20),\n",
              " (('m', 'l'), 20),\n",
              " (('o', 'p'), 20),\n",
              " (('r', 'k'), 20),\n",
              " (('r', 'p'), 19),\n",
              " (('m', 'v'), 19),\n",
              " (('<S>', 'w'), 19),\n",
              " (('k', 'k'), 18),\n",
              " (('u', 't'), 18),\n",
              " (('b', 'l'), 18),\n",
              " (('o', 'v'), 18),\n",
              " (('s', 'r'), 18),\n",
              " (('m', 'k'), 18),\n",
              " (('b', 'e'), 17),\n",
              " (('p', 'p'), 17),\n",
              " (('e', 'h'), 17),\n",
              " (('h', 'b'), 17),\n",
              " (('s', 'l'), 17),\n",
              " (('i', 'z'), 16),\n",
              " (('a', 'x'), 16),\n",
              " (('m', 'c'), 16),\n",
              " (('j', 'o'), 15),\n",
              " (('s', 't'), 15),\n",
              " (('r', 'b'), 15),\n",
              " (('x', 'm'), 15),\n",
              " (('r', 'f'), 14),\n",
              " (('h', 'p'), 14),\n",
              " (('n', 'c'), 14),\n",
              " (('m', 'j'), 14),\n",
              " (('j', 'p'), 14),\n",
              " (('l', 'r'), 13),\n",
              " (('p', 'o'), 13),\n",
              " (('n', 'w'), 13),\n",
              " (('b', 'b'), 13),\n",
              " (('o', 'u'), 13),\n",
              " (('z', 'i'), 13),\n",
              " (('o', '<E>'), 12),\n",
              " (('n', 'h'), 12),\n",
              " (('l', 'c'), 12),\n",
              " (('h', 's'), 12),\n",
              " (('j', 'b'), 11),\n",
              " (('t', 'p'), 11),\n",
              " (('h', 't'), 11),\n",
              " (('v', 'r'), 11),\n",
              " (('g', '<E>'), 11),\n",
              " (('n', 'l'), 11),\n",
              " (('i', 'h'), 11),\n",
              " (('s', 'w'), 11),\n",
              " (('s', 'p'), 10),\n",
              " (('i', 'o'), 10),\n",
              " (('m', 'n'), 10),\n",
              " (('r', 'n'), 10),\n",
              " (('z', 'w'), 9),\n",
              " (('h', 'd'), 9),\n",
              " (('u', 'f'), 9),\n",
              " (('e', 'j'), 9),\n",
              " (('o', 'z'), 9),\n",
              " (('c', 'e'), 9),\n",
              " (('m', 't'), 9),\n",
              " (('f', 't'), 9),\n",
              " (('f', 'u'), 9),\n",
              " (('i', 'q'), 9),\n",
              " (('n', 'p'), 9),\n",
              " (('e', 'y'), 8),\n",
              " (('h', 'l'), 8),\n",
              " (('n', 'm'), 8),\n",
              " (('h', 'm'), 8),\n",
              " (('<S>', 'z'), 7),\n",
              " (('b', 'y'), 7),\n",
              " (('u', 'v'), 7),\n",
              " (('n', 'r'), 7),\n",
              " (('l', 't'), 7),\n",
              " (('k', 'o'), 7),\n",
              " (('n', 'v'), 7),\n",
              " (('v', 'n'), 7),\n",
              " (('l', 'j'), 7),\n",
              " (('r', 'g'), 6),\n",
              " (('m', 'm'), 6),\n",
              " (('h', 'v'), 6),\n",
              " (('i', 'a'), 6),\n",
              " (('j', 'm'), 6),\n",
              " (('q', '<E>'), 6),\n",
              " (('v', 'd'), 6),\n",
              " (('h', 'h'), 6),\n",
              " (('m', 'd'), 6),\n",
              " (('f', 'r'), 6),\n",
              " (('k', 'c'), 6),\n",
              " (('u', 'h'), 6),\n",
              " (('j', 'j'), 6),\n",
              " (('k', 'b'), 6),\n",
              " (('w', 'e'), 6),\n",
              " (('k', 'n'), 6),\n",
              " (('e', 'w'), 6),\n",
              " (('l', 'k'), 6),\n",
              " (('s', 'v'), 6),\n",
              " (('s', 'm'), 6),\n",
              " (('a', 'e'), 6),\n",
              " (('z', 'u'), 6),\n",
              " (('l', 'f'), 5),\n",
              " (('h', 'f'), 5),\n",
              " (('a', 'q'), 5),\n",
              " (('r', 'r'), 5),\n",
              " (('j', 'v'), 5),\n",
              " (('b', 'd'), 5),\n",
              " (('w', 'n'), 5),\n",
              " (('l', 'b'), 5),\n",
              " (('r', 'l'), 5),\n",
              " (('p', 'h'), 5),\n",
              " (('y', 'p'), 5),\n",
              " (('h', 'j'), 5),\n",
              " (('l', 'w'), 5),\n",
              " (('t', 'k'), 4),\n",
              " (('g', 'r'), 4),\n",
              " (('n', 'b'), 4),\n",
              " (('g', 'm'), 4),\n",
              " (('p', 'c'), 4),\n",
              " (('g', 'y'), 4),\n",
              " (('e', 'g'), 4),\n",
              " (('o', 'w'), 4),\n",
              " (('j', 'r'), 4),\n",
              " (('l', 'p'), 4),\n",
              " (('w', 'i'), 4),\n",
              " (('y', 'e'), 4),\n",
              " (('e', 'z'), 4),\n",
              " (('e', 'b'), 4),\n",
              " (('y', 's'), 4),\n",
              " (('u', 'c'), 4),\n",
              " (('d', 'n'), 3),\n",
              " (('d', 'y'), 3),\n",
              " (('p', 'n'), 3),\n",
              " (('t', 'n'), 3),\n",
              " (('f', 'e'), 3),\n",
              " (('o', 'c'), 3),\n",
              " (('v', 'y'), 3),\n",
              " (('t', 'b'), 3),\n",
              " (('p', 't'), 3),\n",
              " (('j', 'n'), 3),\n",
              " (('i', 'w'), 3),\n",
              " (('r', 'h'), 3),\n",
              " (('f', 'f'), 3),\n",
              " (('i', 'e'), 3),\n",
              " (('l', 'v'), 3),\n",
              " (('o', 'f'), 3),\n",
              " (('<S>', 'e'), 3),\n",
              " (('f', 'o'), 3),\n",
              " (('r', 'y'), 3),\n",
              " (('j', 'y'), 3),\n",
              " (('j', 'd'), 3),\n",
              " (('j', 'w'), 3),\n",
              " (('f', 's'), 3),\n",
              " (('s', 'y'), 3),\n",
              " (('r', 'c'), 3),\n",
              " (('q', 'u'), 3),\n",
              " (('s', 's'), 3),\n",
              " (('h', 'k'), 3),\n",
              " (('p', 'y'), 3),\n",
              " (('l', 'y'), 3),\n",
              " (('z', 'm'), 3),\n",
              " (('g', 'n'), 2),\n",
              " (('y', 'i'), 2),\n",
              " (('m', 'h'), 2),\n",
              " (('s', 'b'), 2),\n",
              " (('h', 'z'), 2),\n",
              " (('o', 'y'), 2),\n",
              " (('s', 'c'), 2),\n",
              " (('v', 'k'), 2),\n",
              " (('o', 'i'), 2),\n",
              " (('q', 'b'), 2),\n",
              " (('d', 'm'), 2),\n",
              " (('w', '<E>'), 2),\n",
              " (('p', 's'), 2),\n",
              " (('j', 's'), 2),\n",
              " (('d', 'p'), 2),\n",
              " (('u', 'a'), 2),\n",
              " (('e', 'f'), 2),\n",
              " (('k', 'm'), 2),\n",
              " (('i', 'g'), 2),\n",
              " (('w', 'r'), 2),\n",
              " (('i', 'u'), 2),\n",
              " (('j', 'h'), 2),\n",
              " (('g', 'p'), 2),\n",
              " (('d', 's'), 2),\n",
              " (('k', 't'), 2),\n",
              " (('d', 'o'), 2),\n",
              " (('u', 'z'), 2),\n",
              " (('m', 'y'), 1),\n",
              " (('x', 'a'), 1),\n",
              " (('z', 'e'), 1),\n",
              " (('v', 'v'), 1),\n",
              " (('z', 'r'), 1),\n",
              " (('k', 'p'), 1),\n",
              " (('c', 'u'), 1),\n",
              " (('a', 'o'), 1),\n",
              " (('n', 'f'), 1),\n",
              " (('y', 'v'), 1),\n",
              " (('k', 'l'), 1),\n",
              " (('s', 'n'), 1),\n",
              " (('g', 'j'), 1),\n",
              " (('m', 'w'), 1),\n",
              " (('h', 'c'), 1),\n",
              " (('v', 'g'), 1),\n",
              " (('d', 't'), 1),\n",
              " (('v', 'c'), 1),\n",
              " (('v', 'f'), 1),\n",
              " (('v', 'j'), 1),\n",
              " (('h', 'g'), 1),\n",
              " (('t', 'w'), 1),\n",
              " (('f', 'z'), 1),\n",
              " (('g', 'l'), 1),\n",
              " (('v', 'p'), 1),\n",
              " (('g', 'w'), 1),\n",
              " (('z', 'h'), 1),\n",
              " (('s', 'k'), 1),\n",
              " (('b', 'c'), 1),\n",
              " (('s', 'f'), 1),\n",
              " (('p', 'l'), 1),\n",
              " (('c', 'c'), 1),\n",
              " (('v', 't'), 1),\n",
              " (('u', 'g'), 1),\n",
              " (('t', 'v'), 1),\n",
              " (('g', 't'), 1),\n",
              " (('u', 'e'), 1),\n",
              " (('y', 'd'), 1),\n",
              " (('g', 'g'), 1),\n",
              " (('l', 'h'), 1),\n",
              " (('y', 'n'), 1),\n",
              " (('q', 'a'), 1),\n",
              " (('w', 'u'), 1),\n",
              " (('u', 'w'), 1),\n",
              " (('f', 'h'), 1),\n",
              " (('o', 'a'), 1),\n",
              " (('v', 'b'), 1),\n",
              " (('g', 'v'), 1),\n",
              " (('q', 'r'), 1),\n",
              " (('t', 'm'), 1),\n",
              " (('v', 'l'), 1),\n",
              " (('c', 'a'), 1),\n",
              " (('p', 'v'), 1),\n",
              " (('v', 'h'), 1),\n",
              " (('t', 'j'), 1),\n",
              " (('g', 'b'), 1),\n",
              " (('u', 'i'), 1),\n",
              " (('q', 'o'), 1),\n",
              " (('i', 'i'), 1),\n",
              " (('s', 'g'), 1),\n",
              " (('t', 'l'), 1),\n",
              " (('f', 'j'), 1),\n",
              " (('d', 'v'), 1)]"
            ]
          },
          "metadata": {},
          "execution_count": 11
        }
      ]
    },
    {
      "cell_type": "code",
      "source": [
        "import torch"
      ],
      "metadata": {
        "id": "J-jmCklVqDP_"
      },
      "execution_count": 12,
      "outputs": []
    },
    {
      "cell_type": "code",
      "source": [
        "N = torch.zeros((27,27),dtype=torch.int32)"
      ],
      "metadata": {
        "id": "KL5OeSxqn7l1"
      },
      "execution_count": 13,
      "outputs": []
    },
    {
      "cell_type": "code",
      "source": [
        "chars=sorted(list(set(''.join(words))))\n",
        "stoi= {s:i+1 for i,s in enumerate(chars)}\n",
        "stoi['.']=0\n",
        "stoi"
      ],
      "metadata": {
        "colab": {
          "base_uri": "https://localhost:8080/"
        },
        "id": "mM2zmnQro-F8",
        "outputId": "e0594822-7e20-4284-9d3a-005d2642bc3d"
      },
      "execution_count": 14,
      "outputs": [
        {
          "output_type": "execute_result",
          "data": {
            "text/plain": [
              "{'a': 1,\n",
              " 'b': 2,\n",
              " 'c': 3,\n",
              " 'd': 4,\n",
              " 'e': 5,\n",
              " 'f': 6,\n",
              " 'g': 7,\n",
              " 'h': 8,\n",
              " 'i': 9,\n",
              " 'j': 10,\n",
              " 'k': 11,\n",
              " 'l': 12,\n",
              " 'm': 13,\n",
              " 'n': 14,\n",
              " 'o': 15,\n",
              " 'p': 16,\n",
              " 'q': 17,\n",
              " 'r': 18,\n",
              " 's': 19,\n",
              " 't': 20,\n",
              " 'u': 21,\n",
              " 'v': 22,\n",
              " 'w': 23,\n",
              " 'x': 24,\n",
              " 'y': 25,\n",
              " 'z': 26,\n",
              " '.': 0}"
            ]
          },
          "metadata": {},
          "execution_count": 14
        }
      ]
    },
    {
      "cell_type": "code",
      "source": [
        "for w in words:\n",
        "  chs=['.']+list(w)+['.']\n",
        "  for ch1,ch2 in zip(chs,chs[1:]):\n",
        "    ix1=stoi[ch1]\n",
        "    ix2=stoi[ch2]\n",
        "    N[ix1,ix2] += 1"
      ],
      "metadata": {
        "id": "7MUNqzWbn7gj"
      },
      "execution_count": 15,
      "outputs": []
    },
    {
      "cell_type": "code",
      "source": [
        "itos={i:s for s,i in stoi.items()}"
      ],
      "metadata": {
        "id": "VjFty6qiqqqW"
      },
      "execution_count": 16,
      "outputs": []
    },
    {
      "cell_type": "code",
      "source": [
        "import matplotlib.pyplot as plt\n",
        "\n",
        "plt.figure(figsize=(26,26))\n",
        "plt.imshow(N,cmap='Blues')\n",
        "for i in range(27):\n",
        "  for j in range(27):\n",
        "    chstr=itos[i]+itos[j]\n",
        "    plt.text(j,i,chstr,ha=\"center\",va=\"bottom\",color=\"gray\")\n",
        "    plt.text(j,i,N[i,j].item(),ha=\"center\",va=\"top\",color=\"gray\")\n",
        "plt.axis('off');\n"
      ],
      "metadata": {
        "colab": {
          "base_uri": "https://localhost:8080/",
          "height": 647
        },
        "id": "MKgwjFTkn7Xq",
        "outputId": "fc36afd2-90a4-4cee-bd2b-0521e91c972f"
      },
      "execution_count": 17,
      "outputs": [
        {
          "output_type": "display_data",
          "data": {
            "text/plain": [
              "<Figure size 2600x2600 with 1 Axes>"
            ],
            "image/png": "[encoded data removed]"
          },
          "metadata": {}
        }
      ]
    },
    {
      "cell_type": "code",
      "source": [
        "N[0]"
      ],
      "metadata": {
        "colab": {
          "base_uri": "https://localhost:8080/"
        },
        "id": "FKWedJVJrqqZ",
        "outputId": "a4b683a2-6065-4f02-ed5d-a816a6bbf013"
      },
      "execution_count": 18,
      "outputs": [
        {
          "output_type": "execute_result",
          "data": {
            "text/plain": [
              "tensor([   0,  854,  242,   79,  406,    3,   51,  192,  152,   82,  204,  306,\n",
              "          86,  484,  276,   34,  314,    0,  877, 1218,   91,   33,  361,   19,\n",
              "           0,   58,    7], dtype=torch.int32)"
            ]
          },
          "metadata": {},
          "execution_count": 18
        }
      ]
    },
    {
      "cell_type": "code",
      "source": [
        "p=N[0].float()\n",
        "p=p/p.sum()\n",
        "p"
      ],
      "metadata": {
        "colab": {
          "base_uri": "https://localhost:8080/"
        },
        "id": "C1kL6i5grqnw",
        "outputId": "d06584a8-5444-4ba8-c5e5-b1af075e5c23"
      },
      "execution_count": 19,
      "outputs": [
        {
          "output_type": "execute_result",
          "data": {
            "text/plain": [
              "tensor([0.0000, 0.1328, 0.0376, 0.0123, 0.0632, 0.0005, 0.0079, 0.0299, 0.0236,\n",
              "        0.0128, 0.0317, 0.0476, 0.0134, 0.0753, 0.0429, 0.0053, 0.0488, 0.0000,\n",
              "        0.1364, 0.1895, 0.0142, 0.0051, 0.0562, 0.0030, 0.0000, 0.0090, 0.0011])"
            ]
          },
          "metadata": {},
          "execution_count": 19
        }
      ]
    },
    {
      "cell_type": "code",
      "source": [
        "g=torch.Generator().manual_seed(19)\n",
        "ix=torch.multinomial(p,num_samples=1,replacement=True,generator=g).item()\n",
        "ix\n",
        "itos[ix]"
      ],
      "metadata": {
        "colab": {
          "base_uri": "https://localhost:8080/",
          "height": 36
        },
        "id": "PrNxVCmstWUp",
        "outputId": "ba6168a7-ddad-4f9a-f04d-07723fbb9d17"
      },
      "execution_count": 20,
      "outputs": [
        {
          "output_type": "execute_result",
          "data": {
            "text/plain": [
              "'s'"
            ],
            "application/vnd.google.colaboratory.intrinsic+json": {
              "type": "string"
            }
          },
          "metadata": {},
          "execution_count": 20
        }
      ]
    },
    {
      "cell_type": "code",
      "source": [
        "P = N.float()"
      ],
      "metadata": {
        "id": "neROsmFaGZvF"
      },
      "execution_count": 21,
      "outputs": []
    },
    {
      "cell_type": "code",
      "source": [
        "P.sum(1,keepdim=True).shape"
      ],
      "metadata": {
        "colab": {
          "base_uri": "https://localhost:8080/"
        },
        "id": "VbVSWUcmHJzD",
        "outputId": "589c0a40-ad8d-4171-f267-e7cc0c8fae22"
      },
      "execution_count": 22,
      "outputs": [
        {
          "output_type": "execute_result",
          "data": {
            "text/plain": [
              "torch.Size([27, 1])"
            ]
          },
          "metadata": {},
          "execution_count": 22
        }
      ]
    },
    {
      "cell_type": "code",
      "source": [
        "P = P/P.sum(1,keepdim=True)"
      ],
      "metadata": {
        "id": "436xqdaQKdfQ"
      },
      "execution_count": 23,
      "outputs": []
    },
    {
      "cell_type": "code",
      "source": [
        "P[0].sum()"
      ],
      "metadata": {
        "colab": {
          "base_uri": "https://localhost:8080/"
        },
        "id": "KMUaUtsgLDso",
        "outputId": "a0bff871-d798-47ab-8fda-903c099c1b7c"
      },
      "execution_count": 24,
      "outputs": [
        {
          "output_type": "execute_result",
          "data": {
            "text/plain": [
              "tensor(1.)"
            ]
          },
          "metadata": {},
          "execution_count": 24
        }
      ]
    },
    {
      "cell_type": "code",
      "source": [
        "g=torch.Generator().manual_seed(19)\n",
        "\n",
        "for i in range(10):\n",
        "  out=[]\n",
        "  ix=0\n",
        "  while True:\n",
        "    p=P[ix]\n",
        "    ix=torch.multinomial(p,num_samples=1,replacement=True,generator=g).item()\n",
        "    out.append(itos[ix])\n",
        "    if ix==0:\n",
        "      break\n",
        "  print(''.join(out))"
      ],
      "metadata": {
        "colab": {
          "base_uri": "https://localhost:8080/"
        },
        "id": "Wadi9vxSB3x9",
        "outputId": "69de6c37-fc98-4c01-ecc6-9d10bc51c90d"
      },
      "execution_count": 25,
      "outputs": [
        {
          "output_type": "stream",
          "name": "stdout",
          "text": [
            "shajith.\n",
            "meepal.\n",
            "kararaninodijee.\n",
            "sanwnkundeetrilanjer.\n",
            "il.\n",
            "vinkamalsohin.\n",
            "ahubhit.\n",
            "z.\n",
            "shin.\n",
            "sh.\n"
          ]
        }
      ]
    },
    {
      "cell_type": "code",
      "source": [
        "log_likelihood=0.0\n",
        "n=0\n",
        "for w in words:\n",
        "# for w in ['kunalq']:\n",
        "  chs=['.']+list(w)+['.']\n",
        "  for ch1,ch2 in zip(chs,chs[1:]):\n",
        "    ix1=stoi[ch1]\n",
        "    ix2=stoi[ch2]\n",
        "    prob=P[ix1,ix2]\n",
        "    logprob=torch.log(prob)\n",
        "    log_likelihood+=logprob\n",
        "    n+=1\n",
        "    # print(f'{ch1}{ch2}: {prob:.4f} {logprob:.4f}')\n",
        "\n",
        "print(f'{log_likelihood=}')\n",
        "nll=-log_likelihood\n",
        "print(f'{nll=}')\n",
        "\n",
        "print(f'{nll/n}')"
      ],
      "metadata": {
        "colab": {
          "base_uri": "https://localhost:8080/"
        },
        "id": "FLmH7YRPB3u5",
        "outputId": "23347f8b-952a-471d-e980-e300a8a02263"
      },
      "execution_count": 26,
      "outputs": [
        {
          "output_type": "stream",
          "name": "stdout",
          "text": [
            "log_likelihood=tensor(-99490.8594)\n",
            "nll=tensor(99490.8594)\n",
            "2.182152032852173\n"
          ]
        }
      ]
    },
    {
      "cell_type": "code",
      "source": [
        "xs,ys=[],[]\n",
        "\n",
        "for w in words[:1]:\n",
        "  chs=['.']+list(w)+['.']\n",
        "  for ch1,ch2 in zip(chs,chs[1:]):\n",
        "    ix1=stoi[ch1]\n",
        "    ix2=stoi[ch2]\n",
        "    print(f'{ch1} {ch2}')\n",
        "    xs.append(ix1)\n",
        "    ys.append(ix2)\n",
        "xs=torch.tensor(xs)\n",
        "ys=torch.tensor(ys)"
      ],
      "metadata": {
        "colab": {
          "base_uri": "https://localhost:8080/"
        },
        "id": "ohAtWn6RB3p7",
        "outputId": "46d25a5d-8f13-4b9d-dadb-6e5ce56b7a20"
      },
      "execution_count": 27,
      "outputs": [
        {
          "output_type": "stream",
          "name": "stdout",
          "text": [
            ". s\n",
            "s a\n",
            "a m\n",
            "m y\n",
            "y a\n",
            "a k\n",
            "k .\n"
          ]
        }
      ]
    },
    {
      "cell_type": "code",
      "source": [
        "xs"
      ],
      "metadata": {
        "colab": {
          "base_uri": "https://localhost:8080/"
        },
        "id": "tznUwOI6B3n3",
        "outputId": "3a5f6ec9-0cbe-4cc9-ca02-0672e8e8444e"
      },
      "execution_count": 28,
      "outputs": [
        {
          "output_type": "execute_result",
          "data": {
            "text/plain": [
              "tensor([ 0, 19,  1, 13, 25,  1, 11])"
            ]
          },
          "metadata": {},
          "execution_count": 28
        }
      ]
    },
    {
      "cell_type": "code",
      "source": [
        "ys"
      ],
      "metadata": {
        "colab": {
          "base_uri": "https://localhost:8080/"
        },
        "id": "wO1Zg_3vB3lL",
        "outputId": "d368d10b-5a20-44ba-8439-906874f5dd44"
      },
      "execution_count": 29,
      "outputs": [
        {
          "output_type": "execute_result",
          "data": {
            "text/plain": [
              "tensor([19,  1, 13, 25,  1, 11,  0])"
            ]
          },
          "metadata": {},
          "execution_count": 29
        }
      ]
    },
    {
      "cell_type": "code",
      "source": [
        "import torch.nn.functional as F\n",
        "xenc=F.one_hot(xs, num_classes=27).float()\n",
        "xenc"
      ],
      "metadata": {
        "colab": {
          "base_uri": "https://localhost:8080/"
        },
        "id": "LXEXWPPdB3im",
        "outputId": "2ec4aa6f-2392-417f-d110-4d4b0a752e2b"
      },
      "execution_count": 30,
      "outputs": [
        {
          "output_type": "execute_result",
          "data": {
            "text/plain": [
              "tensor([[1., 0., 0., 0., 0., 0., 0., 0., 0., 0., 0., 0., 0., 0., 0., 0., 0., 0.,\n",
              "         0., 0., 0., 0., 0., 0., 0., 0., 0.],\n",
              "        [0., 0., 0., 0., 0., 0., 0., 0., 0., 0., 0., 0., 0., 0., 0., 0., 0., 0.,\n",
              "         0., 1., 0., 0., 0., 0., 0., 0., 0.],\n",
              "        [0., 1., 0., 0., 0., 0., 0., 0., 0., 0., 0., 0., 0., 0., 0., 0., 0., 0.,\n",
              "         0., 0., 0., 0., 0., 0., 0., 0., 0.],\n",
              "        [0., 0., 0., 0., 0., 0., 0., 0., 0., 0., 0., 0., 0., 1., 0., 0., 0., 0.,\n",
              "         0., 0., 0., 0., 0., 0., 0., 0., 0.],\n",
              "        [0., 0., 0., 0., 0., 0., 0., 0., 0., 0., 0., 0., 0., 0., 0., 0., 0., 0.,\n",
              "         0., 0., 0., 0., 0., 0., 0., 1., 0.],\n",
              "        [0., 1., 0., 0., 0., 0., 0., 0., 0., 0., 0., 0., 0., 0., 0., 0., 0., 0.,\n",
              "         0., 0., 0., 0., 0., 0., 0., 0., 0.],\n",
              "        [0., 0., 0., 0., 0., 0., 0., 0., 0., 0., 0., 1., 0., 0., 0., 0., 0., 0.,\n",
              "         0., 0., 0., 0., 0., 0., 0., 0., 0.]])"
            ]
          },
          "metadata": {},
          "execution_count": 30
        }
      ]
    },
    {
      "cell_type": "code",
      "source": [
        "xenc.shape"
      ],
      "metadata": {
        "colab": {
          "base_uri": "https://localhost:8080/"
        },
        "id": "hmuHQMNtB3gB",
        "outputId": "4c4c434e-0619-4ae6-f352-c700507698cd"
      },
      "execution_count": 31,
      "outputs": [
        {
          "output_type": "execute_result",
          "data": {
            "text/plain": [
              "torch.Size([7, 27])"
            ]
          },
          "metadata": {},
          "execution_count": 31
        }
      ]
    },
    {
      "cell_type": "code",
      "source": [
        "plt.imshow(xenc)"
      ],
      "metadata": {
        "colab": {
          "base_uri": "https://localhost:8080/",
          "height": 207
        },
        "id": "3ERMDbrOB3dZ",
        "outputId": "b610f7d6-c7a4-4b62-8755-cc24e96324b6"
      },
      "execution_count": 32,
      "outputs": [
        {
          "output_type": "execute_result",
          "data": {
            "text/plain": [
              "<matplotlib.image.AxesImage at 0x7a6c1316b430>"
            ]
          },
          "metadata": {},
          "execution_count": 32
        },
        {
          "output_type": "display_data",
          "data": {
            "text/plain": [
              "<Figure size 640x480 with 1 Axes>"
            ],
            "image/png": "[encoded data removed]"
          },
          "metadata": {}
        }
      ]
    },
    {
      "cell_type": "code",
      "source": [
        "xenc.dtype"
      ],
      "metadata": {
        "colab": {
          "base_uri": "https://localhost:8080/"
        },
        "id": "HMwhM2koB3bC",
        "outputId": "04f9ba5d-4fb6-4b0b-fb27-e999be3d8516"
      },
      "execution_count": 33,
      "outputs": [
        {
          "output_type": "execute_result",
          "data": {
            "text/plain": [
              "torch.float32"
            ]
          },
          "metadata": {},
          "execution_count": 33
        }
      ]
    },
    {
      "cell_type": "code",
      "source": [
        "W = torch.randn((27,27))"
      ],
      "metadata": {
        "id": "mWUrNKrThvkU"
      },
      "execution_count": 34,
      "outputs": []
    },
    {
      "cell_type": "code",
      "source": [
        "xenc[0]"
      ],
      "metadata": {
        "colab": {
          "base_uri": "https://localhost:8080/"
        },
        "id": "tHn-DBhmhUIV",
        "outputId": "06130732-76ab-4de1-fbf4-a51314451ce8"
      },
      "execution_count": 35,
      "outputs": [
        {
          "output_type": "execute_result",
          "data": {
            "text/plain": [
              "tensor([1., 0., 0., 0., 0., 0., 0., 0., 0., 0., 0., 0., 0., 0., 0., 0., 0., 0.,\n",
              "        0., 0., 0., 0., 0., 0., 0., 0., 0.])"
            ]
          },
          "metadata": {},
          "execution_count": 35
        }
      ]
    },
    {
      "cell_type": "code",
      "source": [
        "W"
      ],
      "metadata": {
        "colab": {
          "base_uri": "https://localhost:8080/"
        },
        "id": "KMsKr3YWhZ5l",
        "outputId": "886ecd65-0b70-4d60-9177-1bebc2211094"
      },
      "execution_count": 36,
      "outputs": [
        {
          "output_type": "execute_result",
          "data": {
            "text/plain": [
              "tensor([[-0.4641,  1.1674,  0.8591,  0.1930, -0.2059,  0.0372, -0.6009, -0.8304,\n",
              "         -0.1000,  0.8247, -0.2269,  1.1232, -0.2830, -0.8571, -0.2798,  1.9079,\n",
              "          0.1950, -0.6074,  0.9587,  0.3724, -0.4825,  0.7468,  1.0654, -1.6021,\n",
              "         -1.1463,  0.6658, -0.1459],\n",
              "        [ 0.5176, -0.6592, -0.8013,  1.3174,  0.6763, -0.9872,  1.5259,  1.1870,\n",
              "         -0.9071,  0.9285, -0.0604,  0.4699,  0.4426, -1.9265, -0.6140,  0.0113,\n",
              "         -0.5603, -2.1876, -2.3064,  0.1307,  0.4405, -0.0406,  0.3255, -0.5182,\n",
              "          0.6942, -0.7563,  0.2272],\n",
              "        [ 0.5643,  1.2438,  0.3344,  0.2948, -0.5669, -0.1264, -1.8372, -1.5732,\n",
              "         -0.5688,  1.8388, -0.8914, -1.0117,  0.3825,  0.5857,  0.3354,  0.2364,\n",
              "          1.2144, -0.0937, -0.3360, -0.3786, -1.1847,  0.2798, -0.0366, -0.5115,\n",
              "         -0.4637,  1.4069, -0.4145],\n",
              "        [-1.3522,  0.6772,  0.4701,  0.4908, -1.4738,  0.7338, -0.7995,  0.0380,\n",
              "          1.4728, -1.6414,  1.1185, -0.3712, -0.0329,  0.0886,  0.3630,  0.0568,\n",
              "         -0.4260,  1.1958, -0.8364,  0.4623,  0.7183,  0.5594,  0.8272, -0.2282,\n",
              "          0.6750, -0.7539,  2.1032],\n",
              "        [-0.3533,  0.5222, -1.5345,  0.3708,  0.2404, -0.8266, -0.5771, -1.0827,\n",
              "         -0.7038, -0.9163,  1.4595, -0.7686,  0.6824, -0.1859,  1.0115, -1.0990,\n",
              "         -0.0760,  1.2219, -1.7862, -0.1682,  0.2255,  0.2924, -0.2881,  0.4878,\n",
              "          0.8137, -0.0647, -1.5079],\n",
              "        [-0.7186,  0.6311,  1.0800,  0.5596, -0.7939,  1.9159, -2.0181,  0.8449,\n",
              "          1.7315,  0.5634, -0.0217,  0.2708, -1.7114,  0.3271,  0.5901,  0.9677,\n",
              "          1.7806, -2.4519, -0.6712,  1.0220,  2.8206,  1.7167, -0.2003, -1.4118,\n",
              "         -0.8834,  1.2378,  0.7147],\n",
              "        [ 0.4616,  1.4536, -1.0944,  1.9283, -0.0338, -0.0946,  0.3543, -0.4865,\n",
              "         -0.5730, -0.2415, -1.1255, -0.5719, -1.7884, -1.1074, -0.7566, -0.5141,\n",
              "         -1.0384, -1.2426, -0.2164,  1.2071,  0.8125,  1.7510, -0.4779, -1.2249,\n",
              "         -1.5170,  0.7478, -0.0996],\n",
              "        [ 0.9923, -0.0654, -0.1482, -0.8487, -1.7548, -0.5570, -0.1418,  0.3220,\n",
              "         -0.4780, -1.6158, -1.6550,  0.8506, -0.5741,  0.4347,  1.7766, -0.6396,\n",
              "          0.0265, -0.6070,  0.7001, -0.6177,  1.0617,  1.0274, -1.1688, -1.3483,\n",
              "         -0.4393, -0.7237, -0.0330],\n",
              "        [ 0.8671,  1.2132, -1.3203, -0.7250, -0.6426, -0.1515, -1.3485, -0.0635,\n",
              "          0.5780,  0.7964, -0.9757, -1.5020, -2.1467,  1.9832,  0.5022,  0.1247,\n",
              "          0.8374,  0.0445, -1.6036, -0.9681, -0.4215, -1.5237,  0.0944, -0.1485,\n",
              "          0.5233,  0.7351, -0.0858],\n",
              "        [ 0.0895, -1.3665, -0.2140, -1.3472, -0.8896, -0.6847, -0.2137, -0.6791,\n",
              "          0.2278, -0.1219, -1.1552, -1.1959, -0.9678,  1.4301,  1.0588, -0.8600,\n",
              "         -0.2510, -1.5442,  0.0416,  0.6458, -0.2484,  0.4112,  0.7618,  2.4037,\n",
              "         -0.6972,  0.8696, -1.1024],\n",
              "        [ 0.6552,  0.7315, -0.1856, -1.5913, -0.6781,  0.2149,  0.2973, -1.1602,\n",
              "          2.0726, -0.6241,  1.3190,  0.3511,  0.5461, -1.0241, -1.4501, -0.5083,\n",
              "         -1.2722,  0.0896, -0.4161, -2.3910,  0.6704,  1.2693, -1.5526,  1.2611,\n",
              "         -0.3235,  0.2077,  0.4574],\n",
              "        [-0.7061,  0.5347, -0.0590, -0.5771,  0.8155,  0.0508,  0.2059,  1.8905,\n",
              "         -0.4444, -0.2494,  0.8607,  0.3974,  0.7311,  1.7125, -0.2027,  0.9132,\n",
              "          0.5324, -1.5338,  0.8803, -0.6327,  0.0122,  1.6765,  0.3806,  0.2512,\n",
              "          0.1625,  1.9925,  0.7693],\n",
              "        [ 1.1768, -0.7785,  0.4543, -0.3816,  0.9099, -0.8249, -0.6504,  0.0710,\n",
              "          0.1263,  0.5136,  0.7738,  1.4632, -0.6259, -0.7722,  0.1638, -0.4777,\n",
              "          0.1619,  0.3416,  1.2180, -0.2543, -1.3190,  0.0062, -0.8031, -0.6961,\n",
              "         -0.1148, -0.4207, -0.0084],\n",
              "        [ 1.3460, -0.6093, -1.5369,  0.8346,  0.3132, -1.6181,  1.6071, -0.4459,\n",
              "         -0.3671, -0.3061, -0.4447, -0.7696,  0.9038,  2.2209, -0.7275,  0.3550,\n",
              "          1.0423,  1.8078, -1.0673,  1.5836,  0.6581, -0.4394,  0.2553, -0.4162,\n",
              "         -0.3881,  0.1743, -0.4369],\n",
              "        [ 0.3483,  0.5278, -1.3786, -0.2671,  0.6815,  0.7967, -0.6641, -1.2646,\n",
              "          0.0588,  1.5343,  0.9864, -0.5415, -0.2094,  1.4441, -0.0743, -1.6883,\n",
              "          0.5349,  1.0470, -0.6918,  0.4371, -0.8639, -0.6377,  0.9758, -0.5697,\n",
              "          0.7531, -0.8873, -1.7257],\n",
              "        [-1.2910, -0.4978,  0.5446, -0.2479,  0.4076, -1.8119, -0.3774,  0.5339,\n",
              "          2.2708,  1.1164, -1.2979, -0.9255, -1.1570,  2.1007,  1.0157, -0.0166,\n",
              "          0.0750,  0.3814,  0.3436, -1.4588,  1.8934,  1.0370, -2.7384,  0.7658,\n",
              "          2.5711, -0.6633,  0.1936],\n",
              "        [-0.8750,  2.0744,  0.5223, -0.6075, -1.5032,  1.4479,  1.5293,  1.2700,\n",
              "          1.5468,  0.2377,  0.0999,  0.3712,  0.1860,  1.8130,  0.6785,  2.3899,\n",
              "         -1.0412,  0.7288,  0.3068, -0.4347,  0.0523,  0.2529, -1.0262,  0.2673,\n",
              "          0.1920,  1.7971, -0.6072],\n",
              "        [ 1.6090, -0.7233,  1.1314, -0.9699,  1.0557, -0.1333, -0.1104, -0.9822,\n",
              "         -1.9029, -1.1188, -0.8065, -1.4069, -0.7525,  0.0221, -1.5409, -1.0876,\n",
              "          0.4548,  0.0440, -0.5099, -0.9024,  1.7276,  0.8276, -1.8315, -0.3309,\n",
              "         -1.1431,  1.8106, -0.0672],\n",
              "        [-1.5872, -0.3640, -0.0733, -0.5741,  1.8181,  0.9983, -1.6858,  1.7455,\n",
              "          1.0632, -1.1963, -0.9561,  0.7095, -0.0096,  0.4303, -1.7838,  1.0045,\n",
              "         -1.0913,  1.0507,  0.3100, -0.1474,  0.7066,  0.0713,  0.2726, -1.2003,\n",
              "          0.0613,  1.0803,  0.7888],\n",
              "        [-0.4894, -0.8945,  0.0998, -0.1124,  1.2596, -0.7265,  1.9457,  1.3014,\n",
              "         -0.9990,  1.1359, -0.8328,  0.4131,  0.2251, -0.7896,  0.6235, -0.6290,\n",
              "         -1.9311, -1.4952, -1.1469,  1.1372,  1.3886, -2.1749,  0.9254,  0.8828,\n",
              "         -0.0297,  0.3787, -0.7008],\n",
              "        [-2.0576, -0.8657, -1.1020,  0.2311,  1.0770, -1.3286, -0.5270,  1.5164,\n",
              "          0.4554, -1.5817, -2.2266,  0.5781, -0.7922, -2.1745,  0.4204, -1.0942,\n",
              "          1.6496, -1.7471,  0.3621, -1.4081,  0.0792,  1.3126, -0.4034,  1.0273,\n",
              "         -1.0914,  0.3620, -1.3177],\n",
              "        [-0.8522, -1.0190, -0.5110, -2.2013, -0.3163, -0.0421, -0.8232,  0.4948,\n",
              "          0.4635,  0.9963,  0.0687, -0.7100,  1.5422, -1.1495, -0.0603,  0.1693,\n",
              "         -0.6440, -0.8591,  1.6384, -2.0121, -0.5987, -0.2433, -0.8827,  0.7056,\n",
              "         -0.7676, -0.1337, -0.3551],\n",
              "        [-0.3840, -1.8097,  0.2645, -0.2765, -0.6228,  0.5726,  0.7114,  1.8331,\n",
              "          1.8631,  0.1632,  0.2432,  2.3320,  2.1650,  0.9868,  1.1899,  0.2643,\n",
              "          1.0796, -0.2131,  0.2880,  0.7013, -1.6224,  2.3334, -0.2602,  0.1552,\n",
              "         -1.4160, -0.4262, -0.4313],\n",
              "        [ 1.0305,  0.5969, -0.8923, -0.3934, -0.9655,  0.8817,  0.4911,  0.4102,\n",
              "         -0.5526, -0.6015, -1.1170,  2.3225,  0.8548,  0.7152,  0.3942, -0.0404,\n",
              "          1.4071, -0.2016,  0.2873, -1.2093, -0.8875, -1.7995, -0.3331,  0.1593,\n",
              "          0.5519,  1.2643,  1.0070],\n",
              "        [-1.9978, -0.9726,  2.1016,  1.0960, -0.8389,  1.0214,  0.6710, -1.3630,\n",
              "          0.4986, -0.2289,  1.2482, -1.1512,  0.0552, -0.0348, -0.6300,  0.1669,\n",
              "          1.4655,  1.0083,  0.3721,  0.1638,  0.7135,  0.7653,  0.0507, -0.1975,\n",
              "          0.7413,  0.7086, -0.0926],\n",
              "        [ 0.6674, -0.9584,  0.5618,  1.5845,  1.4215, -0.8778, -1.2766, -0.2946,\n",
              "          0.0137, -0.3079, -0.0661,  0.2712,  0.5358, -1.6250, -0.4905, -0.9957,\n",
              "         -0.1406,  0.1213, -0.4301,  0.0241, -1.3313, -1.5947, -0.0232, -0.2043,\n",
              "          0.8651,  1.3579, -0.5540],\n",
              "        [ 0.7921, -0.6371,  0.6504,  0.4507, -1.6199,  1.1561, -1.2550,  0.2087,\n",
              "          0.0830, -0.3815, -1.2398, -0.2811,  0.6599,  0.1184,  0.7152,  0.0471,\n",
              "         -0.9660,  0.0542, -1.1561, -0.4421, -1.6364,  0.3558,  2.1662, -0.2386,\n",
              "         -0.0301, -0.1677, -0.9822]])"
            ]
          },
          "metadata": {},
          "execution_count": 36
        }
      ]
    },
    {
      "cell_type": "code",
      "source": [
        "print(f'{xenc.shape}  {W.shape}')"
      ],
      "metadata": {
        "colab": {
          "base_uri": "https://localhost:8080/"
        },
        "id": "WMluuIDIiNtb",
        "outputId": "6caeeeb2-3774-453f-8ce0-dfee561c6a02"
      },
      "execution_count": 37,
      "outputs": [
        {
          "output_type": "stream",
          "name": "stdout",
          "text": [
            "torch.Size([7, 27])  torch.Size([27, 27])\n"
          ]
        }
      ]
    },
    {
      "cell_type": "code",
      "source": [
        "xenc[0] @ W"
      ],
      "metadata": {
        "colab": {
          "base_uri": "https://localhost:8080/"
        },
        "id": "xbTGKTumhpaX",
        "outputId": "470ba745-7880-4b6b-9fce-555e9e049502"
      },
      "execution_count": 38,
      "outputs": [
        {
          "output_type": "execute_result",
          "data": {
            "text/plain": [
              "tensor([-0.4641,  1.1674,  0.8591,  0.1930, -0.2059,  0.0372, -0.6009, -0.8304,\n",
              "        -0.1000,  0.8247, -0.2269,  1.1232, -0.2830, -0.8571, -0.2798,  1.9079,\n",
              "         0.1950, -0.6074,  0.9587,  0.3724, -0.4825,  0.7468,  1.0654, -1.6021,\n",
              "        -1.1463,  0.6658, -0.1459])"
            ]
          },
          "metadata": {},
          "execution_count": 38
        }
      ]
    },
    {
      "cell_type": "code",
      "source": [
        "(xenc[0] @ W).exp()"
      ],
      "metadata": {
        "colab": {
          "base_uri": "https://localhost:8080/"
        },
        "id": "OpZUs536jGIh",
        "outputId": "11fea3ac-b26a-4e28-c77d-b64450c55cb4"
      },
      "execution_count": 39,
      "outputs": [
        {
          "output_type": "execute_result",
          "data": {
            "text/plain": [
              "tensor([0.6287, 3.2135, 2.3611, 1.2129, 0.8139, 1.0379, 0.5483, 0.4359, 0.9048,\n",
              "        2.2811, 0.7970, 3.0746, 0.7535, 0.4244, 0.7559, 6.7393, 1.2154, 0.5447,\n",
              "        2.6084, 1.4512, 0.6172, 2.1102, 2.9020, 0.2015, 0.3178, 1.9460, 0.8642])"
            ]
          },
          "metadata": {},
          "execution_count": 39
        }
      ]
    },
    {
      "cell_type": "code",
      "source": [
        "xenc @ W"
      ],
      "metadata": {
        "colab": {
          "base_uri": "https://localhost:8080/"
        },
        "id": "du1ZtsZ4B3Sc",
        "outputId": "07428a52-c7f1-4d07-d1d1-210f83348609"
      },
      "execution_count": 40,
      "outputs": [
        {
          "output_type": "execute_result",
          "data": {
            "text/plain": [
              "tensor([[-0.4641,  1.1674,  0.8591,  0.1930, -0.2059,  0.0372, -0.6009, -0.8304,\n",
              "         -0.1000,  0.8247, -0.2269,  1.1232, -0.2830, -0.8571, -0.2798,  1.9079,\n",
              "          0.1950, -0.6074,  0.9587,  0.3724, -0.4825,  0.7468,  1.0654, -1.6021,\n",
              "         -1.1463,  0.6658, -0.1459],\n",
              "        [-0.4894, -0.8945,  0.0998, -0.1124,  1.2596, -0.7265,  1.9457,  1.3014,\n",
              "         -0.9990,  1.1359, -0.8328,  0.4131,  0.2251, -0.7896,  0.6235, -0.6290,\n",
              "         -1.9311, -1.4952, -1.1469,  1.1372,  1.3886, -2.1749,  0.9254,  0.8828,\n",
              "         -0.0297,  0.3787, -0.7008],\n",
              "        [ 0.5176, -0.6592, -0.8013,  1.3174,  0.6763, -0.9872,  1.5259,  1.1870,\n",
              "         -0.9071,  0.9285, -0.0604,  0.4699,  0.4426, -1.9265, -0.6140,  0.0113,\n",
              "         -0.5603, -2.1876, -2.3064,  0.1307,  0.4405, -0.0406,  0.3255, -0.5182,\n",
              "          0.6942, -0.7563,  0.2272],\n",
              "        [ 1.3460, -0.6093, -1.5369,  0.8346,  0.3132, -1.6181,  1.6071, -0.4459,\n",
              "         -0.3671, -0.3061, -0.4447, -0.7696,  0.9038,  2.2209, -0.7275,  0.3550,\n",
              "          1.0423,  1.8078, -1.0673,  1.5836,  0.6581, -0.4394,  0.2553, -0.4162,\n",
              "         -0.3881,  0.1743, -0.4369],\n",
              "        [ 0.6674, -0.9584,  0.5618,  1.5845,  1.4215, -0.8778, -1.2766, -0.2946,\n",
              "          0.0137, -0.3079, -0.0661,  0.2712,  0.5358, -1.6250, -0.4905, -0.9957,\n",
              "         -0.1406,  0.1213, -0.4301,  0.0241, -1.3313, -1.5947, -0.0232, -0.2043,\n",
              "          0.8651,  1.3579, -0.5540],\n",
              "        [ 0.5176, -0.6592, -0.8013,  1.3174,  0.6763, -0.9872,  1.5259,  1.1870,\n",
              "         -0.9071,  0.9285, -0.0604,  0.4699,  0.4426, -1.9265, -0.6140,  0.0113,\n",
              "         -0.5603, -2.1876, -2.3064,  0.1307,  0.4405, -0.0406,  0.3255, -0.5182,\n",
              "          0.6942, -0.7563,  0.2272],\n",
              "        [-0.7061,  0.5347, -0.0590, -0.5771,  0.8155,  0.0508,  0.2059,  1.8905,\n",
              "         -0.4444, -0.2494,  0.8607,  0.3974,  0.7311,  1.7125, -0.2027,  0.9132,\n",
              "          0.5324, -1.5338,  0.8803, -0.6327,  0.0122,  1.6765,  0.3806,  0.2512,\n",
              "          0.1625,  1.9925,  0.7693]])"
            ]
          },
          "metadata": {},
          "execution_count": 40
        }
      ]
    },
    {
      "cell_type": "code",
      "source": [
        "(xenc @ W)[3,13]"
      ],
      "metadata": {
        "colab": {
          "base_uri": "https://localhost:8080/"
        },
        "id": "CeWP70y7T9XU",
        "outputId": "680382af-26d9-42d1-d515-71621d4ab01f"
      },
      "execution_count": 41,
      "outputs": [
        {
          "output_type": "execute_result",
          "data": {
            "text/plain": [
              "tensor(2.2209)"
            ]
          },
          "metadata": {},
          "execution_count": 41
        }
      ]
    },
    {
      "cell_type": "code",
      "source": [
        "logits=xenc @ W\n",
        "counts =logits.exp()\n",
        "probs=counts/counts.sum(1,keepdims=True)\n",
        "probs"
      ],
      "metadata": {
        "colab": {
          "base_uri": "https://localhost:8080/"
        },
        "id": "Uk3plsysT9VE",
        "outputId": "53da07f6-877c-4148-85f1-b339fafebe24"
      },
      "execution_count": 42,
      "outputs": [
        {
          "output_type": "execute_result",
          "data": {
            "text/plain": [
              "tensor([[0.0154, 0.0788, 0.0579, 0.0298, 0.0200, 0.0255, 0.0135, 0.0107, 0.0222,\n",
              "         0.0560, 0.0196, 0.0754, 0.0185, 0.0104, 0.0185, 0.1653, 0.0298, 0.0134,\n",
              "         0.0640, 0.0356, 0.0151, 0.0518, 0.0712, 0.0049, 0.0078, 0.0477, 0.0212],\n",
              "        [0.0142, 0.0095, 0.0257, 0.0208, 0.0819, 0.0112, 0.1626, 0.0854, 0.0086,\n",
              "         0.0724, 0.0101, 0.0351, 0.0291, 0.0106, 0.0434, 0.0124, 0.0034, 0.0052,\n",
              "         0.0074, 0.0725, 0.0932, 0.0026, 0.0586, 0.0562, 0.0226, 0.0339, 0.0115],\n",
              "        [0.0473, 0.0146, 0.0127, 0.1053, 0.0554, 0.0105, 0.1297, 0.0924, 0.0114,\n",
              "         0.0714, 0.0265, 0.0451, 0.0439, 0.0041, 0.0153, 0.0285, 0.0161, 0.0032,\n",
              "         0.0028, 0.0321, 0.0438, 0.0271, 0.0390, 0.0168, 0.0564, 0.0132, 0.0354],\n",
              "        [0.0747, 0.0106, 0.0042, 0.0448, 0.0266, 0.0039, 0.0970, 0.0125, 0.0135,\n",
              "         0.0143, 0.0125, 0.0090, 0.0480, 0.1792, 0.0094, 0.0277, 0.0552, 0.1186,\n",
              "         0.0067, 0.0948, 0.0376, 0.0125, 0.0251, 0.0128, 0.0132, 0.0232, 0.0126],\n",
              "        [0.0570, 0.0112, 0.0513, 0.1426, 0.1212, 0.0122, 0.0082, 0.0218, 0.0296,\n",
              "         0.0215, 0.0274, 0.0383, 0.0500, 0.0058, 0.0179, 0.0108, 0.0254, 0.0330,\n",
              "         0.0190, 0.0300, 0.0077, 0.0059, 0.0286, 0.0238, 0.0695, 0.1137, 0.0168],\n",
              "        [0.0473, 0.0146, 0.0127, 0.1053, 0.0554, 0.0105, 0.1297, 0.0924, 0.0114,\n",
              "         0.0714, 0.0265, 0.0451, 0.0439, 0.0041, 0.0153, 0.0285, 0.0161, 0.0032,\n",
              "         0.0028, 0.0321, 0.0438, 0.0271, 0.0390, 0.0168, 0.0564, 0.0132, 0.0354],\n",
              "        [0.0089, 0.0306, 0.0169, 0.0101, 0.0406, 0.0189, 0.0221, 0.1189, 0.0115,\n",
              "         0.0140, 0.0424, 0.0267, 0.0373, 0.0995, 0.0147, 0.0447, 0.0306, 0.0039,\n",
              "         0.0433, 0.0095, 0.0182, 0.0960, 0.0263, 0.0231, 0.0211, 0.1316, 0.0387]])"
            ]
          },
          "metadata": {},
          "execution_count": 42
        }
      ]
    },
    {
      "cell_type": "code",
      "source": [
        "probs.shape"
      ],
      "metadata": {
        "colab": {
          "base_uri": "https://localhost:8080/"
        },
        "id": "g1F2gHBxT9So",
        "outputId": "5b9304d0-1891-4be3-b7e9-efd51727fab7"
      },
      "execution_count": 43,
      "outputs": [
        {
          "output_type": "execute_result",
          "data": {
            "text/plain": [
              "torch.Size([7, 27])"
            ]
          },
          "metadata": {},
          "execution_count": 43
        }
      ]
    },
    {
      "cell_type": "code",
      "source": [
        "probs[0]"
      ],
      "metadata": {
        "colab": {
          "base_uri": "https://localhost:8080/"
        },
        "id": "neyZgTVogZDY",
        "outputId": "712698ca-814a-4089-ca77-060369022694"
      },
      "execution_count": 44,
      "outputs": [
        {
          "output_type": "execute_result",
          "data": {
            "text/plain": [
              "tensor([0.0154, 0.0788, 0.0579, 0.0298, 0.0200, 0.0255, 0.0135, 0.0107, 0.0222,\n",
              "        0.0560, 0.0196, 0.0754, 0.0185, 0.0104, 0.0185, 0.1653, 0.0298, 0.0134,\n",
              "        0.0640, 0.0356, 0.0151, 0.0518, 0.0712, 0.0049, 0.0078, 0.0477, 0.0212])"
            ]
          },
          "metadata": {},
          "execution_count": 44
        }
      ]
    },
    {
      "cell_type": "code",
      "source": [
        "probs[0].sum()"
      ],
      "metadata": {
        "colab": {
          "base_uri": "https://localhost:8080/"
        },
        "id": "Ymd2WcAAgOta",
        "outputId": "d6484ae9-b1ce-4b93-c3ec-47f1f6fbba2d"
      },
      "execution_count": 45,
      "outputs": [
        {
          "output_type": "execute_result",
          "data": {
            "text/plain": [
              "tensor(1.0000)"
            ]
          },
          "metadata": {},
          "execution_count": 45
        }
      ]
    },
    {
      "cell_type": "code",
      "source": [
        "xs"
      ],
      "metadata": {
        "colab": {
          "base_uri": "https://localhost:8080/"
        },
        "id": "mz3V9-QFnB2J",
        "outputId": "530b5712-d652-4f84-bf49-1cb5be0bccdf"
      },
      "execution_count": 46,
      "outputs": [
        {
          "output_type": "execute_result",
          "data": {
            "text/plain": [
              "tensor([ 0, 19,  1, 13, 25,  1, 11])"
            ]
          },
          "metadata": {},
          "execution_count": 46
        }
      ]
    },
    {
      "cell_type": "code",
      "source": [
        "ys"
      ],
      "metadata": {
        "colab": {
          "base_uri": "https://localhost:8080/"
        },
        "id": "NkQ6WZgQnF6-",
        "outputId": "332917a3-ff11-45dc-ebda-9bfdc640bb2a"
      },
      "execution_count": 47,
      "outputs": [
        {
          "output_type": "execute_result",
          "data": {
            "text/plain": [
              "tensor([19,  1, 13, 25,  1, 11,  0])"
            ]
          },
          "metadata": {},
          "execution_count": 47
        }
      ]
    },
    {
      "cell_type": "code",
      "source": [
        "nlls = torch.zeros(7)\n",
        "for i in range(7):\n",
        "  x=xs[i].item()\n",
        "  y=ys[i].item()\n",
        "  print('-----------------')\n",
        "  print(f'bigram example{i+1}: {itos[x]} {itos[y]} ( indexes: {x},{y})')\n",
        "  print('input to the neural net: ',x)\n",
        "  print('output prob from the neural net: ',probs[i])\n",
        "  print('actual next character: ',y)\n",
        "  p=probs[i,y]\n",
        "  print('prob assigned by the neural net the the ans: ', p.item)\n",
        "  logp=torch.log(p)\n",
        "  nll=-logp\n",
        "  print(f'{nll:}')\n",
        "  nlls[i]=nll\n",
        "\n",
        "print(\"===================\")\n",
        "print('avg nll , i.e loss: ',nlls.mean().item())"
      ],
      "metadata": {
        "colab": {
          "base_uri": "https://localhost:8080/"
        },
        "id": "S-rFlT6lgWyg",
        "outputId": "44f3af1d-a008-4cb1-c999-22996a25a7f4"
      },
      "execution_count": 48,
      "outputs": [
        {
          "output_type": "stream",
          "name": "stdout",
          "text": [
            "-----------------\n",
            "bigram example1: . s ( indexes: 0,19)\n",
            "input to the neural net:  0\n",
            "output prob from the neural net:  tensor([0.0154, 0.0788, 0.0579, 0.0298, 0.0200, 0.0255, 0.0135, 0.0107, 0.0222,\n",
            "        0.0560, 0.0196, 0.0754, 0.0185, 0.0104, 0.0185, 0.1653, 0.0298, 0.0134,\n",
            "        0.0640, 0.0356, 0.0151, 0.0518, 0.0712, 0.0049, 0.0078, 0.0477, 0.0212])\n",
            "actual next character:  19\n",
            "prob assigned by the neural net the the ans:  <built-in method item of Tensor object at 0x7a6c1305b240>\n",
            "3.3353285789489746\n",
            "-----------------\n",
            "bigram example2: s a ( indexes: 19,1)\n",
            "input to the neural net:  19\n",
            "output prob from the neural net:  tensor([0.0142, 0.0095, 0.0257, 0.0208, 0.0819, 0.0112, 0.1626, 0.0854, 0.0086,\n",
            "        0.0724, 0.0101, 0.0351, 0.0291, 0.0106, 0.0434, 0.0124, 0.0034, 0.0052,\n",
            "        0.0074, 0.0725, 0.0932, 0.0026, 0.0586, 0.0562, 0.0226, 0.0339, 0.0115])\n",
            "actual next character:  1\n",
            "prob assigned by the neural net the the ans:  <built-in method item of Tensor object at 0x7a6c1305bc90>\n",
            "4.656413555145264\n",
            "-----------------\n",
            "bigram example3: a m ( indexes: 1,13)\n",
            "input to the neural net:  1\n",
            "output prob from the neural net:  tensor([0.0473, 0.0146, 0.0127, 0.1053, 0.0554, 0.0105, 0.1297, 0.0924, 0.0114,\n",
            "        0.0714, 0.0265, 0.0451, 0.0439, 0.0041, 0.0153, 0.0285, 0.0161, 0.0032,\n",
            "        0.0028, 0.0321, 0.0438, 0.0271, 0.0390, 0.0168, 0.0564, 0.0132, 0.0354])\n",
            "actual next character:  13\n",
            "prob assigned by the neural net the the ans:  <built-in method item of Tensor object at 0x7a6c13058c20>\n",
            "5.495060443878174\n",
            "-----------------\n",
            "bigram example4: m y ( indexes: 13,25)\n",
            "input to the neural net:  13\n",
            "output prob from the neural net:  tensor([0.0747, 0.0106, 0.0042, 0.0448, 0.0266, 0.0039, 0.0970, 0.0125, 0.0135,\n",
            "        0.0143, 0.0125, 0.0090, 0.0480, 0.1792, 0.0094, 0.0277, 0.0552, 0.1186,\n",
            "        0.0067, 0.0948, 0.0376, 0.0125, 0.0251, 0.0128, 0.0132, 0.0232, 0.0126])\n",
            "actual next character:  25\n",
            "prob assigned by the neural net the the ans:  <built-in method item of Tensor object at 0x7a6c1305b4c0>\n",
            "3.7656285762786865\n",
            "-----------------\n",
            "bigram example5: y a ( indexes: 25,1)\n",
            "input to the neural net:  25\n",
            "output prob from the neural net:  tensor([0.0570, 0.0112, 0.0513, 0.1426, 0.1212, 0.0122, 0.0082, 0.0218, 0.0296,\n",
            "        0.0215, 0.0274, 0.0383, 0.0500, 0.0058, 0.0179, 0.0108, 0.0254, 0.0330,\n",
            "        0.0190, 0.0300, 0.0077, 0.0059, 0.0286, 0.0238, 0.0695, 0.1137, 0.0168])\n",
            "actual next character:  1\n",
            "prob assigned by the neural net the the ans:  <built-in method item of Tensor object at 0x7a6c1305b2e0>\n",
            "4.490667819976807\n",
            "-----------------\n",
            "bigram example6: a k ( indexes: 1,11)\n",
            "input to the neural net:  1\n",
            "output prob from the neural net:  tensor([0.0473, 0.0146, 0.0127, 0.1053, 0.0554, 0.0105, 0.1297, 0.0924, 0.0114,\n",
            "        0.0714, 0.0265, 0.0451, 0.0439, 0.0041, 0.0153, 0.0285, 0.0161, 0.0032,\n",
            "        0.0028, 0.0321, 0.0438, 0.0271, 0.0390, 0.0168, 0.0564, 0.0132, 0.0354])\n",
            "actual next character:  11\n",
            "prob assigned by the neural net the the ans:  <built-in method item of Tensor object at 0x7a6c1305b420>\n",
            "3.098698377609253\n",
            "-----------------\n",
            "bigram example7: k . ( indexes: 11,0)\n",
            "input to the neural net:  11\n",
            "output prob from the neural net:  tensor([0.0089, 0.0306, 0.0169, 0.0101, 0.0406, 0.0189, 0.0221, 0.1189, 0.0115,\n",
            "        0.0140, 0.0424, 0.0267, 0.0373, 0.0995, 0.0147, 0.0447, 0.0306, 0.0039,\n",
            "        0.0433, 0.0095, 0.0182, 0.0960, 0.0263, 0.0231, 0.0211, 0.1316, 0.0387])\n",
            "actual next character:  0\n",
            "prob assigned by the neural net the the ans:  <built-in method item of Tensor object at 0x7a6c1305bdd0>\n",
            "4.726223945617676\n",
            "===================\n",
            "avg nll , i.e loss:  4.224003314971924\n"
          ]
        }
      ]
    },
    {
      "cell_type": "code",
      "source": [
        "xs"
      ],
      "metadata": {
        "colab": {
          "base_uri": "https://localhost:8080/"
        },
        "id": "xRIS60-Agj0H",
        "outputId": "b2b5f2a2-df3c-4803-87f4-cd4fca90e589"
      },
      "execution_count": 49,
      "outputs": [
        {
          "output_type": "execute_result",
          "data": {
            "text/plain": [
              "tensor([ 0, 19,  1, 13, 25,  1, 11])"
            ]
          },
          "metadata": {},
          "execution_count": 49
        }
      ]
    },
    {
      "cell_type": "code",
      "source": [
        "probs[0,0], probs[1,19], probs[2,1] ,probs[3,13], probs[4,25] , probs[5,1], probs[6,11]"
      ],
      "metadata": {
        "colab": {
          "base_uri": "https://localhost:8080/"
        },
        "id": "rEPC271znxW2",
        "outputId": "4dc8aea7-eed7-4f51-fb2f-cbb1a0a30091"
      },
      "execution_count": 50,
      "outputs": [
        {
          "output_type": "execute_result",
          "data": {
            "text/plain": [
              "(tensor(0.0154),\n",
              " tensor(0.0725),\n",
              " tensor(0.0146),\n",
              " tensor(0.1792),\n",
              " tensor(0.1137),\n",
              " tensor(0.0146),\n",
              " tensor(0.0267))"
            ]
          },
          "metadata": {},
          "execution_count": 50
        }
      ]
    },
    {
      "cell_type": "code",
      "source": [
        "g=torch.Generator().manual_seed(19)\n",
        "W=torch.randn((27,27), generator=g, requires_grad=True)"
      ],
      "metadata": {
        "id": "PlQyyRf7jIh5"
      },
      "execution_count": 51,
      "outputs": []
    },
    {
      "cell_type": "code",
      "source": [
        "# Forward pass\n",
        "xenc=F.one_hot(xs, num_classes=27).float()\n",
        "logits=xenc @ W\n",
        "counts =logits.exp()\n",
        "probs=counts/counts.sum(1,keepdims=True)\n",
        "loss=-probs[torch.arange(7),ys].log().mean()"
      ],
      "metadata": {
        "id": "Esz_6VrshJfk"
      },
      "execution_count": 52,
      "outputs": []
    },
    {
      "cell_type": "code",
      "source": [
        "# Backward pass\n",
        "W.grad=None\n",
        "loss.backward()"
      ],
      "metadata": {
        "id": "jGwd_8KOilyF"
      },
      "execution_count": 53,
      "outputs": []
    },
    {
      "cell_type": "code",
      "source": [
        "W.grad"
      ],
      "metadata": {
        "colab": {
          "base_uri": "https://localhost:8080/"
        },
        "id": "Y7R3WPcwjmgz",
        "outputId": "af28de1b-4b7f-4460-cee7-e18897d51c87"
      },
      "execution_count": 54,
      "outputs": [
        {
          "output_type": "execute_result",
          "data": {
            "text/plain": [
              "tensor([[ 0.0146,  0.0059,  0.0032,  0.0021,  0.0061,  0.0047,  0.0012,  0.0036,\n",
              "          0.0004,  0.0026,  0.0242,  0.0127,  0.0035,  0.0040,  0.0033,  0.0034,\n",
              "          0.0016,  0.0031,  0.0129, -0.1418,  0.0057,  0.0014,  0.0091,  0.0066,\n",
              "          0.0010,  0.0035,  0.0015],\n",
              "        [ 0.0066,  0.0144,  0.0144,  0.0044,  0.0066,  0.0008,  0.0005,  0.0104,\n",
              "          0.0107,  0.0126,  0.0030, -0.1370,  0.0258, -0.1294,  0.0066,  0.0218,\n",
              "          0.0167,  0.0086,  0.0129,  0.0048,  0.0586,  0.0030,  0.0020,  0.0028,\n",
              "          0.0030,  0.0021,  0.0132],\n",
              "        [ 0.0000,  0.0000,  0.0000,  0.0000,  0.0000,  0.0000,  0.0000,  0.0000,\n",
              "          0.0000,  0.0000,  0.0000,  0.0000,  0.0000,  0.0000,  0.0000,  0.0000,\n",
              "          0.0000,  0.0000,  0.0000,  0.0000,  0.0000,  0.0000,  0.0000,  0.0000,\n",
              "          0.0000,  0.0000,  0.0000],\n",
              "        [ 0.0000,  0.0000,  0.0000,  0.0000,  0.0000,  0.0000,  0.0000,  0.0000,\n",
              "          0.0000,  0.0000,  0.0000,  0.0000,  0.0000,  0.0000,  0.0000,  0.0000,\n",
              "          0.0000,  0.0000,  0.0000,  0.0000,  0.0000,  0.0000,  0.0000,  0.0000,\n",
              "          0.0000,  0.0000,  0.0000],\n",
              "        [ 0.0000,  0.0000,  0.0000,  0.0000,  0.0000,  0.0000,  0.0000,  0.0000,\n",
              "          0.0000,  0.0000,  0.0000,  0.0000,  0.0000,  0.0000,  0.0000,  0.0000,\n",
              "          0.0000,  0.0000,  0.0000,  0.0000,  0.0000,  0.0000,  0.0000,  0.0000,\n",
              "          0.0000,  0.0000,  0.0000],\n",
              "        [ 0.0000,  0.0000,  0.0000,  0.0000,  0.0000,  0.0000,  0.0000,  0.0000,\n",
              "          0.0000,  0.0000,  0.0000,  0.0000,  0.0000,  0.0000,  0.0000,  0.0000,\n",
              "          0.0000,  0.0000,  0.0000,  0.0000,  0.0000,  0.0000,  0.0000,  0.0000,\n",
              "          0.0000,  0.0000,  0.0000],\n",
              "        [ 0.0000,  0.0000,  0.0000,  0.0000,  0.0000,  0.0000,  0.0000,  0.0000,\n",
              "          0.0000,  0.0000,  0.0000,  0.0000,  0.0000,  0.0000,  0.0000,  0.0000,\n",
              "          0.0000,  0.0000,  0.0000,  0.0000,  0.0000,  0.0000,  0.0000,  0.0000,\n",
              "          0.0000,  0.0000,  0.0000],\n",
              "        [ 0.0000,  0.0000,  0.0000,  0.0000,  0.0000,  0.0000,  0.0000,  0.0000,\n",
              "          0.0000,  0.0000,  0.0000,  0.0000,  0.0000,  0.0000,  0.0000,  0.0000,\n",
              "          0.0000,  0.0000,  0.0000,  0.0000,  0.0000,  0.0000,  0.0000,  0.0000,\n",
              "          0.0000,  0.0000,  0.0000],\n",
              "        [ 0.0000,  0.0000,  0.0000,  0.0000,  0.0000,  0.0000,  0.0000,  0.0000,\n",
              "          0.0000,  0.0000,  0.0000,  0.0000,  0.0000,  0.0000,  0.0000,  0.0000,\n",
              "          0.0000,  0.0000,  0.0000,  0.0000,  0.0000,  0.0000,  0.0000,  0.0000,\n",
              "          0.0000,  0.0000,  0.0000],\n",
              "        [ 0.0000,  0.0000,  0.0000,  0.0000,  0.0000,  0.0000,  0.0000,  0.0000,\n",
              "          0.0000,  0.0000,  0.0000,  0.0000,  0.0000,  0.0000,  0.0000,  0.0000,\n",
              "          0.0000,  0.0000,  0.0000,  0.0000,  0.0000,  0.0000,  0.0000,  0.0000,\n",
              "          0.0000,  0.0000,  0.0000],\n",
              "        [ 0.0000,  0.0000,  0.0000,  0.0000,  0.0000,  0.0000,  0.0000,  0.0000,\n",
              "          0.0000,  0.0000,  0.0000,  0.0000,  0.0000,  0.0000,  0.0000,  0.0000,\n",
              "          0.0000,  0.0000,  0.0000,  0.0000,  0.0000,  0.0000,  0.0000,  0.0000,\n",
              "          0.0000,  0.0000,  0.0000],\n",
              "        [-0.1348,  0.0157,  0.0013,  0.0027,  0.0006,  0.0076,  0.0027,  0.0054,\n",
              "          0.0007,  0.0011,  0.0024,  0.0015,  0.0057,  0.0038,  0.0012,  0.0024,\n",
              "          0.0138,  0.0023,  0.0121,  0.0024,  0.0038,  0.0013,  0.0124,  0.0055,\n",
              "          0.0042,  0.0163,  0.0057],\n",
              "        [ 0.0000,  0.0000,  0.0000,  0.0000,  0.0000,  0.0000,  0.0000,  0.0000,\n",
              "          0.0000,  0.0000,  0.0000,  0.0000,  0.0000,  0.0000,  0.0000,  0.0000,\n",
              "          0.0000,  0.0000,  0.0000,  0.0000,  0.0000,  0.0000,  0.0000,  0.0000,\n",
              "          0.0000,  0.0000,  0.0000],\n",
              "        [ 0.0041,  0.0050,  0.0017,  0.0036,  0.0009,  0.0025,  0.0039,  0.0014,\n",
              "          0.0033,  0.0023,  0.0021,  0.0282,  0.0041,  0.0014,  0.0011,  0.0146,\n",
              "          0.0022,  0.0041,  0.0019,  0.0027,  0.0211,  0.0134,  0.0082,  0.0015,\n",
              "          0.0052, -0.1419,  0.0014],\n",
              "        [ 0.0000,  0.0000,  0.0000,  0.0000,  0.0000,  0.0000,  0.0000,  0.0000,\n",
              "          0.0000,  0.0000,  0.0000,  0.0000,  0.0000,  0.0000,  0.0000,  0.0000,\n",
              "          0.0000,  0.0000,  0.0000,  0.0000,  0.0000,  0.0000,  0.0000,  0.0000,\n",
              "          0.0000,  0.0000,  0.0000],\n",
              "        [ 0.0000,  0.0000,  0.0000,  0.0000,  0.0000,  0.0000,  0.0000,  0.0000,\n",
              "          0.0000,  0.0000,  0.0000,  0.0000,  0.0000,  0.0000,  0.0000,  0.0000,\n",
              "          0.0000,  0.0000,  0.0000,  0.0000,  0.0000,  0.0000,  0.0000,  0.0000,\n",
              "          0.0000,  0.0000,  0.0000],\n",
              "        [ 0.0000,  0.0000,  0.0000,  0.0000,  0.0000,  0.0000,  0.0000,  0.0000,\n",
              "          0.0000,  0.0000,  0.0000,  0.0000,  0.0000,  0.0000,  0.0000,  0.0000,\n",
              "          0.0000,  0.0000,  0.0000,  0.0000,  0.0000,  0.0000,  0.0000,  0.0000,\n",
              "          0.0000,  0.0000,  0.0000],\n",
              "        [ 0.0000,  0.0000,  0.0000,  0.0000,  0.0000,  0.0000,  0.0000,  0.0000,\n",
              "          0.0000,  0.0000,  0.0000,  0.0000,  0.0000,  0.0000,  0.0000,  0.0000,\n",
              "          0.0000,  0.0000,  0.0000,  0.0000,  0.0000,  0.0000,  0.0000,  0.0000,\n",
              "          0.0000,  0.0000,  0.0000],\n",
              "        [ 0.0000,  0.0000,  0.0000,  0.0000,  0.0000,  0.0000,  0.0000,  0.0000,\n",
              "          0.0000,  0.0000,  0.0000,  0.0000,  0.0000,  0.0000,  0.0000,  0.0000,\n",
              "          0.0000,  0.0000,  0.0000,  0.0000,  0.0000,  0.0000,  0.0000,  0.0000,\n",
              "          0.0000,  0.0000,  0.0000],\n",
              "        [ 0.0019, -0.1398,  0.0035,  0.0011,  0.0019,  0.0072,  0.0019,  0.0029,\n",
              "          0.0031,  0.0078,  0.0012,  0.0040,  0.0008,  0.0054,  0.0253,  0.0069,\n",
              "          0.0056,  0.0005,  0.0003,  0.0121,  0.0078,  0.0150,  0.0019,  0.0042,\n",
              "          0.0142,  0.0004,  0.0028],\n",
              "        [ 0.0000,  0.0000,  0.0000,  0.0000,  0.0000,  0.0000,  0.0000,  0.0000,\n",
              "          0.0000,  0.0000,  0.0000,  0.0000,  0.0000,  0.0000,  0.0000,  0.0000,\n",
              "          0.0000,  0.0000,  0.0000,  0.0000,  0.0000,  0.0000,  0.0000,  0.0000,\n",
              "          0.0000,  0.0000,  0.0000],\n",
              "        [ 0.0000,  0.0000,  0.0000,  0.0000,  0.0000,  0.0000,  0.0000,  0.0000,\n",
              "          0.0000,  0.0000,  0.0000,  0.0000,  0.0000,  0.0000,  0.0000,  0.0000,\n",
              "          0.0000,  0.0000,  0.0000,  0.0000,  0.0000,  0.0000,  0.0000,  0.0000,\n",
              "          0.0000,  0.0000,  0.0000],\n",
              "        [ 0.0000,  0.0000,  0.0000,  0.0000,  0.0000,  0.0000,  0.0000,  0.0000,\n",
              "          0.0000,  0.0000,  0.0000,  0.0000,  0.0000,  0.0000,  0.0000,  0.0000,\n",
              "          0.0000,  0.0000,  0.0000,  0.0000,  0.0000,  0.0000,  0.0000,  0.0000,\n",
              "          0.0000,  0.0000,  0.0000],\n",
              "        [ 0.0000,  0.0000,  0.0000,  0.0000,  0.0000,  0.0000,  0.0000,  0.0000,\n",
              "          0.0000,  0.0000,  0.0000,  0.0000,  0.0000,  0.0000,  0.0000,  0.0000,\n",
              "          0.0000,  0.0000,  0.0000,  0.0000,  0.0000,  0.0000,  0.0000,  0.0000,\n",
              "          0.0000,  0.0000,  0.0000],\n",
              "        [ 0.0000,  0.0000,  0.0000,  0.0000,  0.0000,  0.0000,  0.0000,  0.0000,\n",
              "          0.0000,  0.0000,  0.0000,  0.0000,  0.0000,  0.0000,  0.0000,  0.0000,\n",
              "          0.0000,  0.0000,  0.0000,  0.0000,  0.0000,  0.0000,  0.0000,  0.0000,\n",
              "          0.0000,  0.0000,  0.0000],\n",
              "        [ 0.0021, -0.1326,  0.0060,  0.0009,  0.0013,  0.0122,  0.0042,  0.0047,\n",
              "          0.0040,  0.0010,  0.0027,  0.0079,  0.0015,  0.0015,  0.0029,  0.0019,\n",
              "          0.0009,  0.0027,  0.0035,  0.0489,  0.0013,  0.0045,  0.0022,  0.0048,\n",
              "          0.0051,  0.0023,  0.0016],\n",
              "        [ 0.0000,  0.0000,  0.0000,  0.0000,  0.0000,  0.0000,  0.0000,  0.0000,\n",
              "          0.0000,  0.0000,  0.0000,  0.0000,  0.0000,  0.0000,  0.0000,  0.0000,\n",
              "          0.0000,  0.0000,  0.0000,  0.0000,  0.0000,  0.0000,  0.0000,  0.0000,\n",
              "          0.0000,  0.0000,  0.0000]])"
            ]
          },
          "metadata": {},
          "execution_count": 54
        }
      ]
    },
    {
      "cell_type": "code",
      "source": [
        "W.data+=-0.1*W.grad"
      ],
      "metadata": {
        "id": "QGkrWQ3hkaGV"
      },
      "execution_count": 55,
      "outputs": []
    },
    {
      "cell_type": "code",
      "source": [
        "# Forward pass\n",
        "xenc=F.one_hot(xs, num_classes=27).float()\n",
        "logits=xenc @ W\n",
        "counts =logits.exp()\n",
        "probs=counts/counts.sum(1,keepdims=True)\n",
        "loss=-probs[torch.arange(7),ys].log().mean()\n",
        "loss"
      ],
      "metadata": {
        "colab": {
          "base_uri": "https://localhost:8080/"
        },
        "id": "kGL_67KbkaDP",
        "outputId": "a15b193e-c702-4bee-eec0-e141071c9c49"
      },
      "execution_count": 56,
      "outputs": [
        {
          "output_type": "execute_result",
          "data": {
            "text/plain": [
              "tensor(3.7193, grad_fn=<NegBackward0>)"
            ]
          },
          "metadata": {},
          "execution_count": 56
        }
      ]
    },
    {
      "cell_type": "code",
      "source": [
        "xs,ys=[],[]\n",
        "\n",
        "for w in words:\n",
        "  chs=['.']+list(w)+['.']\n",
        "  for ch1,ch2 in zip(chs,chs[1:]):\n",
        "    ix1=stoi[ch1]\n",
        "    ix2=stoi[ch2]\n",
        "    # print(f'{ch1} {ch2}')\n",
        "    xs.append(ix1)\n",
        "    ys.append(ix2)\n",
        "xs=torch.tensor(xs)\n",
        "ys=torch.tensor(ys)\n",
        "num=xs.nelement()\n",
        "print('no. if examples:',num)\n",
        "\n",
        "g=torch.Generator().manual_seed(19)\n",
        "W=torch.randn((27,27), generator=g, requires_grad=True)"
      ],
      "metadata": {
        "colab": {
          "base_uri": "https://localhost:8080/"
        },
        "id": "15one4ORlCpx",
        "outputId": "d19a47f2-b060-4b62-b151-7ab4ac0c86e1"
      },
      "execution_count": 57,
      "outputs": [
        {
          "output_type": "stream",
          "name": "stdout",
          "text": [
            "no. if examples: 45593\n"
          ]
        }
      ]
    },
    {
      "cell_type": "code",
      "source": [
        "(W**2).mean()"
      ],
      "metadata": {
        "colab": {
          "base_uri": "https://localhost:8080/"
        },
        "id": "DgsLuw6vpWq5",
        "outputId": "8a6423ec-ce18-4a0d-dadb-1b8aeea6651e"
      },
      "execution_count": 58,
      "outputs": [
        {
          "output_type": "execute_result",
          "data": {
            "text/plain": [
              "tensor(0.9995, grad_fn=<MeanBackward0>)"
            ]
          },
          "metadata": {},
          "execution_count": 58
        }
      ]
    },
    {
      "cell_type": "code",
      "source": [
        "# gradient descent\n",
        "for k in range(1000):\n",
        "  # Forward pass\n",
        "  xenc=F.one_hot(xs, num_classes=27).float()\n",
        "  logits=xenc @ W\n",
        "  counts =logits.exp()\n",
        "  probs=counts/counts.sum(1,keepdims=True)\n",
        "  loss=-probs[torch.arange(num),ys].log().mean() + 0.0001*(W**2).mean()\n",
        "  print(loss.item())\n",
        "  # Backward pass\n",
        "  W.grad=None\n",
        "  loss.backward()\n",
        "\n",
        "  # Update\n",
        "  W.data+=-50*W.grad"
      ],
      "metadata": {
        "colab": {
          "base_uri": "https://localhost:8080/"
        },
        "id": "FHSvvbZ9li4q",
        "outputId": "5a69c586-b0c2-46d6-afad-6114fc9dbe51"
      },
      "execution_count": 59,
      "outputs": [
        {
          "output_type": "stream",
          "name": "stdout",
          "text": [
            "3.6246092319488525\n",
            "3.161041736602783\n",
            "2.8931641578674316\n",
            "2.742185115814209\n",
            "2.6442744731903076\n",
            "2.5742688179016113\n",
            "2.521733283996582\n",
            "2.4809467792510986\n",
            "2.4485461711883545\n",
            "2.4222962856292725\n",
            "2.400607109069824\n",
            "2.382344961166382\n",
            "2.3667101860046387\n",
            "2.3531408309936523\n",
            "2.341233968734741\n",
            "2.330693244934082\n",
            "2.321294069290161\n",
            "2.3128628730773926\n",
            "2.3052635192871094\n",
            "2.2983858585357666\n",
            "2.2921407222747803\n",
            "2.2864537239074707\n",
            "2.2812628746032715\n",
            "2.2765142917633057\n",
            "2.2721617221832275\n",
            "2.268165349960327\n",
            "2.264488697052002\n",
            "2.2611005306243896\n",
            "2.2579727172851562\n",
            "2.2550792694091797\n",
            "2.252398729324341\n",
            "2.2499101161956787\n",
            "2.2475948333740234\n",
            "2.2454373836517334\n",
            "2.243422508239746\n",
            "2.241537570953369\n",
            "2.2397711277008057\n",
            "2.2381112575531006\n",
            "2.2365498542785645\n",
            "2.2350776195526123\n",
            "2.233687400817871\n",
            "2.2323715686798096\n",
            "2.2311251163482666\n",
            "2.2299423217773438\n",
            "2.2288174629211426\n",
            "2.2277469635009766\n",
            "2.226726531982422\n",
            "2.225752353668213\n",
            "2.2248213291168213\n",
            "2.223930835723877\n",
            "2.2230782508850098\n",
            "2.2222602367401123\n",
            "2.221475601196289\n",
            "2.22072172164917\n",
            "2.2199971675872803\n",
            "2.219299554824829\n",
            "2.218628168106079\n",
            "2.2179808616638184\n",
            "2.2173569202423096\n",
            "2.216754674911499\n",
            "2.2161731719970703\n",
            "2.215611219406128\n",
            "2.2150678634643555\n",
            "2.2145421504974365\n",
            "2.214033365249634\n",
            "2.213540554046631\n",
            "2.2130632400512695\n",
            "2.2126002311706543\n",
            "2.212151288986206\n",
            "2.2117156982421875\n",
            "2.2112927436828613\n",
            "2.2108817100524902\n",
            "2.210482597351074\n",
            "2.210094451904297\n",
            "2.209717273712158\n",
            "2.209350347518921\n",
            "2.2089924812316895\n",
            "2.2086448669433594\n",
            "2.208306312561035\n",
            "2.2079761028289795\n",
            "2.2076542377471924\n",
            "2.207340717315674\n",
            "2.2070348262786865\n",
            "2.2067365646362305\n",
            "2.2064452171325684\n",
            "2.2061607837677\n",
            "2.205883264541626\n",
            "2.2056124210357666\n",
            "2.2053475379943848\n",
            "2.2050883769989014\n",
            "2.2048354148864746\n",
            "2.204587697982788\n",
            "2.204345941543579\n",
            "2.204108953475952\n",
            "2.2038774490356445\n",
            "2.203650712966919\n",
            "2.2034287452697754\n",
            "2.2032113075256348\n",
            "2.202998399734497\n",
            "2.202789783477783\n",
            "2.202585458755493\n",
            "2.202385187149048\n",
            "2.2021889686584473\n",
            "2.201996326446533\n",
            "2.201807737350464\n",
            "2.201622724533081\n",
            "2.2014410495758057\n",
            "2.201262950897217\n",
            "2.2010879516601562\n",
            "2.200916290283203\n",
            "2.2007479667663574\n",
            "2.20058274269104\n",
            "2.2004201412200928\n",
            "2.200260877609253\n",
            "2.200104236602783\n",
            "2.1999502182006836\n",
            "2.1997992992401123\n",
            "2.199650287628174\n",
            "2.1995046138763428\n",
            "2.1993608474731445\n",
            "2.1992197036743164\n",
            "2.1990809440612793\n",
            "2.198944568634033\n",
            "2.19881010055542\n",
            "2.1986782550811768\n",
            "2.1985483169555664\n",
            "2.198420524597168\n",
            "2.1982948780059814\n",
            "2.1981709003448486\n",
            "2.198049783706665\n",
            "2.197929620742798\n",
            "2.1978118419647217\n",
            "2.19769549369812\n",
            "2.1975812911987305\n",
            "2.1974685192108154\n",
            "2.197357416152954\n",
            "2.197248697280884\n",
            "2.19714093208313\n",
            "2.197035074234009\n",
            "2.1969306468963623\n",
            "2.1968274116516113\n",
            "2.196726083755493\n",
            "2.1966259479522705\n",
            "2.1965274810791016\n",
            "2.1964304447174072\n",
            "2.1963348388671875\n",
            "2.1962404251098633\n",
            "2.1961474418640137\n",
            "2.1960554122924805\n",
            "2.195965051651001\n",
            "2.195875883102417\n",
            "2.1957876682281494\n",
            "2.1957011222839355\n",
            "2.195615530014038\n",
            "2.195530652999878\n",
            "2.1954474449157715\n",
            "2.1953651905059814\n",
            "2.1952836513519287\n",
            "2.1952037811279297\n",
            "2.195124864578247\n",
            "2.1950466632843018\n",
            "2.194969654083252\n",
            "2.1948935985565186\n",
            "2.1948187351226807\n",
            "2.194744348526001\n",
            "2.194671154022217\n",
            "2.194598913192749\n",
            "2.1945273876190186\n",
            "2.1944570541381836\n",
            "2.194387435913086\n",
            "2.1943185329437256\n",
            "2.1942508220672607\n",
            "2.194183349609375\n",
            "2.1941170692443848\n",
            "2.194051742553711\n",
            "2.1939868927001953\n",
            "2.193922758102417\n",
            "2.193859815597534\n",
            "2.1937971115112305\n",
            "2.193735361099243\n",
            "2.1936745643615723\n",
            "2.1936140060424805\n",
            "2.193554162979126\n",
            "2.193495512008667\n",
            "2.193436861038208\n",
            "2.1933794021606445\n",
            "2.1933224201202393\n",
            "2.193265914916992\n",
            "2.1932106018066406\n",
            "2.19315505027771\n",
            "2.193100690841675\n",
            "2.1930465698242188\n",
            "2.192993402481079\n",
            "2.1929407119750977\n",
            "2.1928882598876953\n",
            "2.1928367614746094\n",
            "2.1927855014801025\n",
            "2.192735195159912\n",
            "2.192685127258301\n",
            "2.1926352977752686\n",
            "2.192586660385132\n",
            "2.192538022994995\n",
            "2.1924901008605957\n",
            "2.1924424171447754\n",
            "2.1923956871032715\n",
            "2.1923489570617676\n",
            "2.192302942276001\n",
            "2.1922574043273926\n",
            "2.1922121047973633\n",
            "2.192167282104492\n",
            "2.1921234130859375\n",
            "2.1920793056488037\n",
            "2.192035675048828\n",
            "2.191993236541748\n",
            "2.1919503211975098\n",
            "2.191908121109009\n",
            "2.191866397857666\n",
            "2.1918253898620605\n",
            "2.191784143447876\n",
            "2.1917436122894287\n",
            "2.1917033195495605\n",
            "2.1916635036468506\n",
            "2.1916239261627197\n",
            "2.191585063934326\n",
            "2.1915462017059326\n",
            "2.1915080547332764\n",
            "2.191469669342041\n",
            "2.191432237625122\n",
            "2.191394805908203\n",
            "2.1913578510284424\n",
            "2.19132137298584\n",
            "2.1912848949432373\n",
            "2.1912484169006348\n",
            "2.1912131309509277\n",
            "2.1911778450012207\n",
            "2.1911427974700928\n",
            "2.191107988357544\n",
            "2.191073417663574\n",
            "2.1910390853881836\n",
            "2.1910054683685303\n",
            "2.190971612930298\n",
            "2.1909382343292236\n",
            "2.1909053325653076\n",
            "2.1908726692199707\n",
            "2.190840005874634\n",
            "2.190807819366455\n",
            "2.1907761096954346\n",
            "2.190744161605835\n",
            "2.1907131671905518\n",
            "2.1906819343566895\n",
            "2.190650701522827\n",
            "2.1906204223632812\n",
            "2.1905899047851562\n",
            "2.1905598640441895\n",
            "2.1905298233032227\n",
            "2.190500020980835\n",
            "2.1904704570770264\n",
            "2.190441370010376\n",
            "2.1904122829437256\n",
            "2.1903836727142334\n",
            "2.190355062484741\n",
            "2.190326690673828\n",
            "2.190298557281494\n",
            "2.1902709007263184\n",
            "2.1902430057525635\n",
            "2.190215826034546\n",
            "2.190188407897949\n",
            "2.1901614665985107\n",
            "2.1901347637176514\n",
            "2.190108299255371\n",
            "2.1900813579559326\n",
            "2.1900551319122314\n",
            "2.1900293827056885\n",
            "2.1900036334991455\n",
            "2.1899776458740234\n",
            "2.1899523735046387\n",
            "2.189926862716675\n",
            "2.18990159034729\n",
            "2.1898770332336426\n",
            "2.189852237701416\n",
            "2.1898276805877686\n",
            "2.1898033618927\n",
            "2.189779043197632\n",
            "2.1897549629211426\n",
            "2.1897311210632324\n",
            "2.1897075176239014\n",
            "2.1896841526031494\n",
            "2.1896607875823975\n",
            "2.1896376609802246\n",
            "2.1896145343780518\n",
            "2.189591407775879\n",
            "2.1895687580108643\n",
            "2.1895463466644287\n",
            "2.189523935317993\n",
            "2.1895015239715576\n",
            "2.1894795894622803\n",
            "2.189457654953003\n",
            "2.1894354820251465\n",
            "2.1894140243530273\n",
            "2.189392566680908\n",
            "2.189371109008789\n",
            "2.189349889755249\n",
            "2.189328908920288\n",
            "2.189307928085327\n",
            "2.189286708831787\n",
            "2.1892662048339844\n",
            "2.1892459392547607\n",
            "2.189225435256958\n",
            "2.1892051696777344\n",
            "2.1891846656799316\n",
            "2.1891653537750244\n",
            "2.1891448497772217\n",
            "2.1891257762908936\n",
            "2.189105749130249\n",
            "2.1890861988067627\n",
            "2.1890668869018555\n",
            "2.189047336578369\n",
            "2.18902850151062\n",
            "2.189009428024292\n",
            "2.188990354537964\n",
            "2.188971757888794\n",
            "2.188953161239624\n",
            "2.188934564590454\n",
            "2.1889162063598633\n",
            "2.1888976097106934\n",
            "2.1888794898986816\n",
            "2.18886137008667\n",
            "2.1888434886932373\n",
            "2.1888256072998047\n",
            "2.188807725906372\n",
            "2.1887900829315186\n",
            "2.188772439956665\n",
            "2.1887552738189697\n",
            "2.1887378692626953\n",
            "2.188720464706421\n",
            "2.1887035369873047\n",
            "2.1886863708496094\n",
            "2.188669204711914\n",
            "2.188652515411377\n",
            "2.18863582611084\n",
            "2.188619375228882\n",
            "2.1886026859283447\n",
            "2.1885859966278076\n",
            "2.1885695457458496\n",
            "2.1885533332824707\n",
            "2.188537120819092\n",
            "2.188520908355713\n",
            "2.188505172729492\n",
            "2.1884889602661133\n",
            "2.1884734630584717\n",
            "2.188457727432251\n",
            "2.1884419918060303\n",
            "2.1884264945983887\n",
            "2.188411235809326\n",
            "2.1883959770202637\n",
            "2.188380479812622\n",
            "2.1883652210235596\n",
            "2.1883504390716553\n",
            "2.1883351802825928\n",
            "2.1883201599121094\n",
            "2.188305377960205\n",
            "2.188290596008301\n",
            "2.1882758140563965\n",
            "2.1882612705230713\n",
            "2.188246965408325\n",
            "2.188232183456421\n",
            "2.188217878341675\n",
            "2.188203811645508\n",
            "2.1881895065307617\n",
            "2.1881752014160156\n",
            "2.1881611347198486\n",
            "2.1881470680236816\n",
            "2.1881330013275146\n",
            "2.188119411468506\n",
            "2.188105821609497\n",
            "2.188091993331909\n",
            "2.1880784034729004\n",
            "2.1880643367767334\n",
            "2.188051223754883\n",
            "2.188037633895874\n",
            "2.1880245208740234\n",
            "2.1880111694335938\n",
            "2.187998056411743\n",
            "2.1879849433898926\n",
            "2.187972068786621\n",
            "2.1879584789276123\n",
            "2.187945604324341\n",
            "2.1879329681396484\n",
            "2.187920093536377\n",
            "2.1879074573516846\n",
            "2.187894582748413\n",
            "2.1878821849823\n",
            "2.1878695487976074\n",
            "2.187856912612915\n",
            "2.187844753265381\n",
            "2.1878323554992676\n",
            "2.1878199577331543\n",
            "2.18780779838562\n",
            "2.187795639038086\n",
            "2.1877832412719727\n",
            "2.1877713203430176\n",
            "2.1877593994140625\n",
            "2.1877474784851074\n",
            "2.1877355575561523\n",
            "2.187723398208618\n",
            "2.187711715698242\n",
            "2.1877002716064453\n",
            "2.1876885890960693\n",
            "2.1876773834228516\n",
            "2.1876657009124756\n",
            "2.1876537799835205\n",
            "2.1876423358917236\n",
            "2.187631130218506\n",
            "2.187619924545288\n",
            "2.1876089572906494\n",
            "2.1875975131988525\n",
            "2.1875863075256348\n",
            "2.187575101852417\n",
            "2.1875641345977783\n",
            "2.1875534057617188\n",
            "2.187542200088501\n",
            "2.187530994415283\n",
            "2.1875205039978027\n",
            "2.187509775161743\n",
            "2.1874990463256836\n",
            "2.187488079071045\n",
            "2.1874778270721436\n",
            "2.187467098236084\n",
            "2.1874563694000244\n",
            "2.187446355819702\n",
            "2.1874353885650635\n",
            "2.187425136566162\n",
            "2.1874148845672607\n",
            "2.1874043941497803\n",
            "2.1873939037323\n",
            "2.1873841285705566\n",
            "2.187373638153076\n",
            "2.187363624572754\n",
            "2.1873536109924316\n",
            "2.1873435974121094\n",
            "2.187333583831787\n",
            "2.187323570251465\n",
            "2.1873137950897217\n",
            "2.1873037815093994\n",
            "2.1872940063476562\n",
            "2.187284469604492\n",
            "2.187274694442749\n",
            "2.187264919281006\n",
            "2.1872551441192627\n",
            "2.1872458457946777\n",
            "2.1872363090515137\n",
            "2.1872265338897705\n",
            "2.1872172355651855\n",
            "2.1872079372406006\n",
            "2.1871986389160156\n",
            "2.1871888637542725\n",
            "2.1871798038482666\n",
            "2.1871705055236816\n",
            "2.187161445617676\n",
            "2.1871519088745117\n",
            "2.187143087387085\n",
            "2.187134027481079\n",
            "2.1871249675750732\n",
            "2.1871159076690674\n",
            "2.1871070861816406\n",
            "2.1870980262756348\n",
            "2.187088966369629\n",
            "2.187079906463623\n",
            "2.1870713233947754\n",
            "2.1870627403259277\n",
            "2.187053680419922\n",
            "2.187045097351074\n",
            "2.1870362758636475\n",
            "2.1870276927948\n",
            "2.187019109725952\n",
            "2.1870105266571045\n",
            "2.187001943588257\n",
            "2.186993360519409\n",
            "2.1869850158691406\n",
            "2.186976671218872\n",
            "2.1869683265686035\n",
            "2.1869595050811768\n",
            "2.1869513988494873\n",
            "2.1869430541992188\n",
            "2.18693470954895\n",
            "2.1869266033172607\n",
            "2.1869184970855713\n",
            "2.186910390853882\n",
            "2.1869020462036133\n",
            "2.186893939971924\n",
            "2.1868860721588135\n",
            "2.186877965927124\n",
            "2.1868698596954346\n",
            "2.186861753463745\n",
            "2.1868538856506348\n",
            "2.1868460178375244\n",
            "2.186838150024414\n",
            "2.186830759048462\n",
            "2.1868228912353516\n",
            "2.186815023422241\n",
            "2.186807155609131\n",
            "2.1867990493774414\n",
            "2.1867918968200684\n",
            "2.186784267425537\n",
            "2.1867761611938477\n",
            "2.1867687702178955\n",
            "2.1867613792419434\n",
            "2.186753511428833\n",
            "2.186746120452881\n",
            "2.1867387294769287\n",
            "2.1867311000823975\n",
            "2.1867239475250244\n",
            "2.1867167949676514\n",
            "2.186708927154541\n",
            "2.186701774597168\n",
            "2.186694622039795\n",
            "2.1866869926452637\n",
            "2.1866798400878906\n",
            "2.1866726875305176\n",
            "2.1866652965545654\n",
            "2.1866583824157715\n",
            "2.1866512298583984\n",
            "2.1866438388824463\n",
            "2.1866369247436523\n",
            "2.1866300106048584\n",
            "2.1866228580474854\n",
            "2.1866159439086914\n",
            "2.1866090297698975\n",
            "2.1866018772125244\n",
            "2.1865949630737305\n",
            "2.1865882873535156\n",
            "2.1865813732147217\n",
            "2.1865742206573486\n",
            "2.186567783355713\n",
            "2.186560869216919\n",
            "2.186553955078125\n",
            "2.1865475177764893\n",
            "2.1865408420562744\n",
            "2.1865341663360596\n",
            "2.1865272521972656\n",
            "2.186520576477051\n",
            "2.186514139175415\n",
            "2.186506986618042\n",
            "2.1865005493164062\n",
            "2.1864941120147705\n",
            "2.1864874362945557\n",
            "2.186481237411499\n",
            "2.1864750385284424\n",
            "2.1864683628082275\n",
            "2.1864616870880127\n",
            "2.186455249786377\n",
            "2.186448812484741\n",
            "2.1864426136016846\n",
            "2.186436176300049\n",
            "2.186429977416992\n",
            "2.1864237785339355\n",
            "2.1864173412323\n",
            "2.186411142349243\n",
            "2.1864049434661865\n",
            "2.18639874458313\n",
            "2.1863925457000732\n",
            "2.1863863468170166\n",
            "2.18638014793396\n",
            "2.1863741874694824\n",
            "2.186367988586426\n",
            "2.1863620281219482\n",
            "2.1863558292388916\n",
            "2.186349868774414\n",
            "2.1863441467285156\n",
            "2.186337471008301\n",
            "2.1863319873809814\n",
            "2.186325788497925\n",
            "2.1863198280334473\n",
            "2.186314105987549\n",
            "2.1863081455230713\n",
            "2.186302423477173\n",
            "2.1862964630126953\n",
            "2.1862905025482178\n",
            "2.1862847805023193\n",
            "2.186278820037842\n",
            "2.1862730979919434\n",
            "2.186267375946045\n",
            "2.1862616539001465\n",
            "2.186256170272827\n",
            "2.1862499713897705\n",
            "2.1862447261810303\n",
            "2.186239004135132\n",
            "2.1862332820892334\n",
            "2.186228036880493\n",
            "2.1862220764160156\n",
            "2.1862165927886963\n",
            "2.186210870742798\n",
            "2.1862053871154785\n",
            "2.1862001419067383\n",
            "2.18619441986084\n",
            "2.1861889362335205\n",
            "2.1861836910247803\n",
            "2.186178207397461\n",
            "2.1861727237701416\n",
            "2.1861672401428223\n",
            "2.186161994934082\n",
            "2.1861565113067627\n",
            "2.1861507892608643\n",
            "2.186145782470703\n",
            "2.186140298843384\n",
            "2.1861350536346436\n",
            "2.186129570007324\n",
            "2.186124324798584\n",
            "2.186119318008423\n",
            "2.1861140727996826\n",
            "2.1861088275909424\n",
            "2.186103343963623\n",
            "2.186098337173462\n",
            "2.1860930919647217\n",
            "2.1860880851745605\n",
            "2.1860830783843994\n",
            "2.186077833175659\n",
            "2.186072587966919\n",
            "2.186067581176758\n",
            "2.1860625743865967\n",
            "2.1860575675964355\n",
            "2.1860523223876953\n",
            "2.1860475540161133\n",
            "2.186042547225952\n",
            "2.186037540435791\n",
            "2.186032295227051\n",
            "2.1860275268554688\n",
            "2.1860222816467285\n",
            "2.1860175132751465\n",
            "2.1860127449035645\n",
            "2.1860077381134033\n",
            "2.1860029697418213\n",
            "2.185997724533081\n",
            "2.185993194580078\n",
            "2.185988426208496\n",
            "2.185983419418335\n",
            "2.185978889465332\n",
            "2.185973882675171\n",
            "2.185969352722168\n",
            "2.185964345932007\n",
            "2.185959815979004\n",
            "2.1859548091888428\n",
            "2.1859500408172607\n",
            "2.185945510864258\n",
            "2.185940742492676\n",
            "2.185936212539673\n",
            "2.185931444168091\n",
            "2.185927152633667\n",
            "2.185922145843506\n",
            "2.185917615890503\n",
            "2.185912847518921\n",
            "2.185908794403076\n",
            "2.185903549194336\n",
            "2.185899496078491\n",
            "2.18589448928833\n",
            "2.1858904361724854\n",
            "2.1858859062194824\n",
            "2.1858811378479004\n",
            "2.1858766078948975\n",
            "2.1858723163604736\n",
            "2.1858677864074707\n",
            "2.1858632564544678\n",
            "2.185858964920044\n",
            "2.185854434967041\n",
            "2.185849905014038\n",
            "2.185845375061035\n",
            "2.1858413219451904\n",
            "2.1858365535736084\n",
            "2.1858325004577637\n",
            "2.18582820892334\n",
            "2.185823678970337\n",
            "2.185819625854492\n",
            "2.1858153343200684\n",
            "2.1858108043670654\n",
            "2.1858067512512207\n",
            "2.185802459716797\n",
            "2.185797929763794\n",
            "2.185793876647949\n",
            "2.1857893466949463\n",
            "2.1857852935791016\n",
            "2.1857810020446777\n",
            "2.185776948928833\n",
            "2.185772657394409\n",
            "2.1857686042785645\n",
            "2.1857643127441406\n",
            "2.185760259628296\n",
            "2.185756206512451\n",
            "2.1857519149780273\n",
            "2.1857481002807617\n",
            "2.185743808746338\n",
            "2.185739755630493\n",
            "2.1857354640960693\n",
            "2.1857316493988037\n",
            "2.185727119445801\n",
            "2.1857235431671143\n",
            "2.1857194900512695\n",
            "2.185715436935425\n",
            "2.18571138381958\n",
            "2.1857070922851562\n",
            "2.1857035160064697\n",
            "2.185699462890625\n",
            "2.185695171356201\n",
            "2.1856915950775146\n",
            "2.18568754196167\n",
            "2.185683488845825\n",
            "2.1856794357299805\n",
            "2.185675859451294\n",
            "2.18567156791687\n",
            "2.1856682300567627\n",
            "2.185663938522339\n",
            "2.1856601238250732\n",
            "2.1856563091278076\n",
            "2.185652732849121\n",
            "2.1856486797332764\n",
            "2.1856448650360107\n",
            "2.185640811920166\n",
            "2.1856374740600586\n",
            "2.1856331825256348\n",
            "2.1856298446655273\n",
            "2.1856255531311035\n",
            "2.185622215270996\n",
            "2.1856184005737305\n",
            "2.185614824295044\n",
            "2.185610771179199\n",
            "2.185607433319092\n",
            "2.185603141784668\n",
            "2.1855998039245605\n",
            "2.185595989227295\n",
            "2.1855926513671875\n",
            "2.1855883598327637\n",
            "2.1855850219726562\n",
            "2.1855812072753906\n",
            "2.185577869415283\n",
            "2.1855742931365967\n",
            "2.185570478439331\n",
            "2.1855671405792236\n",
            "2.185563564300537\n",
            "2.1855595111846924\n",
            "2.185555934906006\n",
            "2.1855525970458984\n",
            "2.185549020767212\n",
            "2.1855454444885254\n",
            "2.185542106628418\n",
            "2.1855382919311523\n",
            "2.185534715652466\n",
            "2.1855311393737793\n",
            "2.185527801513672\n",
            "2.1855242252349854\n",
            "2.185520887374878\n",
            "2.1855170726776123\n",
            "2.185513973236084\n",
            "2.1855103969573975\n",
            "2.18550705909729\n",
            "2.1855034828186035\n",
            "2.185500144958496\n",
            "2.1854965686798096\n",
            "2.1854934692382812\n",
            "2.1854896545410156\n",
            "2.1854865550994873\n",
            "2.185482978820801\n",
            "2.1854796409606934\n",
            "2.185476303100586\n",
            "2.1854729652404785\n",
            "2.185469388961792\n",
            "2.1854662895202637\n",
            "2.1854629516601562\n",
            "2.185459613800049\n",
            "2.1854562759399414\n",
            "2.185452938079834\n",
            "2.1854498386383057\n",
            "2.185446262359619\n",
            "2.185443162918091\n",
            "2.1854398250579834\n",
            "2.185436487197876\n",
            "2.1854331493377686\n",
            "2.1854300498962402\n",
            "2.185426712036133\n",
            "2.1854236125946045\n",
            "2.185420513153076\n",
            "2.1854171752929688\n",
            "2.1854138374328613\n",
            "2.185410976409912\n",
            "2.1854074001312256\n",
            "2.1854043006896973\n",
            "2.185401201248169\n",
            "2.1853978633880615\n",
            "2.185394525527954\n",
            "2.185391426086426\n",
            "2.1853885650634766\n",
            "2.18538498878479\n",
            "2.185382127761841\n",
            "2.1853790283203125\n",
            "2.185375928878784\n",
            "2.185372829437256\n",
            "2.1853694915771484\n",
            "2.18536639213562\n",
            "2.185363292694092\n",
            "2.1853601932525635\n",
            "2.185357093811035\n",
            "2.185354232788086\n",
            "2.1853513717651367\n",
            "2.1853480339050293\n",
            "2.18534517288208\n",
            "2.1853420734405518\n",
            "2.1853389739990234\n",
            "2.185336112976074\n",
            "2.185333013534546\n",
            "2.1853301525115967\n",
            "2.1853270530700684\n",
            "2.18532395362854\n",
            "2.185321092605591\n",
            "2.1853177547454834\n",
            "2.1853151321411133\n",
            "2.185312271118164\n",
            "2.185309410095215\n",
            "2.1853063106536865\n",
            "2.185303211212158\n",
            "2.185300350189209\n",
            "2.1852974891662598\n",
            "2.1852946281433105\n",
            "2.1852915287017822\n",
            "2.185288667678833\n",
            "2.185285806655884\n",
            "2.1852829456329346\n",
            "2.1852798461914062\n",
            "2.185277223587036\n",
            "2.185274124145508\n",
            "2.1852715015411377\n",
            "2.1852686405181885\n",
            "2.1852657794952393\n",
            "2.18526291847229\n",
            "2.1852598190307617\n",
            "2.1852571964263916\n",
            "2.1852543354034424\n",
            "2.185251474380493\n",
            "2.185248851776123\n",
            "2.185245990753174\n",
            "2.1852431297302246\n",
            "2.1852402687072754\n",
            "2.1852376461029053\n",
            "2.185234546661377\n",
            "2.185231924057007\n",
            "2.1852290630340576\n",
            "2.1852264404296875\n",
            "2.1852235794067383\n",
            "2.185220956802368\n",
            "2.185218334197998\n",
            "2.1852152347564697\n",
            "2.1852128505706787\n",
            "2.1852099895477295\n",
            "2.1852071285247803\n",
            "2.18520450592041\n",
            "2.18520188331604\n",
            "2.185199022293091\n",
            "2.1851963996887207\n",
            "2.1851935386657715\n",
            "2.1851909160614014\n",
            "2.1851882934570312\n",
            "2.1851859092712402\n",
            "2.185183048248291\n",
            "2.185180425643921\n",
            "2.1851775646209717\n",
            "2.1851751804351807\n",
            "2.1851723194122314\n",
            "2.1851699352264404\n",
            "2.185167074203491\n",
            "2.1851646900177\n",
            "2.185161828994751\n",
            "2.18515944480896\n",
            "2.1851565837860107\n",
            "2.1851541996002197\n",
            "2.1851513385772705\n",
            "2.1851489543914795\n",
            "2.1851465702056885\n",
            "2.1851437091827393\n",
            "2.1851413249969482\n",
            "2.185138702392578\n",
            "2.185136079788208\n",
            "2.185133695602417\n",
            "2.1851308345794678\n",
            "2.185128688812256\n",
            "2.1851260662078857\n",
            "2.1851232051849365\n",
            "2.1851210594177246\n",
            "2.1851184368133545\n",
            "2.1851160526275635\n",
            "2.1851131916046143\n",
            "2.1851112842559814\n",
            "2.1851084232330322\n",
            "2.185105562210083\n",
            "2.185103416442871\n",
            "2.18510103225708\n",
            "2.185098886489868\n",
            "2.185096025466919\n",
            "2.185093641281128\n",
            "2.185091257095337\n",
            "2.185088634490967\n",
            "2.185086250305176\n",
            "2.1850838661193848\n",
            "2.1850812435150146\n",
            "2.1850788593292236\n",
            "2.1850764751434326\n",
            "2.1850740909576416\n",
            "2.1850717067718506\n",
            "2.1850693225860596\n",
            "2.1850669384002686\n",
            "2.1850643157958984\n",
            "2.1850621700286865\n",
            "2.1850595474243164\n",
            "2.1850571632385254\n",
            "2.1850547790527344\n",
            "2.1850526332855225\n",
            "2.1850502490997314\n",
            "2.1850476264953613\n",
            "2.1850454807281494\n",
            "2.1850430965423584\n",
            "2.1850407123565674\n",
            "2.1850383281707764\n",
            "2.1850359439849854\n",
            "2.1850337982177734\n",
            "2.1850314140319824\n",
            "2.1850290298461914\n",
            "2.1850266456604004\n",
            "2.1850242614746094\n",
            "2.1850223541259766\n",
            "2.1850197315216064\n",
            "2.1850175857543945\n",
            "2.1850152015686035\n",
            "2.1850128173828125\n",
            "2.1850104331970215\n",
            "2.1850085258483887\n",
            "2.1850061416625977\n",
            "2.1850039958953857\n",
            "2.1850016117095947\n",
            "2.1849992275238037\n",
            "2.1849968433380127\n",
            "2.18499493598938\n",
            "2.184992551803589\n",
            "2.184990406036377\n",
            "2.184988260269165\n",
            "2.184985637664795\n",
            "2.184983491897583\n",
            "2.18498158454895\n",
            "2.184979200363159\n",
            "2.1849770545959473\n",
            "2.1849749088287354\n",
            "2.1849725246429443\n",
            "2.1849703788757324\n",
            "2.1849679946899414\n",
            "2.1849660873413086\n",
            "2.1849634647369385\n",
            "2.1849615573883057\n",
            "2.1849594116210938\n",
            "2.184957504272461\n",
            "2.18495512008667\n",
            "2.184952735900879\n",
            "2.184950828552246\n",
            "2.184948444366455\n",
            "2.184946060180664\n",
            "2.1849443912506104\n",
            "2.1849420070648193\n",
            "2.1849400997161865\n",
            "2.1849379539489746\n",
            "2.1849355697631836\n",
            "2.184933662414551\n",
            "2.184931516647339\n",
            "2.184929370880127\n",
            "2.184927225112915\n",
            "2.184925079345703\n",
            "2.184922933578491\n",
            "2.1849207878112793\n",
            "2.1849191188812256\n",
            "2.1849164962768555\n",
            "2.1849145889282227\n",
            "2.18491268157959\n",
            "2.184910297393799\n",
            "2.184908390045166\n",
            "2.184906482696533\n",
            "2.184904098510742\n",
            "2.1849021911621094\n",
            "2.1849000453948975\n",
            "2.1848978996276855\n",
            "2.1848959922790527\n",
            "2.18489408493042\n",
            "2.184891939163208\n",
            "2.184889554977417\n",
            "2.184887647628784\n",
            "2.1848857402801514\n",
            "2.1848835945129395\n",
            "2.1848819255828857\n",
            "2.184879779815674\n",
            "2.184877395629883\n",
            "2.184875726699829\n",
            "2.1848738193511963\n",
            "2.1848714351654053\n",
            "2.1848697662353516\n",
            "2.1848676204681396\n",
            "2.184865713119507\n",
            "2.184863567352295\n",
            "2.184861421585083\n"
          ]
        }
      ]
    },
    {
      "cell_type": "code",
      "source": [
        "# Before\n",
        "g=torch.Generator().manual_seed(19)\n",
        "\n",
        "for i in range(10):\n",
        "  out=[]\n",
        "  ix=0\n",
        "  while True:\n",
        "    # xenc=F.one_hot(torch.tensor([ix]), num_classes=27).float()\n",
        "    # logits=xenc @ W\n",
        "    # counts =logits.exp()\n",
        "    # p=counts/counts.sum(1,keepdims=True)\n",
        "    p=P[ix]\n",
        "    ix=torch.multinomial(p,num_samples=1,replacement=True,generator=g).item()\n",
        "    out.append(itos[ix])\n",
        "    if ix==0:\n",
        "      break\n",
        "  print(''.join(out))"
      ],
      "metadata": {
        "colab": {
          "base_uri": "https://localhost:8080/"
        },
        "id": "Sml0FDnAq-km",
        "outputId": "f7bd68db-74d9-4041-9d41-19637306a62f"
      },
      "execution_count": 60,
      "outputs": [
        {
          "output_type": "stream",
          "name": "stdout",
          "text": [
            "shajith.\n",
            "meepal.\n",
            "kararaninodijee.\n",
            "sanwnkundeetrilanjer.\n",
            "il.\n",
            "vinkamalsohin.\n",
            "ahubhit.\n",
            "z.\n",
            "shin.\n",
            "sh.\n"
          ]
        }
      ]
    },
    {
      "cell_type": "code",
      "source": [
        "# After\n",
        "g=torch.Generator().manual_seed(19)\n",
        "\n",
        "for i in range(21):\n",
        "  out=[]\n",
        "  ix=0\n",
        "  while True:\n",
        "    xenc=F.one_hot(torch.tensor([ix]), num_classes=27).float()\n",
        "    logits=xenc @ W\n",
        "    counts =logits.exp()\n",
        "    p=counts/counts.sum(1,keepdims=True)\n",
        "    # p=P[ix]\n",
        "    ix=torch.multinomial(p,num_samples=1,replacement=True,generator=g).item()\n",
        "    out.append(itos[ix])\n",
        "    if ix==0:\n",
        "      break\n",
        "  print(''.join(out))"
      ],
      "metadata": {
        "colab": {
          "base_uri": "https://localhost:8080/"
        },
        "id": "HGYlVksNmToi",
        "outputId": "125a46c9-ccaa-436e-c1cd-64642b7b3cff"
      },
      "execution_count": 61,
      "outputs": [
        {
          "output_type": "stream",
          "name": "stdout",
          "text": [
            "shajith.\n",
            "meepal.\n",
            "kararaninodijee.\n",
            "sanwnkundeetrilanjer.\n",
            "il.\n",
            "vinkamalsohin.\n",
            "ahubhit.\n",
            "z.\n",
            "shin.\n",
            "sh.\n",
            "sanjoh.\n",
            "rarisahiti.\n",
            "k.\n",
            "f.\n",
            "gaheserarajeresh.\n",
            "shinan.\n",
            "r.\n",
            "mopriun.\n",
            "pand.\n",
            "shul.\n",
            "saj.\n"
          ]
        }
      ]
    }
  ]
}