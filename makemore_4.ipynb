{
  "cells": [
    {
      "cell_type": "code",
      "execution_count": 1,
      "metadata": {
        "id": "7XD1Km-BNL9M"
      },
      "outputs": [],
      "source": [
        "import torch\n",
        "import torch.nn.functional as F\n",
        "import matplotlib.pyplot as plt"
      ]
    },
    {
      "cell_type": "code",
      "execution_count": 2,
      "metadata": {
        "colab": {
          "base_uri": "https://localhost:8080/"
        },
        "id": "VY1U6E3KPZ7Z",
        "outputId": "e08e29e9-f854-40af-e78d-0f8dde7c8c18"
      },
      "outputs": [
        {
          "output_type": "stream",
          "name": "stdout",
          "text": [
            "--2024-06-10 21:03:08--  https://gist.github.com/mbejda/7f86ca901fe41bc14a63/archive/38adb475c14a3f44df9999c1541f3a72f472b30d.zip\n",
            "Resolving gist.github.com (gist.github.com)... 140.82.112.3\n",
            "Connecting to gist.github.com (gist.github.com)|140.82.112.3|:443... connected.\n",
            "HTTP request sent, awaiting response... 302 Found\n",
            "Location: https://codeload.github.com/gist/7f86ca901fe41bc14a63/zip/38adb475c14a3f44df9999c1541f3a72f472b30d [following]\n",
            "--2024-06-10 21:03:08--  https://codeload.github.com/gist/7f86ca901fe41bc14a63/zip/38adb475c14a3f44df9999c1541f3a72f472b30d\n",
            "Resolving codeload.github.com (codeload.github.com)... 140.82.113.10\n",
            "Connecting to codeload.github.com (codeload.github.com)|140.82.113.10|:443... connected.\n",
            "HTTP request sent, awaiting response... 200 OK\n",
            "Length: unspecified [application/zip]\n",
            "Saving to: ‘38adb475c14a3f44df9999c1541f3a72f472b30d.zip’\n",
            "\n",
            "38adb475c14a3f44df9     [ <=>                ]  68.09K  --.-KB/s    in 0.08s   \n",
            "\n",
            "2024-06-10 21:03:09 (832 KB/s) - ‘38adb475c14a3f44df9999c1541f3a72f472b30d.zip’ saved [69729]\n",
            "\n",
            "Archive:  38adb475c14a3f44df9999c1541f3a72f472b30d.zip\n",
            "38adb475c14a3f44df9999c1541f3a72f472b30d\n",
            "   creating: 7f86ca901fe41bc14a63-38adb475c14a3f44df9999c1541f3a72f472b30d/\n",
            "  inflating: 7f86ca901fe41bc14a63-38adb475c14a3f44df9999c1541f3a72f472b30d/Indian-Male-Names.csv  \n"
          ]
        }
      ],
      "source": [
        "!wget https://gist.github.com/mbejda/7f86ca901fe41bc14a63/archive/38adb475c14a3f44df9999c1541f3a72f472b30d.zip\n",
        "!unzip 38adb475c14a3f44df9999c1541f3a72f472b30d.zip\n",
        "import pandas as pd\n",
        "file_path = '/content/7f86ca901fe41bc14a63-38adb475c14a3f44df9999c1541f3a72f472b30d/Indian-Male-Names.csv'\n",
        "df = pd.read_csv(file_path)\n",
        "names = df['name']\n",
        "output_file = 'names.txt'\n",
        "names.to_csv(output_file, index=False, header=False)"
      ]
    },
    {
      "cell_type": "code",
      "execution_count": 3,
      "metadata": {
        "id": "x5GUvqK_PE3t"
      },
      "outputs": [],
      "source": [
        "# Formatting the data\n",
        "alphabets = set(\"abcdefghijklmnopqrstuvwxyz\")\n",
        "words=open('names.txt','r').read().splitlines()\n",
        "words = [name for name in words if all(char in alphabets for char in name.lower()) and ' ' not in name]\n",
        "words[0]=\"samyak\"\n",
        "words = list(set(words))\n"
      ]
    },
    {
      "cell_type": "code",
      "execution_count": 4,
      "metadata": {
        "id": "m4hqgqrkUf-E",
        "colab": {
          "base_uri": "https://localhost:8080/"
        },
        "outputId": "cd004653-4139-4e23-f1fe-c82fa357a655"
      },
      "outputs": [
        {
          "output_type": "execute_result",
          "data": {
            "text/plain": [
              "2198"
            ]
          },
          "metadata": {},
          "execution_count": 4
        }
      ],
      "source": [
        "len(words) #6429 without filtering"
      ]
    },
    {
      "cell_type": "code",
      "execution_count": 5,
      "metadata": {
        "id": "h_DtNaxGPXVQ",
        "colab": {
          "base_uri": "https://localhost:8080/"
        },
        "outputId": "b83b16c2-65ab-4262-bab5-bc5838601939"
      },
      "outputs": [
        {
          "output_type": "execute_result",
          "data": {
            "text/plain": [
              "{1: 'a',\n",
              " 2: 'b',\n",
              " 3: 'c',\n",
              " 4: 'd',\n",
              " 5: 'e',\n",
              " 6: 'f',\n",
              " 7: 'g',\n",
              " 8: 'h',\n",
              " 9: 'i',\n",
              " 10: 'j',\n",
              " 11: 'k',\n",
              " 12: 'l',\n",
              " 13: 'm',\n",
              " 14: 'n',\n",
              " 15: 'o',\n",
              " 16: 'p',\n",
              " 17: 'q',\n",
              " 18: 'r',\n",
              " 19: 's',\n",
              " 20: 't',\n",
              " 21: 'u',\n",
              " 22: 'v',\n",
              " 23: 'w',\n",
              " 24: 'x',\n",
              " 25: 'y',\n",
              " 26: 'z',\n",
              " 0: '.'}"
            ]
          },
          "metadata": {},
          "execution_count": 5
        }
      ],
      "source": [
        "# Building the vocabulary of characters and maping to/from integers\n",
        "chars=sorted(list(set(''.join(words))))\n",
        "stoi= {s:i+1 for i,s in enumerate(chars)}\n",
        "stoi['.']=0\n",
        "itos={i:s for s,i in stoi.items()}\n",
        "itos"
      ]
    },
    {
      "cell_type": "code",
      "execution_count": 6,
      "metadata": {
        "id": "7AzHV078PguZ"
      },
      "outputs": [],
      "source": [
        "# Building the dataset\n",
        "block_size=3\n",
        "def build_dataset(words):\n",
        "\n",
        "  X,Y=[],[]\n",
        "\n",
        "  for w in words:\n",
        "    # print(w)\n",
        "    context=[0]*block_size\n",
        "    for ch in w+ '.':\n",
        "      ix=stoi[ch]\n",
        "      X.append(context)\n",
        "      Y.append(ix)\n",
        "      # print(''.join(itos[i] for i in context),'--->', itos[ix])\n",
        "      context=context[1:]+[ix]\n",
        "  X=torch.tensor(X)\n",
        "  Y=torch.tensor(Y)\n",
        "  return X,Y\n",
        "\n",
        "import random\n",
        "random.seed(42)\n",
        "random.shuffle(words)\n",
        "n1=int(0.8*len(words))\n",
        "n2=int(0.9*len(words))\n",
        "\n",
        "Xtr,Ytr=build_dataset(words[:n1])\n",
        "Xdev,Ydev=build_dataset(words[n1:n2])\n",
        "Xte,Yte=build_dataset(words[n2:])"
      ]
    },
    {
      "cell_type": "code",
      "execution_count": 7,
      "metadata": {
        "id": "Uk4EcFqnI2bq",
        "colab": {
          "base_uri": "https://localhost:8080/"
        },
        "outputId": "26f56d0f-1e3a-4fe5-b3a9-af2f9ef276af"
      },
      "outputs": [
        {
          "output_type": "execute_result",
          "data": {
            "text/plain": [
              "(torch.Size([13442, 3]),\n",
              " torch.Size([13442]),\n",
              " torch.Size([1691, 3]),\n",
              " torch.Size([1691]),\n",
              " torch.Size([1672, 3]),\n",
              " torch.Size([1672]))"
            ]
          },
          "metadata": {},
          "execution_count": 7
        }
      ],
      "source": [
        "# Dataset\n",
        "Xtr.shape, Ytr.shape,Xdev.shape, Ydev.shape,Xte.shape, Yte.shape"
      ]
    },
    {
      "cell_type": "code",
      "execution_count": 8,
      "metadata": {
        "id": "RRzIIYL59VYI"
      },
      "outputs": [],
      "source": [
        "def cmp(s,dt,t):\n",
        "  ex=torch.all(dt == t.grad).item()\n",
        "  app=torch.allclose(dt,t.grad)\n",
        "  maxdiff=(dt-t.grad).abs().max().item()\n",
        "  print(f'{s:15s} | exact: {str(ex):5s} | approximate:{str(app):5s} | maxdiff: {maxdiff}')"
      ]
    },
    {
      "cell_type": "code",
      "execution_count": 9,
      "metadata": {
        "id": "pP7yQd05I4jy",
        "colab": {
          "base_uri": "https://localhost:8080/"
        },
        "outputId": "bc687649-461f-46bb-8657-d08cf679d032"
      },
      "outputs": [
        {
          "output_type": "stream",
          "name": "stdout",
          "text": [
            "297\n"
          ]
        }
      ],
      "source": [
        "# Hyperparameter for the model\n",
        "embedding_input=2\n",
        "emb_input=block_size*embedding_input\n",
        "neurons=6\n",
        "outputs=27\n",
        "# ----\n",
        "\n",
        "g=torch.Generator().manual_seed(19)\n",
        "C=torch.randn((outputs,embedding_input),generator=g)\n",
        "# Layer 1\n",
        "W1=torch.randn((emb_input,neurons)     ,generator=g) * (5/3)/(emb_input**0.5)\n",
        "b1=torch.randn(neurons                 ,generator=g) *0.1\n",
        "#Layer 2\n",
        "W2=torch.randn((neurons,outputs)       ,generator=g) *0.1\n",
        "b2=torch.randn(outputs                 ,generator=g) *0.1\n",
        "# BatchNorm params\n",
        "bngain=torch.randn((1,neurons))*0.1+1.0\n",
        "bnbias=torch.randn((1,neurons))*0.1\n",
        "\n",
        "parameters=[C,W1,b1,W2,b2,bngain,bnbias]\n",
        "total_elements=0\n",
        "for p in parameters:\n",
        "    total_elements += p.nelement()\n",
        "print(total_elements)\n",
        "for p in parameters:\n",
        "  p.requires_grad=True"
      ]
    },
    {
      "cell_type": "code",
      "execution_count": 10,
      "metadata": {
        "id": "rxsKTUjMD8PC"
      },
      "outputs": [],
      "source": [
        "batch_size=16\n",
        "n=batch_size\n",
        "# minibatch construct\n",
        "ix = torch.randint(0,Xtr.shape[0],(batch_size,),generator=g)\n",
        "Xb,Yb=Xtr[ix],Ytr[ix]\n"
      ]
    },
    {
      "cell_type": "code",
      "execution_count": 11,
      "metadata": {
        "id": "zlN5zywBJ3JZ",
        "colab": {
          "base_uri": "https://localhost:8080/"
        },
        "outputId": "800fd5d6-0851-452f-c340-4317b29f6739"
      },
      "outputs": [
        {
          "output_type": "stream",
          "name": "stdout",
          "text": [
            "3.2418954372406006\n"
          ]
        }
      ],
      "source": [
        "\n",
        "# Forward pass\n",
        "emb=C[Xb]\n",
        "embcat=emb.view(emb.shape[0],-1)\n",
        "# Linear layer 1\n",
        "hprebn=embcat @ W1 +b1\n",
        "# BatchNorm layer\n",
        "bnmeani=1/n*hprebn.sum(0,keepdim=True)\n",
        "bndiff=hprebn-bnmeani\n",
        "bndiff2=bndiff**2\n",
        "bnvar=1/(n-1)*(bndiff2).sum(0,keepdim=True) #Bessel's correction i.e dividing by (n-1) not n\n",
        "bnvar_inv=(bnvar+1e-5)**-0.5\n",
        "bnraw=bndiff*bnvar_inv\n",
        "hpreact= bngain*bnraw+bnbias\n",
        "# Non Linearity\n",
        "h=torch.tanh(hpreact) # hidden Layer\n",
        "\n",
        "# Linear Layer 2\n",
        "logits=h @W2 +b2 # output layer\n",
        "\n",
        "# Before\n",
        "\n",
        "# logit_maxes=logits.max(1,keepdim=True).values\n",
        "# norm_logits=logits-logit_maxes\n",
        "# counts=norm_logits.exp()\n",
        "# counts_sum=counts.sum(1,keepdims=True)\n",
        "# counts_sum_inv=counts_sum**-1\n",
        "# probs=counts*counts_sum_inv\n",
        "# logprobs=probs.log()\n",
        "# loss=-logprobs[range(n),Yb].mean()\n",
        "# # Pytorch backward pass\n",
        "# for p in parameters:\n",
        "#   p.grad=None\n",
        "# for t in [logprobs,probs,counts_sum_inv,counts_sum,counts,norm_logits,\n",
        "#           logit_maxes,logits,h,hpreact,bnraw,bnvar_inv,bnvar,\n",
        "#           bndiff2,bndiff,bnmeani,hprebn,embcat,emb]:\n",
        "\n",
        "# After\n",
        "\n",
        "loss=F.cross_entropy(logits,Yb)\n",
        "# Pytorch backward pass\n",
        "for p in parameters:\n",
        "  p.grad=None\n",
        "for t in [loss,logits,h,hpreact,bnraw,bnvar_inv,bnvar,\n",
        "          bndiff2,bndiff,bnmeani,hprebn,embcat,emb]:\n",
        "  t.retain_grad()\n",
        "loss.backward()\n",
        "print(loss.item())\n"
      ]
    },
    {
      "cell_type": "code",
      "execution_count": 12,
      "metadata": {
        "id": "ARvY66a-M6eN",
        "colab": {
          "base_uri": "https://localhost:8080/"
        },
        "outputId": "5f4e2867-2bb0-440e-8b6e-a14f917c38e5"
      },
      "outputs": [
        {
          "output_type": "execute_result",
          "data": {
            "text/plain": [
              "(torch.Size([16, 3, 2]),\n",
              " torch.Size([27, 2]),\n",
              " torch.Size([16, 3]),\n",
              " tensor([[ 1, 12,  5],\n",
              "         [ 5, 19,  8],\n",
              "         [18,  5,  8],\n",
              "         [ 0,  0, 13],\n",
              "         [21, 14, 20]]))"
            ]
          },
          "metadata": {},
          "execution_count": 12
        }
      ],
      "source": [
        "emb.shape, C.shape,Xb.shape,Xb[:5]"
      ]
    },
    {
      "cell_type": "code",
      "source": [
        "C[1],emb[1,2]"
      ],
      "metadata": {
        "colab": {
          "base_uri": "https://localhost:8080/"
        },
        "id": "DOf-ElD1khZH",
        "outputId": "5858c5c8-cb63-49c9-bf08-9673f0dadec5"
      },
      "execution_count": 13,
      "outputs": [
        {
          "output_type": "execute_result",
          "data": {
            "text/plain": [
              "(tensor([ 0.0273, -0.4079], grad_fn=<SelectBackward0>),\n",
              " tensor([-0.6840, -0.0029], grad_fn=<SelectBackward0>))"
            ]
          },
          "metadata": {},
          "execution_count": 13
        }
      ]
    },
    {
      "cell_type": "code",
      "execution_count": 17,
      "metadata": {
        "id": "ad9M-UOLHtJR",
        "colab": {
          "base_uri": "https://localhost:8080/"
        },
        "outputId": "a4c29ec5-a250-414f-a0c3-ecd2f1b925a0"
      },
      "outputs": [
        {
          "output_type": "stream",
          "name": "stdout",
          "text": [
            "logits          | exact: False | approximate:True  | maxdiff: 3.725290298461914e-09\n",
            "h               | exact: False | approximate:True  | maxdiff: 9.313225746154785e-10\n",
            "W2              | exact: False | approximate:True  | maxdiff: 7.450580596923828e-09\n",
            "b2              | exact: False | approximate:True  | maxdiff: 1.4901161193847656e-08\n",
            "hpreact         | exact: False | approximate:True  | maxdiff: 9.313225746154785e-10\n",
            "hprebn          | exact: False | approximate:True  | maxdiff: 1.862645149230957e-09\n",
            "embcat          | exact: False | approximate:True  | maxdiff: 1.862645149230957e-09\n",
            "W1              | exact: False | approximate:True  | maxdiff: 5.587935447692871e-09\n",
            "b1              | exact: False | approximate:True  | maxdiff: 5.122274160385132e-09\n",
            "emb             | exact: False | approximate:True  | maxdiff: 1.862645149230957e-09\n",
            "C               | exact: False | approximate:True  | maxdiff: 3.259629011154175e-09\n"
          ]
        }
      ],
      "source": [
        "# Before\n",
        "\n",
        "# dlogprobs = torch.zeros_like(logprobs)\n",
        "# dlogprobs[range(n),Yb]=-1.0/n\n",
        "# dprobs=(1.0/probs) * dlogprobs\n",
        "# dcounts_sum_inv=(counts * dprobs).sum(1,keepdim=True)\n",
        "# dcounts= counts_sum_inv*dprobs\n",
        "# dcounts_sum=(-counts_sum**-2) * dcounts_sum_inv\n",
        "# dcounts+= torch.ones_like(counts)*dcounts_sum\n",
        "# dnorm_logits=counts*dcounts\n",
        "# dlogits=dnorm_logits.clone()\n",
        "# dlogit_maxes=  -1.0*dnorm_logits.sum(1,keepdim=True)\n",
        "# dlogits+= F.one_hot(logits.max(1).indices,num_classes=logits.shape[1])*dlogit_maxes\n",
        "\n",
        "# After\n",
        "\n",
        "dlogits = F.softmax(logits,1)\n",
        "dlogits[range(n),Yb]-=1\n",
        "dlogits /= n\n",
        "\n",
        "dh= dlogits @ W2.T\n",
        "dW2=h.T @ dlogits\n",
        "db2=dlogits.sum(0,keepdim=True)\n",
        "dhpreact=(1 - h**2) * dh\n",
        "dbngain= (bnraw * dhpreact).sum(0,keepdim=True)\n",
        "dbnraw=dhpreact * bngain\n",
        "dbnbias=dhpreact.sum(0,keepdim=True)\n",
        "# dbndiff= bnvar_inv*dbnraw\n",
        "# dbnvar_inv= (bndiff * dbnraw).sum(0,keepdim=True)\n",
        "# dbnvar=(-0.5*(bnvar + 1e-5)**-1.5) * dbnvar_inv\n",
        "# dbndiff2= ((1.0/(n-1))*torch.ones_like(bndiff2))*dbnvar\n",
        "# dbndiff+= 2*bndiff*dbndiff2\n",
        "# dhprebn=1.0*dbndiff.clone()\n",
        "# dbnmeani=-dbndiff.sum(0,keepdim=True)\n",
        "# dhprebn+=(1/n)*torch.ones_like(hprebn)*dbnmeani\n",
        "dhprebn=bngain*bnvar_inv/n*(n*dhpreact-dhpreact.sum(0)-(n/(n-1))*bnraw*(dhpreact*bnraw).sum(0))\n",
        "dembcat= dhprebn @ W1.T\n",
        "dW1= embcat.T @ dhprebn\n",
        "db1 = 1.0*dhprebn.sum(0,keepdim=True)\n",
        "demb=dembcat.view(emb.shape)\n",
        "dC=torch.zeros_like(C)\n",
        "for k in range(Xb.shape[0]):\n",
        "  for j in range(Xb.shape[1]):\n",
        "    ix=Xb[k,j]\n",
        "    dC[ix]+=demb[k,j]\n",
        "\n",
        "# cmp('logprobs',dlogprobs,logprobs)\n",
        "# cmp('probs',dprobs,probs)\n",
        "# cmp('counts_sum_inv',dcounts_sum_inv,counts_sum_inv)\n",
        "# cmp('counts_sum',dcounts_sum,counts_sum)\n",
        "# cmp('counts',dcounts,counts)\n",
        "# cmp('norm_logits',dnorm_logits,norm_logits)\n",
        "# cmp('logit_maxes',dlogit_maxes,logit_maxes)\n",
        "cmp('logits',dlogits,logits)\n",
        "cmp('h',dh,h)\n",
        "cmp('W2',dW2,W2)\n",
        "cmp('b2',db2,b2)\n",
        "cmp('hpreact',dhpreact,hpreact)\n",
        "# cmp('bngain',dbngain,bngain)\n",
        "# cmp('bnraw',dbnraw,bnraw)\n",
        "# cmp('bnbias',dbnbias,bnbias)\n",
        "# cmp('bnvar_inv',dbnvar_inv,bnvar_inv)\n",
        "# cmp('bnvar',dbnvar,bnvar)\n",
        "# cmp('bndiff2' ,dbndiff2,bndiff2)\n",
        "# cmp('bndiff',dbndiff,bndiff)\n",
        "# cmp('bnmeani',dbnmeani,bnmeani)\n",
        "cmp('hprebn',dhprebn,hprebn)\n",
        "cmp('embcat',dembcat,embcat)\n",
        "cmp('W1',dW1,W1)\n",
        "cmp('b1',db1,b1)\n",
        "cmp('emb',demb,emb)\n",
        "cmp('C',dC,C)"
      ]
    },
    {
      "cell_type": "code",
      "execution_count": 39,
      "metadata": {
        "id": "ElDeHxotHtCI",
        "colab": {
          "base_uri": "https://localhost:8080/"
        },
        "outputId": "24d74517-725b-4d95-9ae9-41c2d890e0b9"
      },
      "outputs": [
        {
          "output_type": "stream",
          "name": "stdout",
          "text": [
            "297\n",
            "      1/  30000:3.3160\n",
            "      1/  30000:2.4619\n",
            "      1/  30000:2.3871\n",
            "2.929645299911499\n"
          ]
        }
      ],
      "source": [
        "# Hyperparameter for the model\n",
        "embedding_input=2\n",
        "emb_input=block_size*embedding_input\n",
        "neurons=6\n",
        "outputs=27\n",
        "# ----\n",
        "\n",
        "g=torch.Generator().manual_seed(19)\n",
        "C=torch.randn((outputs,embedding_input),generator=g)\n",
        "# Layer 1\n",
        "W1=torch.randn((emb_input,neurons)     ,generator=g) * (5/3)/(emb_input**0.5)\n",
        "b1=torch.randn(neurons                 ,generator=g) *0.1\n",
        "#Layer 2\n",
        "W2=torch.randn((neurons,outputs)       ,generator=g) *0.1\n",
        "b2=torch.randn(outputs                 ,generator=g) *0.1\n",
        "# BatchNorm params\n",
        "bngain=torch.randn((1,neurons))*0.1+1.0\n",
        "bnbias=torch.randn((1,neurons))*0.1\n",
        "\n",
        "parameters=[C,W1,b1,W2,b2,bngain,bnbias]\n",
        "total_elements=0\n",
        "for p in parameters:\n",
        "    total_elements += p.nelement()\n",
        "print(total_elements)\n",
        "for p in parameters:\n",
        "  p.requires_grad=True\n",
        "\n",
        "# Hyperparameters\n",
        "lri=[]\n",
        "stepi=[]\n",
        "lossi=[]\n",
        "batch_size=16\n",
        "max_steps=30000\n",
        "lrs_e=[0.1,0.01]\n",
        "ud=[]\n",
        "batch_size=16\n",
        "n=batch_size\n",
        "\n",
        "with torch.no_grad():\n",
        "  for i in range(max_steps):\n",
        "    # minibatch construct\n",
        "    ix = torch.randint(0,Xtr.shape[0],(batch_size,),generator=g)\n",
        "    Xb,Yb=Xtr[ix],Ytr[ix]\n",
        "    # Forward pass\n",
        "    emb=C[Xb]\n",
        "    embcat=emb.view(emb.shape[0],-1)\n",
        "    # Linear layer 1\n",
        "    hprebn=embcat @ W1 +b1\n",
        "    # BatchNorm layer\n",
        "    bnmeani=1/n*hprebn.sum(0,keepdim=True)\n",
        "    bndiff=hprebn-bnmeani\n",
        "    bndiff2=bndiff**2\n",
        "    bnvar=1/(n-1)*(bndiff2).sum(0,keepdim=True) #Bessel's correction i.e dividing by (n-1) not n\n",
        "    bnvar_inv=(bnvar+1e-5)**-0.5\n",
        "    bnraw=bndiff*bnvar_inv\n",
        "    hpreact= bngain*bnraw+bnbias\n",
        "    # Non Linearity\n",
        "    h=torch.tanh(hpreact) # hidden Layer\n",
        "\n",
        "    # Linear Layer 2\n",
        "    logits=h @W2 +b2 # output layer\n",
        "\n",
        "\n",
        "    loss=F.cross_entropy(logits,Yb)\n",
        "    # Pytorch backward pass\n",
        "    for p in parameters:\n",
        "      p.grad=None\n",
        "\n",
        "    # manual backward pass\n",
        "\n",
        "    dlogits = F.softmax(logits,1)\n",
        "    dlogits[range(n),Yb]-=1\n",
        "    dlogits /= n\n",
        "    # 2nd layer bp\n",
        "    dh= dlogits @ W2.T\n",
        "    dW2=h.T @ dlogits\n",
        "    db2=dlogits.sum(0)\n",
        "    # tanh\n",
        "    dhpreact=(1.0 - h**2) * dh\n",
        "    # batchnorm layer  bp\n",
        "    dbngain= (bnraw * dhpreact).sum(0,keepdim=True)\n",
        "    dbnbias=dhpreact.sum(0,keepdim=True)\n",
        "    dhprebn=bngain*bnvar_inv/n*(n*dhpreact-dhpreact.sum(0)-(n/(n-1))*bnraw*(dhpreact*bnraw).sum(0))\n",
        "    # 1st layer\n",
        "    dembcat= dhprebn @ W1.T\n",
        "    dW1= embcat.T @ dhprebn\n",
        "    db1 = 1.0*dhprebn.sum(0)\n",
        "    # embedding\n",
        "    demb=dembcat.view(emb.shape)\n",
        "    dC=torch.zeros_like(C)\n",
        "    for k in range(Xb.shape[0]):\n",
        "      for j in range(Xb.shape[1]):\n",
        "        ix=Xb[k,j]\n",
        "        dC[ix]+=demb[k,j]\n",
        "    grads=[dC,dW1,db1,dW2,db2,dbngain,dbnbias]\n",
        "\n",
        "    # Update\n",
        "\n",
        "    lr=0.1 if i<10000 else 0.01\n",
        "    for p,grad in zip(parameters,grads):\n",
        "      p.data+= -lr*grad\n",
        "\n",
        "    # Track stats\n",
        "\n",
        "    if i % 10000==0:\n",
        "      print(f'{1:7d}/{max_steps:7d}:{loss.item():.4f}')\n",
        "    lossi.append(loss.log10().item())\n",
        "  print(loss.item())\n"
      ]
    },
    {
      "cell_type": "code",
      "execution_count": 40,
      "metadata": {
        "id": "9I7a6nlRKz5g",
        "colab": {
          "base_uri": "https://localhost:8080/"
        },
        "outputId": "ee2e99fe-334f-4288-c79f-f67a83a8c6d2"
      },
      "outputs": [
        {
          "output_type": "stream",
          "name": "stdout",
          "text": [
            "train 3.214226245880127\n",
            "val 3.2442266941070557\n",
            "test 3.23159122467041\n"
          ]
        }
      ],
      "source": [
        "@torch.no_grad()\n",
        "def split_loss(split):\n",
        "  x,y={\n",
        "      'train':{Xtr,Ytr},\n",
        "      'val':{Xdev,Ydev},\n",
        "      'test':{Xte,Yte},\n",
        "  }[split]\n",
        "  emb=C[x]\n",
        "  embcat=emb.view(emb.shape[0],-1)\n",
        "  hprebn=embcat @ W1 +b1\n",
        "  bnmeani=1/n*hprebn.sum(0,keepdim=True)\n",
        "  bndiff=hprebn-bnmeani\n",
        "  bndiff2=bndiff**2\n",
        "  bnvar=1/(n-1)*(bndiff2).sum(0,keepdim=True) #Bessel's correction i.e dividing by (n-1) not n\n",
        "  bnvar_inv=(bnvar+1e-5)**-0.5\n",
        "  bnraw=bndiff*bnvar_inv\n",
        "  hpreact= bngain*bnraw+bnbias\n",
        "  hpreact=bngain*(hpreact-bnmeani)+bnbias\n",
        "  h=torch.tanh(hpreact)\n",
        "  logits=h @ W2+b2\n",
        "  loss=F.cross_entropy(logits,y)\n",
        "  print(split,loss.item())\n",
        "\n",
        "split_loss('train')\n",
        "split_loss('val')\n",
        "split_loss('test')"
      ]
    },
    {
      "cell_type": "code",
      "execution_count": 41,
      "metadata": {
        "id": "rcBqUE_6xRYp"
      },
      "outputs": [],
      "source": [
        "# loss log\n",
        "\n",
        "# orig\n",
        "# train 2.163638381958008\n",
        "# val 2.1569042205810547\n",
        "\n",
        "# softmax\n",
        "# train 2.133638381958008\n",
        "# val 2.1569042205810547\n",
        "\n",
        "# tanh\n",
        "# train 2.0898821353912354\n",
        "# val 2.0876331329345703\n",
        "\n",
        "# initializing changes\n",
        "# train 2.0980582237243652\n",
        "# val 2.101440668106079\n",
        "\n",
        "# batch norm\n",
        "# train 2.057295083999634\n",
        "# val 2.196613073348999\n",
        "\n",
        "# reducing the params by a lot\n",
        "# train 2.345360040664673\n",
        "# val 2.357156753540039\n",
        "# test 2.397008180618286\n",
        "\n",
        "# manual back propogation (i dont remember the previous params...)\n",
        "# train 3.214226245880127\n",
        "# val 3.2442266941070557\n",
        "# test 3.23159122467041"
      ]
    },
    {
      "cell_type": "code",
      "execution_count": 42,
      "metadata": {
        "id": "t1rPshNvTQ7p",
        "colab": {
          "base_uri": "https://localhost:8080/",
          "height": 676
        },
        "outputId": "c45c181e-214f-465c-aaf5-fc04d55401ee"
      },
      "outputs": [
        {
          "output_type": "display_data",
          "data": {
            "text/plain": [
              "<Figure size 800x800 with 1 Axes>"
            ],
            "image/png": "[encoded data removed]"
          },
          "metadata": {}
        }
      ],
      "source": [
        "plt.figure(figsize=(8,8))\n",
        "plt.scatter(C[:,0].data,C[:,1].data,s=200)\n",
        "for i in range(C.shape[0]):\n",
        "  plt.text(C[i,0].item(),C[i,1].item(),itos[i],ha=\"center\",color=\"white\")\n",
        "  plt.grid('minor')"
      ]
    },
    {
      "cell_type": "code",
      "execution_count": 43,
      "metadata": {
        "id": "jNImRN_cPnU0",
        "colab": {
          "base_uri": "https://localhost:8080/"
        },
        "outputId": "3f09f001-ec26-4847-c7ee-141b78506408"
      },
      "outputs": [
        {
          "output_type": "stream",
          "name": "stdout",
          "text": [
            "samjinnrmeapprek.\n",
            "sara.\n",
            "pumaajzi.\n",
            "sand.\n",
            "kand.\n",
            "maralanjez.\n",
            "ilampuramalschangaambha.\n",
            "lapshanpav.\n",
            "sajjonhav.\n",
            "pagapai.\n",
            "kaf.\n",
            "garans.\n",
            "arljebches.\n",
            "shaanhaqamp.\n",
            "iushubama.\n",
            "hal.\n",
            "saaja.\n",
            "kokpa.\n",
            "paran.\n",
            "map.\n"
          ]
        }
      ],
      "source": [
        "# Sample from the model\n",
        "g=torch.Generator().manual_seed(19)\n",
        "\n",
        "for _ in range(20):\n",
        "  out=[]\n",
        "  context=[0]* block_size\n",
        "  while True:\n",
        "    emb=C[torch.tensor([context])]\n",
        "    embcat=emb.view(emb.shape[0],-1)\n",
        "    hprebn=embcat @ W1 +b1\n",
        "    bnmeani=1/n*hprebn.sum(0,keepdim=True)\n",
        "    bndiff=hprebn-bnmeani\n",
        "    bndiff2=bndiff**2\n",
        "    bnvar=1/(n-1)*(bndiff2).sum(0,keepdim=True) #Bessel's correction i.e dividing by (n-1) not n\n",
        "    bnvar_inv=(bnvar+1e-5)**-0.5\n",
        "    bnraw=bndiff*bnvar_inv\n",
        "    hpreact= bngain*bnraw+bnbias\n",
        "    hpreact=bngain*(hpreact-bnmeani)+bnbias\n",
        "    h=torch.tanh(hpreact)\n",
        "    logits=h @ W2+b2\n",
        "    probs=F.softmax(logits,dim=1)\n",
        "    ix=torch.multinomial(probs, num_samples=1, generator=g).item()\n",
        "    context=context[1:]+[ix]\n",
        "    out.append(ix)\n",
        "    if ix==0:\n",
        "      break\n",
        "  print(''.join(itos[i] for i in out))"
      ]
    },
    {
      "cell_type": "code",
      "execution_count": 44,
      "metadata": {
        "id": "AzkI0Yww8r2X",
        "colab": {
          "base_uri": "https://localhost:8080/",
          "height": 676
        },
        "outputId": "0831131e-7a7b-4ab3-f944-3f96e1c2ebd2"
      },
      "outputs": [
        {
          "output_type": "display_data",
          "data": {
            "text/plain": [
              "<Figure size 800x800 with 1 Axes>"
            ],
            "image/png": "[encoded data removed]"
          },
          "metadata": {}
        }
      ],
      "source": [
        "plt.figure(figsize=(8,8))\n",
        "plt.scatter(C[:,0].data,C[:,1].data,s=200)\n",
        "for i in range(C.shape[0]):\n",
        "  plt.text(C[i,0].item(),C[i,1].item(),itos[i],ha=\"center\",color=\"white\")\n",
        "  plt.grid('minor')"
      ]
    },
    {
      "cell_type": "code",
      "source": [],
      "metadata": {
        "id": "oSmpXGugB2lG"
      },
      "execution_count": null,
      "outputs": []
    }
  ],
  "metadata": {
    "colab": {
      "provenance": []
    },
    "kernelspec": {
      "display_name": "Python 3",
      "name": "python3"
    },
    "language_info": {
      "name": "python"
    }
  },
  "nbformat": 4,
  "nbformat_minor": 0
}